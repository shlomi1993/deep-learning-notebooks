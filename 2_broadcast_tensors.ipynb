{
  "cells": [
    {
      "cell_type": "markdown",
      "metadata": {
        "id": "view-in-github",
        "colab_type": "text"
      },
      "source": [
        "<a href=\"https://colab.research.google.com/github/shlomi1993/deep-learning-notebooks/blob/main/2_broadcast_tensors.ipynb\" target=\"_parent\"><img src=\"https://colab.research.google.com/assets/colab-badge.svg\" alt=\"Open In Colab\"/></a>"
      ]
    },
    {
      "cell_type": "markdown",
      "metadata": {
        "id": "q_-nRwUbpkYb"
      },
      "source": [
        "# Broadcast Tensors"
      ]
    },
    {
      "cell_type": "markdown",
      "metadata": {
        "id": "IigrOW_FpkYc"
      },
      "source": [
        "## Imports and Utilities"
      ]
    },
    {
      "cell_type": "code",
      "execution_count": null,
      "metadata": {
        "id": "K0oy-CUWpkYc"
      },
      "outputs": [],
      "source": [
        "from typing import Tuple\n",
        "from torch import Tensor, tensor, zeros, cat, broadcast_tensors as reference_broadcast_tensors"
      ]
    },
    {
      "cell_type": "code",
      "execution_count": null,
      "metadata": {
        "id": "hof5R3YbpkYd"
      },
      "outputs": [],
      "source": [
        "EXPANSION_ERROR = \"Cannot expand tensor of shape {} to shape {}\"\n",
        "\n",
        "class ExpansionError(Exception):\n",
        "    pass\n",
        "\n",
        "class BroadcastError(Exception):\n",
        "    pass"
      ]
    },
    {
      "cell_type": "markdown",
      "metadata": {
        "id": "KURSChMopkYd"
      },
      "source": [
        "## Expand As"
      ]
    },
    {
      "cell_type": "markdown",
      "metadata": {
        "id": "QQeX3nr2pkYd"
      },
      "source": [
        "The `expand_as` function expands a given tensor `A` to match the shape of another tensor `B`. If A has fewer dimensions than `B`, it prepends singleton dimensions (size 1) to `A` and reshapes it accordingly. Then, for each dimension where `A` has size 1 and `B` has a larger size, it replicates A using `torch.cat` to match `B`'s size in that dimension. If `A` initially has more dimensions than `B` or if the final shape doesn't match `B`'s shape, the function raises an ExpansionError. This is useful for preparing tensors for broadcasting in element-wise operations."
      ]
    },
    {
      "cell_type": "code",
      "execution_count": null,
      "metadata": {
        "id": "qcRiAs7IpkYd"
      },
      "outputs": [],
      "source": [
        "def expand_as(A: Tensor, B: Tensor) -> Tensor:\n",
        "    \"\"\"\n",
        "    Expands tensor A to match the shape of tensor B by adding leading singleton dimensions and replicating values along\n",
        "    dimensions where necessary.\n",
        "\n",
        "    Args:\n",
        "        A (Tensor): The tensor to be expanded.\n",
        "        B (Tensor): The target tensor whose shape A should match.\n",
        "\n",
        "    Returns:\n",
        "        Tensor: A new tensor with the same shape as B, obtained by expanding A.\n",
        "\n",
        "    Raises:\n",
        "        ExpansionError: If A has more dimensions than B or if expansion fails.\n",
        "\n",
        "    Example:\n",
        "        >>> A = torch.tensor([1, 2, 3])  # Shape: (3,)\n",
        "        >>> B = torch.zeros((2, 3))      # Shape: (2, 3)\n",
        "        >>> expanded_A = expand_as(A, B) # Shape: (2, 3)\n",
        "    \"\"\"\n",
        "    # If A has more dimensions than B, raise an error because it's not possible to expand\n",
        "    if len(A.shape) > len(B.shape):\n",
        "        raise ExpansionError(EXPANSION_ERROR.format(A.shape, B.shape))\n",
        "\n",
        "    # Add leading 1s to A's shape to match the number of dimensions in B\n",
        "    new_shape_list = [1] * (len(B.shape) - len(A.shape)) + list(A.shape)\n",
        "\n",
        "    # Clone A to avoid modifying the original tensor and reshape A to match the new shape with leading 1s.\n",
        "    expanded_A = A.clone().reshape(*new_shape_list)\n",
        "\n",
        "    # For each dimension of B, expand A if necessary by creating multiple copies along the dimension using cat\n",
        "    for i in range(len(B.shape)):\n",
        "        if expanded_A.shape[i] == 1 and B.shape[i] != 1:\n",
        "            expanded_A = cat([expanded_A] * B.shape[i], dim=i)\n",
        "\n",
        "    # Raise an error if the resulting tensor shape doesn't matches B's shape\n",
        "    if expanded_A.shape != B.shape:\n",
        "        raise ExpansionError(EXPANSION_ERROR.format(A.shape, B.shape))\n",
        "\n",
        "    # Return the expanded tensor.\n",
        "    return expanded_A"
      ]
    },
    {
      "cell_type": "markdown",
      "metadata": {
        "id": "D9PdaHhIpkYe"
      },
      "source": [
        "### Testing `expand_as`"
      ]
    },
    {
      "cell_type": "code",
      "execution_count": null,
      "metadata": {
        "colab": {
          "base_uri": "https://localhost:8080/"
        },
        "id": "57c1CwQbpkYe",
        "outputId": "bb6d1ca5-1523-440e-df51-6aac94608316"
      },
      "outputs": [
        {
          "output_type": "stream",
          "name": "stdout",
          "text": [
            "All tests passed!\n"
          ]
        }
      ],
      "source": [
        "A = tensor([[1], [2], [3]])  # Shape (3, 1)\n",
        "B = zeros((3, 4))            # Shape (3, 4)\n",
        "assert A.shape != B.shape, \"Test case 1 pre-condition failed\"\n",
        "expanded_A = expand_as(A, B)\n",
        "assert expanded_A.shape == B.shape, \"Test case 1 failed\"\n",
        "\n",
        "A = tensor([[1], [2], [3]])  # Shape (3, 1)\n",
        "B = zeros((3, 4))            # Shape (3, 4)\n",
        "A_BACKUP = A.clone()\n",
        "B_BACKUP = B.clone()\n",
        "_ = expand_as(A, B)\n",
        "assert A.equal(A_BACKUP) and B.equal(B_BACKUP), \"Test case 2 failed\"\n",
        "\n",
        "A = tensor([1])              # Shape (1, )\n",
        "B = zeros((2, 3, 4))         # Shape (2, 3, 4)\n",
        "expanded_A = expand_as(A, B)\n",
        "assert expanded_A.shape == B.shape, \"Test case 3 failed\"\n",
        "\n",
        "A = tensor([1, 2, 3])        # Shape (3, )\n",
        "B = zeros((3, 4))            # Shape (3, 4)\n",
        "try:\n",
        "    _ = expand_as(A, B)\n",
        "    assert False, \"Test case 4 failed: Expected ExpansionError\"\n",
        "except ExpansionError:\n",
        "    pass\n",
        "\n",
        "A = tensor([1, 2])       # Shape (2, )\n",
        "B = zeros((3, 4))        # Shape (3, 4)\n",
        "try:\n",
        "    _ = expand_as(A, B)\n",
        "    assert False, \"Test case 5 failed: Expected ExpansionError\"\n",
        "except ExpansionError:\n",
        "    pass\n",
        "\n",
        "print(\"All tests passed!\")"
      ]
    },
    {
      "cell_type": "markdown",
      "metadata": {
        "id": "Bu_yADgTpkYe"
      },
      "source": [
        "## Are Broadcastable"
      ]
    },
    {
      "cell_type": "markdown",
      "metadata": {
        "id": "t7a_WCfSpkYe"
      },
      "source": [
        "The `is_tensor_empty` function checks whether a tensor `t` is either `None` or contains zero elements.  \n",
        "The `are_broadcastable` function determines if two tensors `A` and `B` can be broadcasted together according to standard broadcasting rules. It first ensures neither tensor is empty using `is_tensor_empty`. Then, it compares their shapes from the trailing dimensions, aligning the shorter shape (`A`) with the longer one (`B`). It checks if each pair of dimensions is either equal or if one of them is `1` (which allows broadcasting). If all such checks pass, it returns `True` along with the resulting broadcasted shape; otherwise, it returns `False` and `None`."
      ]
    },
    {
      "cell_type": "code",
      "execution_count": null,
      "metadata": {
        "id": "-Swdzbp8pkYe"
      },
      "outputs": [],
      "source": [
        "def is_tensor_empty(t: Tensor) -> bool:\n",
        "    \"\"\"\n",
        "    Checks whether a given tensor is None or empty.\n",
        "\n",
        "    Args:\n",
        "        t (Tensor): The tensor to check.\n",
        "\n",
        "    Returns:\n",
        "        bool: True if the tensor is None or contains zero elements, False otherwise.\n",
        "    \"\"\"\n",
        "    return t is None or t.numel() == 0\n",
        "\n",
        "def are_broadcastable(A: Tensor, B: Tensor) -> Tuple[bool, Tuple[int]]:\n",
        "    \"\"\"\n",
        "    Determines whether two tensors can be broadcasted together according to broadcasting rules.\n",
        "\n",
        "    Args:\n",
        "        A (Tensor): The first tensor.\n",
        "        B (Tensor): The second tensor.\n",
        "\n",
        "    Returns:\n",
        "        Tuple[bool, Tuple[int]]: A tuple containing:\n",
        "            - A boolean indicating whether broadcasting is possible.\n",
        "            - The resulting broadcast shape if broadcasting is possible, otherwise None.\n",
        "    \"\"\"\n",
        "    # Ensure no empty tensor was provided\n",
        "    if is_tensor_empty(A) or is_tensor_empty(B):\n",
        "        return False, None\n",
        "\n",
        "    # Check tensor shapes and ensure A_shape is shorter\n",
        "    A_shape, B_shape = sorted([A.shape, B.shape], key=len)\n",
        "\n",
        "    # Start with the larger tensor's shape.\n",
        "    broadcast_shape = list(B_shape)\n",
        "\n",
        "    # Iterate over dimensions from the last (rightmost) to the first (leftmost).\n",
        "    for i in range(1, len(A_shape) + 1):\n",
        "\n",
        "        # If dimensions match or A_shape has 1, use B_shape's dimension.\n",
        "        if A_shape[-i] == B_shape[-i] or A_shape[-i] == 1:\n",
        "            pass  # Same as broadcast_shape[-i] = B_shape[-i]\n",
        "\n",
        "        # If B_shape has 1, use A_shape's dimension.\n",
        "        elif B_shape[-i] == 1:\n",
        "            broadcast_shape[-i] = A_shape[-i]\n",
        "\n",
        "        # If dimensions are incompatible, broadcasting is not possible.\n",
        "        else:\n",
        "            return False, None\n",
        "\n",
        "    # Return success and the resulting broadcast shape.\n",
        "    return True, tuple(broadcast_shape)"
      ]
    },
    {
      "cell_type": "markdown",
      "metadata": {
        "id": "mRXqyLfXpkYe"
      },
      "source": [
        "### Testing `are_broadcastable`"
      ]
    },
    {
      "cell_type": "code",
      "execution_count": null,
      "metadata": {
        "colab": {
          "base_uri": "https://localhost:8080/"
        },
        "id": "7wJvFauXpkYf",
        "outputId": "9b74820b-5a74-479c-9e8f-645d67272b52"
      },
      "outputs": [
        {
          "output_type": "stream",
          "name": "stdout",
          "text": [
            "All tests passed!\n"
          ]
        }
      ],
      "source": [
        "assert are_broadcastable(tensor([1]), zeros((2, 3, 4))) == (True, (2, 3, 4)), \"Test case 1 failed\"\n",
        "assert are_broadcastable(tensor([[1], [2], [3]]), zeros((3, 4))) == (True, (3, 4)), \"Test case 2 failed\"\n",
        "assert are_broadcastable(tensor([1, 2]), zeros((3, 4))) == (False, None), \"Test case 3 failed\"\n",
        "assert are_broadcastable(tensor([[1, 2, 3]]), zeros((3,))) == (True, (1, 3)), \"Test case 4 failed\"\n",
        "assert are_broadcastable(tensor([[1], [2]]), tensor([[[1, 2]], [[3, 4]], [[5, 6]]])) == (True, (3, 2, 2)), \"Test case 4 failed\"\n",
        "print(\"All tests passed!\")"
      ]
    },
    {
      "cell_type": "markdown",
      "metadata": {
        "id": "6iavsIXqpkYf"
      },
      "source": [
        "## Broadcast Tensors"
      ]
    },
    {
      "cell_type": "markdown",
      "metadata": {
        "id": "m4y-mZNDpkYf"
      },
      "source": [
        "The `broadcast_tensors` function attempts to broadcast two tensors `A` and `B` to a common shape. It first checks if broadcasting is possible using the `are_broadcastable` function. If the tensors cannot be broadcasted together, it raises a `BroadcastError`. Otherwise, it creates a zero tensor with the resulting broadcast shape and uses `expand_as` to expand both `A` and `B` to that shape. The function then returns the two expanded tensors as a tuple."
      ]
    },
    {
      "cell_type": "code",
      "execution_count": null,
      "metadata": {
        "id": "N_BIBan-pkYf"
      },
      "outputs": [],
      "source": [
        "def broadcast_tensors(A: Tensor, B: Tensor) -> Tuple[Tensor]:\n",
        "    \"\"\"\n",
        "    Broadcasts two tensors to a common shape if possible.\n",
        "\n",
        "    Args:\n",
        "        A (Tensor): The first tensor.\n",
        "        B (Tensor): The second tensor.\n",
        "\n",
        "    Returns:\n",
        "        Tuple[Tensor, Tensor]: A tuple containing the two tensors expanded to the broadcasted shape.\n",
        "\n",
        "    Raises:\n",
        "        BroadcastError: If the tensors cannot be broadcasted together.\n",
        "    \"\"\"\n",
        "    broadcastable, result_shape = are_broadcastable(A, B)\n",
        "    if not broadcastable:\n",
        "        raise BroadcastError(\"Tensors cannot be broadcasted together\")\n",
        "\n",
        "    # Assume the given tensors are broadcastable and use expand_as expand each given tensor\n",
        "    expanded_A = expand_as(A, zeros(result_shape))\n",
        "    expanded_B = expand_as(B, zeros(result_shape))\n",
        "    return expanded_A, expanded_B"
      ]
    },
    {
      "cell_type": "markdown",
      "metadata": {
        "id": "W7tJPgfCpkYf"
      },
      "source": [
        "### Testing `broadcast_tensors`"
      ]
    },
    {
      "cell_type": "code",
      "execution_count": null,
      "metadata": {
        "colab": {
          "base_uri": "https://localhost:8080/"
        },
        "id": "jZ5eLITepkYf",
        "outputId": "e7cacadc-e52d-480c-bd1e-3643af3de4a1"
      },
      "outputs": [
        {
          "output_type": "stream",
          "name": "stdout",
          "text": [
            "All tests passed!\n"
          ]
        }
      ],
      "source": [
        "A = tensor([1])              # Shape (1,)\n",
        "B = zeros((2, 3, 4))         # Shape (2,3,4)\n",
        "expanded_A, expanded_B = broadcast_tensors(A, B)\n",
        "assert expanded_A.shape == expanded_B.shape == (2, 3, 4), \"Test case 1 failed\"\n",
        "\n",
        "A = tensor([[1], [2], [3]])  # Shape (3,1)\n",
        "B = zeros((3, 4))            # Shape (3,4)\n",
        "expanded_A, expanded_B = broadcast_tensors(A, B)\n",
        "assert expanded_A.shape == expanded_B.shape == (3, 4), \"Test case 2 failed\"\n",
        "\n",
        "try:\n",
        "    A = tensor([1, 2])       # Shape (2,)\n",
        "    B = zeros((3, 4))        # Shape (3,4)\n",
        "    broadcast_tensors(A, B)  # Should raise error\n",
        "    assert False, \"Test case 3 failed: Expected ValueError\"\n",
        "except BroadcastError:\n",
        "    pass\n",
        "\n",
        "print(\"All tests passed!\")"
      ]
    },
    {
      "cell_type": "markdown",
      "metadata": {
        "id": "QKzQf10RpkYf"
      },
      "source": [
        "## Compare to a Reference"
      ]
    },
    {
      "cell_type": "markdown",
      "metadata": {
        "id": "YvrrRl_IpkYf"
      },
      "source": [
        "The `test_cases` list contains a variety of tensor pairs (`A`, `B`) along with descriptions, designed to test different broadcasting scenarios such as scalar expansion, column/row vector alignment, and multi-dimensional expansion.\n"
      ]
    },
    {
      "cell_type": "code",
      "execution_count": null,
      "metadata": {
        "id": "0ZKBAWv7pkYf"
      },
      "outputs": [],
      "source": [
        "test_cases = [\n",
        "    (tensor([1]), zeros((2, 3, 4)), \"Broadcasting scalar to (2,3,4)\"),\n",
        "    (tensor([[1], [2], [3]]), zeros((3, 4)), \"Column vector to (3,4)\"),\n",
        "    (tensor([1, 2, 3]), zeros((3, 1)), \"Row vector to (3,1)\"),\n",
        "    (tensor([[1, 2, 3]]), zeros((1, 3)), \"1-row matrix to (1,3)\"),\n",
        "    (tensor([1, 1, 1]), zeros((3, 3)), \"1D vector broadcast to (3,3)\"),\n",
        "    (tensor([[1], [2]]), zeros((2, 3)), \"Column vector to (2,3)\"),\n",
        "    (tensor([[1, 2, 3]]), zeros((2, 3)), \"Row vector to (2,3)\"),\n",
        "    (tensor([[[1]], [[2]]]), zeros((2, 3, 4)), \"(2,1,1) to (2,3,4)\"),\n",
        "    (tensor([1, 2, 3, 4]), zeros((1, 4)), \"Vector to (1,4)\"),\n",
        "    (tensor([[1, 2], [3, 4]]), zeros((2, 2)), \"No broadcasting needed\"),\n",
        "    (tensor([[1], [2], [3]]), zeros((1, 3, 4)), \"Expanding from (3,1) to (1,3,4)\"),\n",
        "    (tensor([1, 2, 3]).view(3, 1, 1), zeros((3, 1, 2)), \"Broadcasting (3,) to (3,1,2)\"),\n",
        "    (tensor([[1, 2, 3], [4, 5, 6]]).view(2, 3, 1), zeros((2, 3, 4)), \"Expanding to third dim\"),\n",
        "    (tensor([1, 2, 3, 4]), zeros((3, 1, 4)), \"Matching last dimension\"),\n",
        "    (tensor([[[1, 2, 3]]]), zeros((2, 3, 3)), \"Expanding singleton dimension\"),\n",
        "]"
      ]
    },
    {
      "cell_type": "markdown",
      "metadata": {
        "id": "frn9ifqcpkYf"
      },
      "source": [
        "In the testing loop, each pair is passed to the `broadcast_tensors` function, which is compared against the output of a reference implementation (`reference_broadcast_tensors`). Assertions ensure that the expanded tensors match the expected results. If a mismatch or exception occurs, the test is marked as failed and reported. At the end, a summary is printed indicating whether all tests passed or how many failed."
      ]
    },
    {
      "cell_type": "code",
      "execution_count": null,
      "metadata": {
        "colab": {
          "base_uri": "https://localhost:8080/"
        },
        "id": "WwIdFbaXpkYf",
        "outputId": "0c3b18a7-1f0c-4de9-b9c2-2b3f16340321"
      },
      "outputs": [
        {
          "output_type": "stream",
          "name": "stdout",
          "text": [
            "All tests passed!\n"
          ]
        }
      ],
      "source": [
        "n_fail = 0\n",
        "for A, B, description in test_cases:\n",
        "    try:\n",
        "        expanded_A, expanded_B = broadcast_tensors(A, B)\n",
        "        expected_A, expected_B = reference_broadcast_tensors(A, B)\n",
        "        assert expanded_A.equal(expected_A), \"Mismatch in broadcasted A\"\n",
        "        assert expanded_B.equal(expected_B), \"Mismatch in broadcasted B\"\n",
        "    except:\n",
        "        print(f\"Test '{description}' failed!\")\n",
        "        n_fail += 1\n",
        "print(\"All tests passed!\" if n_fail == 0 else f\"{n_fail} tests failed!\")"
      ]
    }
  ],
  "metadata": {
    "kernelspec": {
      "display_name": "Python 3",
      "language": "python",
      "name": "python3"
    },
    "language_info": {
      "codemirror_mode": {
        "name": "ipython",
        "version": 3
      },
      "file_extension": ".py",
      "mimetype": "text/x-python",
      "name": "python",
      "nbconvert_exporter": "python",
      "pygments_lexer": "ipython3",
      "version": "3.12.4"
    },
    "colab": {
      "provenance": [],
      "include_colab_link": true
    }
  },
  "nbformat": 4,
  "nbformat_minor": 0
}