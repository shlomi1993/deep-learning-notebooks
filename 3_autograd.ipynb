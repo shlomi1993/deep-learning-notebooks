{
  "nbformat": 4,
  "nbformat_minor": 0,
  "metadata": {
    "colab": {
      "provenance": [],
      "include_colab_link": true
    },
    "kernelspec": {
      "name": "python3",
      "display_name": "Python 3"
    },
    "language_info": {
      "name": "python"
    },
    "widgets": {
      "application/vnd.jupyter.widget-state+json": {
        "54ab2a10913a4e069c0066b08f873096": {
          "model_module": "@jupyter-widgets/controls",
          "model_name": "HBoxModel",
          "model_module_version": "1.5.0",
          "state": {
            "_dom_classes": [],
            "_model_module": "@jupyter-widgets/controls",
            "_model_module_version": "1.5.0",
            "_model_name": "HBoxModel",
            "_view_count": null,
            "_view_module": "@jupyter-widgets/controls",
            "_view_module_version": "1.5.0",
            "_view_name": "HBoxView",
            "box_style": "",
            "children": [
              "IPY_MODEL_54cd69ffe6f7469ba69621a788453946",
              "IPY_MODEL_d041a9c064714c81b82d6fefe972a973",
              "IPY_MODEL_5a51b995f57e4d21939ba6db21f15c21"
            ],
            "layout": "IPY_MODEL_2cddb31a3c6a4164b1fa7da2356d775d"
          }
        },
        "54cd69ffe6f7469ba69621a788453946": {
          "model_module": "@jupyter-widgets/controls",
          "model_name": "HTMLModel",
          "model_module_version": "1.5.0",
          "state": {
            "_dom_classes": [],
            "_model_module": "@jupyter-widgets/controls",
            "_model_module_version": "1.5.0",
            "_model_name": "HTMLModel",
            "_view_count": null,
            "_view_module": "@jupyter-widgets/controls",
            "_view_module_version": "1.5.0",
            "_view_name": "HTMLView",
            "description": "",
            "description_tooltip": null,
            "layout": "IPY_MODEL_53bd503907ec4d8badf81c292714822c",
            "placeholder": "​",
            "style": "IPY_MODEL_600ef571865e4880a97f6f1021795d5d",
            "value": "Assign values: 100%"
          }
        },
        "d041a9c064714c81b82d6fefe972a973": {
          "model_module": "@jupyter-widgets/controls",
          "model_name": "FloatProgressModel",
          "model_module_version": "1.5.0",
          "state": {
            "_dom_classes": [],
            "_model_module": "@jupyter-widgets/controls",
            "_model_module_version": "1.5.0",
            "_model_name": "FloatProgressModel",
            "_view_count": null,
            "_view_module": "@jupyter-widgets/controls",
            "_view_module_version": "1.5.0",
            "_view_name": "ProgressView",
            "bar_style": "success",
            "description": "",
            "description_tooltip": null,
            "layout": "IPY_MODEL_83e8ceb124514fd18b99f7392a1dc303",
            "max": 1,
            "min": 0,
            "orientation": "horizontal",
            "style": "IPY_MODEL_53da1a988ae14d37969b06be0032d311",
            "value": 1
          }
        },
        "5a51b995f57e4d21939ba6db21f15c21": {
          "model_module": "@jupyter-widgets/controls",
          "model_name": "HTMLModel",
          "model_module_version": "1.5.0",
          "state": {
            "_dom_classes": [],
            "_model_module": "@jupyter-widgets/controls",
            "_model_module_version": "1.5.0",
            "_model_name": "HTMLModel",
            "_view_count": null,
            "_view_module": "@jupyter-widgets/controls",
            "_view_module_version": "1.5.0",
            "_view_name": "HTMLView",
            "description": "",
            "description_tooltip": null,
            "layout": "IPY_MODEL_4272a2e2c94246338d3235eff45beb02",
            "placeholder": "​",
            "style": "IPY_MODEL_ffc9b9572d004df589fb4f20bf5134c6",
            "value": " 1/1 [00:00&lt;00:00, 45.11it/s]"
          }
        },
        "2cddb31a3c6a4164b1fa7da2356d775d": {
          "model_module": "@jupyter-widgets/base",
          "model_name": "LayoutModel",
          "model_module_version": "1.2.0",
          "state": {
            "_model_module": "@jupyter-widgets/base",
            "_model_module_version": "1.2.0",
            "_model_name": "LayoutModel",
            "_view_count": null,
            "_view_module": "@jupyter-widgets/base",
            "_view_module_version": "1.2.0",
            "_view_name": "LayoutView",
            "align_content": null,
            "align_items": null,
            "align_self": null,
            "border": null,
            "bottom": null,
            "display": null,
            "flex": null,
            "flex_flow": null,
            "grid_area": null,
            "grid_auto_columns": null,
            "grid_auto_flow": null,
            "grid_auto_rows": null,
            "grid_column": null,
            "grid_gap": null,
            "grid_row": null,
            "grid_template_areas": null,
            "grid_template_columns": null,
            "grid_template_rows": null,
            "height": null,
            "justify_content": null,
            "justify_items": null,
            "left": null,
            "margin": null,
            "max_height": null,
            "max_width": null,
            "min_height": null,
            "min_width": null,
            "object_fit": null,
            "object_position": null,
            "order": null,
            "overflow": null,
            "overflow_x": null,
            "overflow_y": null,
            "padding": null,
            "right": null,
            "top": null,
            "visibility": null,
            "width": null
          }
        },
        "53bd503907ec4d8badf81c292714822c": {
          "model_module": "@jupyter-widgets/base",
          "model_name": "LayoutModel",
          "model_module_version": "1.2.0",
          "state": {
            "_model_module": "@jupyter-widgets/base",
            "_model_module_version": "1.2.0",
            "_model_name": "LayoutModel",
            "_view_count": null,
            "_view_module": "@jupyter-widgets/base",
            "_view_module_version": "1.2.0",
            "_view_name": "LayoutView",
            "align_content": null,
            "align_items": null,
            "align_self": null,
            "border": null,
            "bottom": null,
            "display": null,
            "flex": null,
            "flex_flow": null,
            "grid_area": null,
            "grid_auto_columns": null,
            "grid_auto_flow": null,
            "grid_auto_rows": null,
            "grid_column": null,
            "grid_gap": null,
            "grid_row": null,
            "grid_template_areas": null,
            "grid_template_columns": null,
            "grid_template_rows": null,
            "height": null,
            "justify_content": null,
            "justify_items": null,
            "left": null,
            "margin": null,
            "max_height": null,
            "max_width": null,
            "min_height": null,
            "min_width": null,
            "object_fit": null,
            "object_position": null,
            "order": null,
            "overflow": null,
            "overflow_x": null,
            "overflow_y": null,
            "padding": null,
            "right": null,
            "top": null,
            "visibility": null,
            "width": null
          }
        },
        "600ef571865e4880a97f6f1021795d5d": {
          "model_module": "@jupyter-widgets/controls",
          "model_name": "DescriptionStyleModel",
          "model_module_version": "1.5.0",
          "state": {
            "_model_module": "@jupyter-widgets/controls",
            "_model_module_version": "1.5.0",
            "_model_name": "DescriptionStyleModel",
            "_view_count": null,
            "_view_module": "@jupyter-widgets/base",
            "_view_module_version": "1.2.0",
            "_view_name": "StyleView",
            "description_width": ""
          }
        },
        "83e8ceb124514fd18b99f7392a1dc303": {
          "model_module": "@jupyter-widgets/base",
          "model_name": "LayoutModel",
          "model_module_version": "1.2.0",
          "state": {
            "_model_module": "@jupyter-widgets/base",
            "_model_module_version": "1.2.0",
            "_model_name": "LayoutModel",
            "_view_count": null,
            "_view_module": "@jupyter-widgets/base",
            "_view_module_version": "1.2.0",
            "_view_name": "LayoutView",
            "align_content": null,
            "align_items": null,
            "align_self": null,
            "border": null,
            "bottom": null,
            "display": null,
            "flex": null,
            "flex_flow": null,
            "grid_area": null,
            "grid_auto_columns": null,
            "grid_auto_flow": null,
            "grid_auto_rows": null,
            "grid_column": null,
            "grid_gap": null,
            "grid_row": null,
            "grid_template_areas": null,
            "grid_template_columns": null,
            "grid_template_rows": null,
            "height": null,
            "justify_content": null,
            "justify_items": null,
            "left": null,
            "margin": null,
            "max_height": null,
            "max_width": null,
            "min_height": null,
            "min_width": null,
            "object_fit": null,
            "object_position": null,
            "order": null,
            "overflow": null,
            "overflow_x": null,
            "overflow_y": null,
            "padding": null,
            "right": null,
            "top": null,
            "visibility": null,
            "width": null
          }
        },
        "53da1a988ae14d37969b06be0032d311": {
          "model_module": "@jupyter-widgets/controls",
          "model_name": "ProgressStyleModel",
          "model_module_version": "1.5.0",
          "state": {
            "_model_module": "@jupyter-widgets/controls",
            "_model_module_version": "1.5.0",
            "_model_name": "ProgressStyleModel",
            "_view_count": null,
            "_view_module": "@jupyter-widgets/base",
            "_view_module_version": "1.2.0",
            "_view_name": "StyleView",
            "bar_color": null,
            "description_width": ""
          }
        },
        "4272a2e2c94246338d3235eff45beb02": {
          "model_module": "@jupyter-widgets/base",
          "model_name": "LayoutModel",
          "model_module_version": "1.2.0",
          "state": {
            "_model_module": "@jupyter-widgets/base",
            "_model_module_version": "1.2.0",
            "_model_name": "LayoutModel",
            "_view_count": null,
            "_view_module": "@jupyter-widgets/base",
            "_view_module_version": "1.2.0",
            "_view_name": "LayoutView",
            "align_content": null,
            "align_items": null,
            "align_self": null,
            "border": null,
            "bottom": null,
            "display": null,
            "flex": null,
            "flex_flow": null,
            "grid_area": null,
            "grid_auto_columns": null,
            "grid_auto_flow": null,
            "grid_auto_rows": null,
            "grid_column": null,
            "grid_gap": null,
            "grid_row": null,
            "grid_template_areas": null,
            "grid_template_columns": null,
            "grid_template_rows": null,
            "height": null,
            "justify_content": null,
            "justify_items": null,
            "left": null,
            "margin": null,
            "max_height": null,
            "max_width": null,
            "min_height": null,
            "min_width": null,
            "object_fit": null,
            "object_position": null,
            "order": null,
            "overflow": null,
            "overflow_x": null,
            "overflow_y": null,
            "padding": null,
            "right": null,
            "top": null,
            "visibility": null,
            "width": null
          }
        },
        "ffc9b9572d004df589fb4f20bf5134c6": {
          "model_module": "@jupyter-widgets/controls",
          "model_name": "DescriptionStyleModel",
          "model_module_version": "1.5.0",
          "state": {
            "_model_module": "@jupyter-widgets/controls",
            "_model_module_version": "1.5.0",
            "_model_name": "DescriptionStyleModel",
            "_view_count": null,
            "_view_module": "@jupyter-widgets/base",
            "_view_module_version": "1.2.0",
            "_view_name": "StyleView",
            "description_width": ""
          }
        },
        "9122755f27e940b88d1dc1f310368fd1": {
          "model_module": "@jupyter-widgets/controls",
          "model_name": "HBoxModel",
          "model_module_version": "1.5.0",
          "state": {
            "_dom_classes": [],
            "_model_module": "@jupyter-widgets/controls",
            "_model_module_version": "1.5.0",
            "_model_name": "HBoxModel",
            "_view_count": null,
            "_view_module": "@jupyter-widgets/controls",
            "_view_module_version": "1.5.0",
            "_view_name": "HBoxView",
            "box_style": "",
            "children": [
              "IPY_MODEL_cb8ac3c801694497899048be71874cea",
              "IPY_MODEL_26ad7eb791cb4706affe26cb3be2b3d4",
              "IPY_MODEL_eaed266f1d074c359bb61b34aefe19e2"
            ],
            "layout": "IPY_MODEL_9336a4eccd144f9d91222136d00886a2"
          }
        },
        "cb8ac3c801694497899048be71874cea": {
          "model_module": "@jupyter-widgets/controls",
          "model_name": "HTMLModel",
          "model_module_version": "1.5.0",
          "state": {
            "_dom_classes": [],
            "_model_module": "@jupyter-widgets/controls",
            "_model_module_version": "1.5.0",
            "_model_name": "HTMLModel",
            "_view_count": null,
            "_view_module": "@jupyter-widgets/controls",
            "_view_module_version": "1.5.0",
            "_view_name": "HTMLView",
            "description": "",
            "description_tooltip": null,
            "layout": "IPY_MODEL_09e8057377e24d9e97c0c762269a9fc1",
            "placeholder": "​",
            "style": "IPY_MODEL_3ce5daf45cb14cd0a7b67163a111c1b9",
            "value": "Assign values: 100%"
          }
        },
        "26ad7eb791cb4706affe26cb3be2b3d4": {
          "model_module": "@jupyter-widgets/controls",
          "model_name": "FloatProgressModel",
          "model_module_version": "1.5.0",
          "state": {
            "_dom_classes": [],
            "_model_module": "@jupyter-widgets/controls",
            "_model_module_version": "1.5.0",
            "_model_name": "FloatProgressModel",
            "_view_count": null,
            "_view_module": "@jupyter-widgets/controls",
            "_view_module_version": "1.5.0",
            "_view_name": "ProgressView",
            "bar_style": "success",
            "description": "",
            "description_tooltip": null,
            "layout": "IPY_MODEL_ef951a83bcdd4547b952e0f4c682765b",
            "max": 2,
            "min": 0,
            "orientation": "horizontal",
            "style": "IPY_MODEL_34ea7e5416cb407fadbc2c89bd4413f5",
            "value": 2
          }
        },
        "eaed266f1d074c359bb61b34aefe19e2": {
          "model_module": "@jupyter-widgets/controls",
          "model_name": "HTMLModel",
          "model_module_version": "1.5.0",
          "state": {
            "_dom_classes": [],
            "_model_module": "@jupyter-widgets/controls",
            "_model_module_version": "1.5.0",
            "_model_name": "HTMLModel",
            "_view_count": null,
            "_view_module": "@jupyter-widgets/controls",
            "_view_module_version": "1.5.0",
            "_view_name": "HTMLView",
            "description": "",
            "description_tooltip": null,
            "layout": "IPY_MODEL_86a1a42df1784ed8b926a2a2e3d8497e",
            "placeholder": "​",
            "style": "IPY_MODEL_64ce5508c10d41769c22fda3455d3340",
            "value": " 2/2 [00:00&lt;00:00, 76.73it/s]"
          }
        },
        "9336a4eccd144f9d91222136d00886a2": {
          "model_module": "@jupyter-widgets/base",
          "model_name": "LayoutModel",
          "model_module_version": "1.2.0",
          "state": {
            "_model_module": "@jupyter-widgets/base",
            "_model_module_version": "1.2.0",
            "_model_name": "LayoutModel",
            "_view_count": null,
            "_view_module": "@jupyter-widgets/base",
            "_view_module_version": "1.2.0",
            "_view_name": "LayoutView",
            "align_content": null,
            "align_items": null,
            "align_self": null,
            "border": null,
            "bottom": null,
            "display": null,
            "flex": null,
            "flex_flow": null,
            "grid_area": null,
            "grid_auto_columns": null,
            "grid_auto_flow": null,
            "grid_auto_rows": null,
            "grid_column": null,
            "grid_gap": null,
            "grid_row": null,
            "grid_template_areas": null,
            "grid_template_columns": null,
            "grid_template_rows": null,
            "height": null,
            "justify_content": null,
            "justify_items": null,
            "left": null,
            "margin": null,
            "max_height": null,
            "max_width": null,
            "min_height": null,
            "min_width": null,
            "object_fit": null,
            "object_position": null,
            "order": null,
            "overflow": null,
            "overflow_x": null,
            "overflow_y": null,
            "padding": null,
            "right": null,
            "top": null,
            "visibility": null,
            "width": null
          }
        },
        "09e8057377e24d9e97c0c762269a9fc1": {
          "model_module": "@jupyter-widgets/base",
          "model_name": "LayoutModel",
          "model_module_version": "1.2.0",
          "state": {
            "_model_module": "@jupyter-widgets/base",
            "_model_module_version": "1.2.0",
            "_model_name": "LayoutModel",
            "_view_count": null,
            "_view_module": "@jupyter-widgets/base",
            "_view_module_version": "1.2.0",
            "_view_name": "LayoutView",
            "align_content": null,
            "align_items": null,
            "align_self": null,
            "border": null,
            "bottom": null,
            "display": null,
            "flex": null,
            "flex_flow": null,
            "grid_area": null,
            "grid_auto_columns": null,
            "grid_auto_flow": null,
            "grid_auto_rows": null,
            "grid_column": null,
            "grid_gap": null,
            "grid_row": null,
            "grid_template_areas": null,
            "grid_template_columns": null,
            "grid_template_rows": null,
            "height": null,
            "justify_content": null,
            "justify_items": null,
            "left": null,
            "margin": null,
            "max_height": null,
            "max_width": null,
            "min_height": null,
            "min_width": null,
            "object_fit": null,
            "object_position": null,
            "order": null,
            "overflow": null,
            "overflow_x": null,
            "overflow_y": null,
            "padding": null,
            "right": null,
            "top": null,
            "visibility": null,
            "width": null
          }
        },
        "3ce5daf45cb14cd0a7b67163a111c1b9": {
          "model_module": "@jupyter-widgets/controls",
          "model_name": "DescriptionStyleModel",
          "model_module_version": "1.5.0",
          "state": {
            "_model_module": "@jupyter-widgets/controls",
            "_model_module_version": "1.5.0",
            "_model_name": "DescriptionStyleModel",
            "_view_count": null,
            "_view_module": "@jupyter-widgets/base",
            "_view_module_version": "1.2.0",
            "_view_name": "StyleView",
            "description_width": ""
          }
        },
        "ef951a83bcdd4547b952e0f4c682765b": {
          "model_module": "@jupyter-widgets/base",
          "model_name": "LayoutModel",
          "model_module_version": "1.2.0",
          "state": {
            "_model_module": "@jupyter-widgets/base",
            "_model_module_version": "1.2.0",
            "_model_name": "LayoutModel",
            "_view_count": null,
            "_view_module": "@jupyter-widgets/base",
            "_view_module_version": "1.2.0",
            "_view_name": "LayoutView",
            "align_content": null,
            "align_items": null,
            "align_self": null,
            "border": null,
            "bottom": null,
            "display": null,
            "flex": null,
            "flex_flow": null,
            "grid_area": null,
            "grid_auto_columns": null,
            "grid_auto_flow": null,
            "grid_auto_rows": null,
            "grid_column": null,
            "grid_gap": null,
            "grid_row": null,
            "grid_template_areas": null,
            "grid_template_columns": null,
            "grid_template_rows": null,
            "height": null,
            "justify_content": null,
            "justify_items": null,
            "left": null,
            "margin": null,
            "max_height": null,
            "max_width": null,
            "min_height": null,
            "min_width": null,
            "object_fit": null,
            "object_position": null,
            "order": null,
            "overflow": null,
            "overflow_x": null,
            "overflow_y": null,
            "padding": null,
            "right": null,
            "top": null,
            "visibility": null,
            "width": null
          }
        },
        "34ea7e5416cb407fadbc2c89bd4413f5": {
          "model_module": "@jupyter-widgets/controls",
          "model_name": "ProgressStyleModel",
          "model_module_version": "1.5.0",
          "state": {
            "_model_module": "@jupyter-widgets/controls",
            "_model_module_version": "1.5.0",
            "_model_name": "ProgressStyleModel",
            "_view_count": null,
            "_view_module": "@jupyter-widgets/base",
            "_view_module_version": "1.2.0",
            "_view_name": "StyleView",
            "bar_color": null,
            "description_width": ""
          }
        },
        "86a1a42df1784ed8b926a2a2e3d8497e": {
          "model_module": "@jupyter-widgets/base",
          "model_name": "LayoutModel",
          "model_module_version": "1.2.0",
          "state": {
            "_model_module": "@jupyter-widgets/base",
            "_model_module_version": "1.2.0",
            "_model_name": "LayoutModel",
            "_view_count": null,
            "_view_module": "@jupyter-widgets/base",
            "_view_module_version": "1.2.0",
            "_view_name": "LayoutView",
            "align_content": null,
            "align_items": null,
            "align_self": null,
            "border": null,
            "bottom": null,
            "display": null,
            "flex": null,
            "flex_flow": null,
            "grid_area": null,
            "grid_auto_columns": null,
            "grid_auto_flow": null,
            "grid_auto_rows": null,
            "grid_column": null,
            "grid_gap": null,
            "grid_row": null,
            "grid_template_areas": null,
            "grid_template_columns": null,
            "grid_template_rows": null,
            "height": null,
            "justify_content": null,
            "justify_items": null,
            "left": null,
            "margin": null,
            "max_height": null,
            "max_width": null,
            "min_height": null,
            "min_width": null,
            "object_fit": null,
            "object_position": null,
            "order": null,
            "overflow": null,
            "overflow_x": null,
            "overflow_y": null,
            "padding": null,
            "right": null,
            "top": null,
            "visibility": null,
            "width": null
          }
        },
        "64ce5508c10d41769c22fda3455d3340": {
          "model_module": "@jupyter-widgets/controls",
          "model_name": "DescriptionStyleModel",
          "model_module_version": "1.5.0",
          "state": {
            "_model_module": "@jupyter-widgets/controls",
            "_model_module_version": "1.5.0",
            "_model_name": "DescriptionStyleModel",
            "_view_count": null,
            "_view_module": "@jupyter-widgets/base",
            "_view_module_version": "1.2.0",
            "_view_name": "StyleView",
            "description_width": ""
          }
        },
        "81a6699f392f4560bc29d404537bb6f3": {
          "model_module": "@jupyter-widgets/controls",
          "model_name": "HBoxModel",
          "model_module_version": "1.5.0",
          "state": {
            "_dom_classes": [],
            "_model_module": "@jupyter-widgets/controls",
            "_model_module_version": "1.5.0",
            "_model_name": "HBoxModel",
            "_view_count": null,
            "_view_module": "@jupyter-widgets/controls",
            "_view_module_version": "1.5.0",
            "_view_name": "HBoxView",
            "box_style": "",
            "children": [
              "IPY_MODEL_f86bb27b9f0b4a0881a08f26f6ccb7ea",
              "IPY_MODEL_b32aced55cb64a7282142b5917fe23d6",
              "IPY_MODEL_a7e89cb0b0944797a9572ea3fa8e5c3c"
            ],
            "layout": "IPY_MODEL_dfba21e3d8494ee2869cf15e597fa69f"
          }
        },
        "f86bb27b9f0b4a0881a08f26f6ccb7ea": {
          "model_module": "@jupyter-widgets/controls",
          "model_name": "HTMLModel",
          "model_module_version": "1.5.0",
          "state": {
            "_dom_classes": [],
            "_model_module": "@jupyter-widgets/controls",
            "_model_module_version": "1.5.0",
            "_model_name": "HTMLModel",
            "_view_count": null,
            "_view_module": "@jupyter-widgets/controls",
            "_view_module_version": "1.5.0",
            "_view_name": "HTMLView",
            "description": "",
            "description_tooltip": null,
            "layout": "IPY_MODEL_56a56ce02d344c0ab0ae4ed779605147",
            "placeholder": "​",
            "style": "IPY_MODEL_96a1d0b7b624458da8611c144257c2a5",
            "value": "Assign values: 100%"
          }
        },
        "b32aced55cb64a7282142b5917fe23d6": {
          "model_module": "@jupyter-widgets/controls",
          "model_name": "FloatProgressModel",
          "model_module_version": "1.5.0",
          "state": {
            "_dom_classes": [],
            "_model_module": "@jupyter-widgets/controls",
            "_model_module_version": "1.5.0",
            "_model_name": "FloatProgressModel",
            "_view_count": null,
            "_view_module": "@jupyter-widgets/controls",
            "_view_module_version": "1.5.0",
            "_view_name": "ProgressView",
            "bar_style": "success",
            "description": "",
            "description_tooltip": null,
            "layout": "IPY_MODEL_109080e067fa4e03b0696b6b4cc30d2e",
            "max": 1,
            "min": 0,
            "orientation": "horizontal",
            "style": "IPY_MODEL_383e04b3bf9f46f8aa327366c69f4617",
            "value": 1
          }
        },
        "a7e89cb0b0944797a9572ea3fa8e5c3c": {
          "model_module": "@jupyter-widgets/controls",
          "model_name": "HTMLModel",
          "model_module_version": "1.5.0",
          "state": {
            "_dom_classes": [],
            "_model_module": "@jupyter-widgets/controls",
            "_model_module_version": "1.5.0",
            "_model_name": "HTMLModel",
            "_view_count": null,
            "_view_module": "@jupyter-widgets/controls",
            "_view_module_version": "1.5.0",
            "_view_name": "HTMLView",
            "description": "",
            "description_tooltip": null,
            "layout": "IPY_MODEL_c7162597f6094d1a9f7be9b120222154",
            "placeholder": "​",
            "style": "IPY_MODEL_8914fa4f675941369b9917f27898414c",
            "value": " 1/1 [00:00&lt;00:00, 41.29it/s]"
          }
        },
        "dfba21e3d8494ee2869cf15e597fa69f": {
          "model_module": "@jupyter-widgets/base",
          "model_name": "LayoutModel",
          "model_module_version": "1.2.0",
          "state": {
            "_model_module": "@jupyter-widgets/base",
            "_model_module_version": "1.2.0",
            "_model_name": "LayoutModel",
            "_view_count": null,
            "_view_module": "@jupyter-widgets/base",
            "_view_module_version": "1.2.0",
            "_view_name": "LayoutView",
            "align_content": null,
            "align_items": null,
            "align_self": null,
            "border": null,
            "bottom": null,
            "display": null,
            "flex": null,
            "flex_flow": null,
            "grid_area": null,
            "grid_auto_columns": null,
            "grid_auto_flow": null,
            "grid_auto_rows": null,
            "grid_column": null,
            "grid_gap": null,
            "grid_row": null,
            "grid_template_areas": null,
            "grid_template_columns": null,
            "grid_template_rows": null,
            "height": null,
            "justify_content": null,
            "justify_items": null,
            "left": null,
            "margin": null,
            "max_height": null,
            "max_width": null,
            "min_height": null,
            "min_width": null,
            "object_fit": null,
            "object_position": null,
            "order": null,
            "overflow": null,
            "overflow_x": null,
            "overflow_y": null,
            "padding": null,
            "right": null,
            "top": null,
            "visibility": null,
            "width": null
          }
        },
        "56a56ce02d344c0ab0ae4ed779605147": {
          "model_module": "@jupyter-widgets/base",
          "model_name": "LayoutModel",
          "model_module_version": "1.2.0",
          "state": {
            "_model_module": "@jupyter-widgets/base",
            "_model_module_version": "1.2.0",
            "_model_name": "LayoutModel",
            "_view_count": null,
            "_view_module": "@jupyter-widgets/base",
            "_view_module_version": "1.2.0",
            "_view_name": "LayoutView",
            "align_content": null,
            "align_items": null,
            "align_self": null,
            "border": null,
            "bottom": null,
            "display": null,
            "flex": null,
            "flex_flow": null,
            "grid_area": null,
            "grid_auto_columns": null,
            "grid_auto_flow": null,
            "grid_auto_rows": null,
            "grid_column": null,
            "grid_gap": null,
            "grid_row": null,
            "grid_template_areas": null,
            "grid_template_columns": null,
            "grid_template_rows": null,
            "height": null,
            "justify_content": null,
            "justify_items": null,
            "left": null,
            "margin": null,
            "max_height": null,
            "max_width": null,
            "min_height": null,
            "min_width": null,
            "object_fit": null,
            "object_position": null,
            "order": null,
            "overflow": null,
            "overflow_x": null,
            "overflow_y": null,
            "padding": null,
            "right": null,
            "top": null,
            "visibility": null,
            "width": null
          }
        },
        "96a1d0b7b624458da8611c144257c2a5": {
          "model_module": "@jupyter-widgets/controls",
          "model_name": "DescriptionStyleModel",
          "model_module_version": "1.5.0",
          "state": {
            "_model_module": "@jupyter-widgets/controls",
            "_model_module_version": "1.5.0",
            "_model_name": "DescriptionStyleModel",
            "_view_count": null,
            "_view_module": "@jupyter-widgets/base",
            "_view_module_version": "1.2.0",
            "_view_name": "StyleView",
            "description_width": ""
          }
        },
        "109080e067fa4e03b0696b6b4cc30d2e": {
          "model_module": "@jupyter-widgets/base",
          "model_name": "LayoutModel",
          "model_module_version": "1.2.0",
          "state": {
            "_model_module": "@jupyter-widgets/base",
            "_model_module_version": "1.2.0",
            "_model_name": "LayoutModel",
            "_view_count": null,
            "_view_module": "@jupyter-widgets/base",
            "_view_module_version": "1.2.0",
            "_view_name": "LayoutView",
            "align_content": null,
            "align_items": null,
            "align_self": null,
            "border": null,
            "bottom": null,
            "display": null,
            "flex": null,
            "flex_flow": null,
            "grid_area": null,
            "grid_auto_columns": null,
            "grid_auto_flow": null,
            "grid_auto_rows": null,
            "grid_column": null,
            "grid_gap": null,
            "grid_row": null,
            "grid_template_areas": null,
            "grid_template_columns": null,
            "grid_template_rows": null,
            "height": null,
            "justify_content": null,
            "justify_items": null,
            "left": null,
            "margin": null,
            "max_height": null,
            "max_width": null,
            "min_height": null,
            "min_width": null,
            "object_fit": null,
            "object_position": null,
            "order": null,
            "overflow": null,
            "overflow_x": null,
            "overflow_y": null,
            "padding": null,
            "right": null,
            "top": null,
            "visibility": null,
            "width": null
          }
        },
        "383e04b3bf9f46f8aa327366c69f4617": {
          "model_module": "@jupyter-widgets/controls",
          "model_name": "ProgressStyleModel",
          "model_module_version": "1.5.0",
          "state": {
            "_model_module": "@jupyter-widgets/controls",
            "_model_module_version": "1.5.0",
            "_model_name": "ProgressStyleModel",
            "_view_count": null,
            "_view_module": "@jupyter-widgets/base",
            "_view_module_version": "1.2.0",
            "_view_name": "StyleView",
            "bar_color": null,
            "description_width": ""
          }
        },
        "c7162597f6094d1a9f7be9b120222154": {
          "model_module": "@jupyter-widgets/base",
          "model_name": "LayoutModel",
          "model_module_version": "1.2.0",
          "state": {
            "_model_module": "@jupyter-widgets/base",
            "_model_module_version": "1.2.0",
            "_model_name": "LayoutModel",
            "_view_count": null,
            "_view_module": "@jupyter-widgets/base",
            "_view_module_version": "1.2.0",
            "_view_name": "LayoutView",
            "align_content": null,
            "align_items": null,
            "align_self": null,
            "border": null,
            "bottom": null,
            "display": null,
            "flex": null,
            "flex_flow": null,
            "grid_area": null,
            "grid_auto_columns": null,
            "grid_auto_flow": null,
            "grid_auto_rows": null,
            "grid_column": null,
            "grid_gap": null,
            "grid_row": null,
            "grid_template_areas": null,
            "grid_template_columns": null,
            "grid_template_rows": null,
            "height": null,
            "justify_content": null,
            "justify_items": null,
            "left": null,
            "margin": null,
            "max_height": null,
            "max_width": null,
            "min_height": null,
            "min_width": null,
            "object_fit": null,
            "object_position": null,
            "order": null,
            "overflow": null,
            "overflow_x": null,
            "overflow_y": null,
            "padding": null,
            "right": null,
            "top": null,
            "visibility": null,
            "width": null
          }
        },
        "8914fa4f675941369b9917f27898414c": {
          "model_module": "@jupyter-widgets/controls",
          "model_name": "DescriptionStyleModel",
          "model_module_version": "1.5.0",
          "state": {
            "_model_module": "@jupyter-widgets/controls",
            "_model_module_version": "1.5.0",
            "_model_name": "DescriptionStyleModel",
            "_view_count": null,
            "_view_module": "@jupyter-widgets/base",
            "_view_module_version": "1.2.0",
            "_view_name": "StyleView",
            "description_width": ""
          }
        },
        "9c709901ad6948fa9a63ad5ecb9254c0": {
          "model_module": "@jupyter-widgets/controls",
          "model_name": "HBoxModel",
          "model_module_version": "1.5.0",
          "state": {
            "_dom_classes": [],
            "_model_module": "@jupyter-widgets/controls",
            "_model_module_version": "1.5.0",
            "_model_name": "HBoxModel",
            "_view_count": null,
            "_view_module": "@jupyter-widgets/controls",
            "_view_module_version": "1.5.0",
            "_view_name": "HBoxView",
            "box_style": "",
            "children": [
              "IPY_MODEL_2dfab3798c0b4221972a299acee937f9",
              "IPY_MODEL_c47b2d79ef4c49f7bb17fb1cd240cfce",
              "IPY_MODEL_129952b400484275a285edbfe75ce2ec"
            ],
            "layout": "IPY_MODEL_8f68671a61b147bf8fb3fe87ee87c138"
          }
        },
        "2dfab3798c0b4221972a299acee937f9": {
          "model_module": "@jupyter-widgets/controls",
          "model_name": "HTMLModel",
          "model_module_version": "1.5.0",
          "state": {
            "_dom_classes": [],
            "_model_module": "@jupyter-widgets/controls",
            "_model_module_version": "1.5.0",
            "_model_name": "HTMLModel",
            "_view_count": null,
            "_view_module": "@jupyter-widgets/controls",
            "_view_module_version": "1.5.0",
            "_view_name": "HTMLView",
            "description": "",
            "description_tooltip": null,
            "layout": "IPY_MODEL_ecf35de88d404501b229ddb139a4fce8",
            "placeholder": "​",
            "style": "IPY_MODEL_bbdb13bac6214925b1f68f37594df988",
            "value": "Assign values: 100%"
          }
        },
        "c47b2d79ef4c49f7bb17fb1cd240cfce": {
          "model_module": "@jupyter-widgets/controls",
          "model_name": "FloatProgressModel",
          "model_module_version": "1.5.0",
          "state": {
            "_dom_classes": [],
            "_model_module": "@jupyter-widgets/controls",
            "_model_module_version": "1.5.0",
            "_model_name": "FloatProgressModel",
            "_view_count": null,
            "_view_module": "@jupyter-widgets/controls",
            "_view_module_version": "1.5.0",
            "_view_name": "ProgressView",
            "bar_style": "success",
            "description": "",
            "description_tooltip": null,
            "layout": "IPY_MODEL_ec8bbdd616d64e57a4c3a900a4f55797",
            "max": 2,
            "min": 0,
            "orientation": "horizontal",
            "style": "IPY_MODEL_ce8bf71c1d654d8f81dc971fcec6536b",
            "value": 2
          }
        },
        "129952b400484275a285edbfe75ce2ec": {
          "model_module": "@jupyter-widgets/controls",
          "model_name": "HTMLModel",
          "model_module_version": "1.5.0",
          "state": {
            "_dom_classes": [],
            "_model_module": "@jupyter-widgets/controls",
            "_model_module_version": "1.5.0",
            "_model_name": "HTMLModel",
            "_view_count": null,
            "_view_module": "@jupyter-widgets/controls",
            "_view_module_version": "1.5.0",
            "_view_name": "HTMLView",
            "description": "",
            "description_tooltip": null,
            "layout": "IPY_MODEL_06ef2bad5d624568ba7dd90be989860c",
            "placeholder": "​",
            "style": "IPY_MODEL_2dd6fc3e4377437490ec25239b211ed5",
            "value": " 2/2 [00:00&lt;00:00, 81.53it/s]"
          }
        },
        "8f68671a61b147bf8fb3fe87ee87c138": {
          "model_module": "@jupyter-widgets/base",
          "model_name": "LayoutModel",
          "model_module_version": "1.2.0",
          "state": {
            "_model_module": "@jupyter-widgets/base",
            "_model_module_version": "1.2.0",
            "_model_name": "LayoutModel",
            "_view_count": null,
            "_view_module": "@jupyter-widgets/base",
            "_view_module_version": "1.2.0",
            "_view_name": "LayoutView",
            "align_content": null,
            "align_items": null,
            "align_self": null,
            "border": null,
            "bottom": null,
            "display": null,
            "flex": null,
            "flex_flow": null,
            "grid_area": null,
            "grid_auto_columns": null,
            "grid_auto_flow": null,
            "grid_auto_rows": null,
            "grid_column": null,
            "grid_gap": null,
            "grid_row": null,
            "grid_template_areas": null,
            "grid_template_columns": null,
            "grid_template_rows": null,
            "height": null,
            "justify_content": null,
            "justify_items": null,
            "left": null,
            "margin": null,
            "max_height": null,
            "max_width": null,
            "min_height": null,
            "min_width": null,
            "object_fit": null,
            "object_position": null,
            "order": null,
            "overflow": null,
            "overflow_x": null,
            "overflow_y": null,
            "padding": null,
            "right": null,
            "top": null,
            "visibility": null,
            "width": null
          }
        },
        "ecf35de88d404501b229ddb139a4fce8": {
          "model_module": "@jupyter-widgets/base",
          "model_name": "LayoutModel",
          "model_module_version": "1.2.0",
          "state": {
            "_model_module": "@jupyter-widgets/base",
            "_model_module_version": "1.2.0",
            "_model_name": "LayoutModel",
            "_view_count": null,
            "_view_module": "@jupyter-widgets/base",
            "_view_module_version": "1.2.0",
            "_view_name": "LayoutView",
            "align_content": null,
            "align_items": null,
            "align_self": null,
            "border": null,
            "bottom": null,
            "display": null,
            "flex": null,
            "flex_flow": null,
            "grid_area": null,
            "grid_auto_columns": null,
            "grid_auto_flow": null,
            "grid_auto_rows": null,
            "grid_column": null,
            "grid_gap": null,
            "grid_row": null,
            "grid_template_areas": null,
            "grid_template_columns": null,
            "grid_template_rows": null,
            "height": null,
            "justify_content": null,
            "justify_items": null,
            "left": null,
            "margin": null,
            "max_height": null,
            "max_width": null,
            "min_height": null,
            "min_width": null,
            "object_fit": null,
            "object_position": null,
            "order": null,
            "overflow": null,
            "overflow_x": null,
            "overflow_y": null,
            "padding": null,
            "right": null,
            "top": null,
            "visibility": null,
            "width": null
          }
        },
        "bbdb13bac6214925b1f68f37594df988": {
          "model_module": "@jupyter-widgets/controls",
          "model_name": "DescriptionStyleModel",
          "model_module_version": "1.5.0",
          "state": {
            "_model_module": "@jupyter-widgets/controls",
            "_model_module_version": "1.5.0",
            "_model_name": "DescriptionStyleModel",
            "_view_count": null,
            "_view_module": "@jupyter-widgets/base",
            "_view_module_version": "1.2.0",
            "_view_name": "StyleView",
            "description_width": ""
          }
        },
        "ec8bbdd616d64e57a4c3a900a4f55797": {
          "model_module": "@jupyter-widgets/base",
          "model_name": "LayoutModel",
          "model_module_version": "1.2.0",
          "state": {
            "_model_module": "@jupyter-widgets/base",
            "_model_module_version": "1.2.0",
            "_model_name": "LayoutModel",
            "_view_count": null,
            "_view_module": "@jupyter-widgets/base",
            "_view_module_version": "1.2.0",
            "_view_name": "LayoutView",
            "align_content": null,
            "align_items": null,
            "align_self": null,
            "border": null,
            "bottom": null,
            "display": null,
            "flex": null,
            "flex_flow": null,
            "grid_area": null,
            "grid_auto_columns": null,
            "grid_auto_flow": null,
            "grid_auto_rows": null,
            "grid_column": null,
            "grid_gap": null,
            "grid_row": null,
            "grid_template_areas": null,
            "grid_template_columns": null,
            "grid_template_rows": null,
            "height": null,
            "justify_content": null,
            "justify_items": null,
            "left": null,
            "margin": null,
            "max_height": null,
            "max_width": null,
            "min_height": null,
            "min_width": null,
            "object_fit": null,
            "object_position": null,
            "order": null,
            "overflow": null,
            "overflow_x": null,
            "overflow_y": null,
            "padding": null,
            "right": null,
            "top": null,
            "visibility": null,
            "width": null
          }
        },
        "ce8bf71c1d654d8f81dc971fcec6536b": {
          "model_module": "@jupyter-widgets/controls",
          "model_name": "ProgressStyleModel",
          "model_module_version": "1.5.0",
          "state": {
            "_model_module": "@jupyter-widgets/controls",
            "_model_module_version": "1.5.0",
            "_model_name": "ProgressStyleModel",
            "_view_count": null,
            "_view_module": "@jupyter-widgets/base",
            "_view_module_version": "1.2.0",
            "_view_name": "StyleView",
            "bar_color": null,
            "description_width": ""
          }
        },
        "06ef2bad5d624568ba7dd90be989860c": {
          "model_module": "@jupyter-widgets/base",
          "model_name": "LayoutModel",
          "model_module_version": "1.2.0",
          "state": {
            "_model_module": "@jupyter-widgets/base",
            "_model_module_version": "1.2.0",
            "_model_name": "LayoutModel",
            "_view_count": null,
            "_view_module": "@jupyter-widgets/base",
            "_view_module_version": "1.2.0",
            "_view_name": "LayoutView",
            "align_content": null,
            "align_items": null,
            "align_self": null,
            "border": null,
            "bottom": null,
            "display": null,
            "flex": null,
            "flex_flow": null,
            "grid_area": null,
            "grid_auto_columns": null,
            "grid_auto_flow": null,
            "grid_auto_rows": null,
            "grid_column": null,
            "grid_gap": null,
            "grid_row": null,
            "grid_template_areas": null,
            "grid_template_columns": null,
            "grid_template_rows": null,
            "height": null,
            "justify_content": null,
            "justify_items": null,
            "left": null,
            "margin": null,
            "max_height": null,
            "max_width": null,
            "min_height": null,
            "min_width": null,
            "object_fit": null,
            "object_position": null,
            "order": null,
            "overflow": null,
            "overflow_x": null,
            "overflow_y": null,
            "padding": null,
            "right": null,
            "top": null,
            "visibility": null,
            "width": null
          }
        },
        "2dd6fc3e4377437490ec25239b211ed5": {
          "model_module": "@jupyter-widgets/controls",
          "model_name": "DescriptionStyleModel",
          "model_module_version": "1.5.0",
          "state": {
            "_model_module": "@jupyter-widgets/controls",
            "_model_module_version": "1.5.0",
            "_model_name": "DescriptionStyleModel",
            "_view_count": null,
            "_view_module": "@jupyter-widgets/base",
            "_view_module_version": "1.2.0",
            "_view_name": "StyleView",
            "description_width": ""
          }
        },
        "5348cfaf69e44a82b7f2dd5b35973ef4": {
          "model_module": "@jupyter-widgets/controls",
          "model_name": "HBoxModel",
          "model_module_version": "1.5.0",
          "state": {
            "_dom_classes": [],
            "_model_module": "@jupyter-widgets/controls",
            "_model_module_version": "1.5.0",
            "_model_name": "HBoxModel",
            "_view_count": null,
            "_view_module": "@jupyter-widgets/controls",
            "_view_module_version": "1.5.0",
            "_view_name": "HBoxView",
            "box_style": "",
            "children": [
              "IPY_MODEL_f2c4fc1265ca4486973e6a3787bf542d",
              "IPY_MODEL_81c382c37dd94e17ae0e6c684f676536",
              "IPY_MODEL_561c0a10916b412492b08e4d454c10b4"
            ],
            "layout": "IPY_MODEL_831506bccb8e4c4b8e04d86445f1f194"
          }
        },
        "f2c4fc1265ca4486973e6a3787bf542d": {
          "model_module": "@jupyter-widgets/controls",
          "model_name": "HTMLModel",
          "model_module_version": "1.5.0",
          "state": {
            "_dom_classes": [],
            "_model_module": "@jupyter-widgets/controls",
            "_model_module_version": "1.5.0",
            "_model_name": "HTMLModel",
            "_view_count": null,
            "_view_module": "@jupyter-widgets/controls",
            "_view_module_version": "1.5.0",
            "_view_name": "HTMLView",
            "description": "",
            "description_tooltip": null,
            "layout": "IPY_MODEL_df61a0de192e4eb783d5e6e716d6ac6a",
            "placeholder": "​",
            "style": "IPY_MODEL_455c64472f2d47d0bf6228ecef85a8b2",
            "value": "Assign values: 100%"
          }
        },
        "81c382c37dd94e17ae0e6c684f676536": {
          "model_module": "@jupyter-widgets/controls",
          "model_name": "FloatProgressModel",
          "model_module_version": "1.5.0",
          "state": {
            "_dom_classes": [],
            "_model_module": "@jupyter-widgets/controls",
            "_model_module_version": "1.5.0",
            "_model_name": "FloatProgressModel",
            "_view_count": null,
            "_view_module": "@jupyter-widgets/controls",
            "_view_module_version": "1.5.0",
            "_view_name": "ProgressView",
            "bar_style": "success",
            "description": "",
            "description_tooltip": null,
            "layout": "IPY_MODEL_762b4586de684d80bbaf31d352246fcc",
            "max": 2,
            "min": 0,
            "orientation": "horizontal",
            "style": "IPY_MODEL_3d15dfe33acc4b3bb668710a799388a4",
            "value": 2
          }
        },
        "561c0a10916b412492b08e4d454c10b4": {
          "model_module": "@jupyter-widgets/controls",
          "model_name": "HTMLModel",
          "model_module_version": "1.5.0",
          "state": {
            "_dom_classes": [],
            "_model_module": "@jupyter-widgets/controls",
            "_model_module_version": "1.5.0",
            "_model_name": "HTMLModel",
            "_view_count": null,
            "_view_module": "@jupyter-widgets/controls",
            "_view_module_version": "1.5.0",
            "_view_name": "HTMLView",
            "description": "",
            "description_tooltip": null,
            "layout": "IPY_MODEL_2f1c30781f0a48759f614090fc05c48c",
            "placeholder": "​",
            "style": "IPY_MODEL_3ad0793bf7d54de59e0d237ae77b9d62",
            "value": " 2/2 [00:00&lt;00:00, 119.08it/s]"
          }
        },
        "831506bccb8e4c4b8e04d86445f1f194": {
          "model_module": "@jupyter-widgets/base",
          "model_name": "LayoutModel",
          "model_module_version": "1.2.0",
          "state": {
            "_model_module": "@jupyter-widgets/base",
            "_model_module_version": "1.2.0",
            "_model_name": "LayoutModel",
            "_view_count": null,
            "_view_module": "@jupyter-widgets/base",
            "_view_module_version": "1.2.0",
            "_view_name": "LayoutView",
            "align_content": null,
            "align_items": null,
            "align_self": null,
            "border": null,
            "bottom": null,
            "display": null,
            "flex": null,
            "flex_flow": null,
            "grid_area": null,
            "grid_auto_columns": null,
            "grid_auto_flow": null,
            "grid_auto_rows": null,
            "grid_column": null,
            "grid_gap": null,
            "grid_row": null,
            "grid_template_areas": null,
            "grid_template_columns": null,
            "grid_template_rows": null,
            "height": null,
            "justify_content": null,
            "justify_items": null,
            "left": null,
            "margin": null,
            "max_height": null,
            "max_width": null,
            "min_height": null,
            "min_width": null,
            "object_fit": null,
            "object_position": null,
            "order": null,
            "overflow": null,
            "overflow_x": null,
            "overflow_y": null,
            "padding": null,
            "right": null,
            "top": null,
            "visibility": null,
            "width": null
          }
        },
        "df61a0de192e4eb783d5e6e716d6ac6a": {
          "model_module": "@jupyter-widgets/base",
          "model_name": "LayoutModel",
          "model_module_version": "1.2.0",
          "state": {
            "_model_module": "@jupyter-widgets/base",
            "_model_module_version": "1.2.0",
            "_model_name": "LayoutModel",
            "_view_count": null,
            "_view_module": "@jupyter-widgets/base",
            "_view_module_version": "1.2.0",
            "_view_name": "LayoutView",
            "align_content": null,
            "align_items": null,
            "align_self": null,
            "border": null,
            "bottom": null,
            "display": null,
            "flex": null,
            "flex_flow": null,
            "grid_area": null,
            "grid_auto_columns": null,
            "grid_auto_flow": null,
            "grid_auto_rows": null,
            "grid_column": null,
            "grid_gap": null,
            "grid_row": null,
            "grid_template_areas": null,
            "grid_template_columns": null,
            "grid_template_rows": null,
            "height": null,
            "justify_content": null,
            "justify_items": null,
            "left": null,
            "margin": null,
            "max_height": null,
            "max_width": null,
            "min_height": null,
            "min_width": null,
            "object_fit": null,
            "object_position": null,
            "order": null,
            "overflow": null,
            "overflow_x": null,
            "overflow_y": null,
            "padding": null,
            "right": null,
            "top": null,
            "visibility": null,
            "width": null
          }
        },
        "455c64472f2d47d0bf6228ecef85a8b2": {
          "model_module": "@jupyter-widgets/controls",
          "model_name": "DescriptionStyleModel",
          "model_module_version": "1.5.0",
          "state": {
            "_model_module": "@jupyter-widgets/controls",
            "_model_module_version": "1.5.0",
            "_model_name": "DescriptionStyleModel",
            "_view_count": null,
            "_view_module": "@jupyter-widgets/base",
            "_view_module_version": "1.2.0",
            "_view_name": "StyleView",
            "description_width": ""
          }
        },
        "762b4586de684d80bbaf31d352246fcc": {
          "model_module": "@jupyter-widgets/base",
          "model_name": "LayoutModel",
          "model_module_version": "1.2.0",
          "state": {
            "_model_module": "@jupyter-widgets/base",
            "_model_module_version": "1.2.0",
            "_model_name": "LayoutModel",
            "_view_count": null,
            "_view_module": "@jupyter-widgets/base",
            "_view_module_version": "1.2.0",
            "_view_name": "LayoutView",
            "align_content": null,
            "align_items": null,
            "align_self": null,
            "border": null,
            "bottom": null,
            "display": null,
            "flex": null,
            "flex_flow": null,
            "grid_area": null,
            "grid_auto_columns": null,
            "grid_auto_flow": null,
            "grid_auto_rows": null,
            "grid_column": null,
            "grid_gap": null,
            "grid_row": null,
            "grid_template_areas": null,
            "grid_template_columns": null,
            "grid_template_rows": null,
            "height": null,
            "justify_content": null,
            "justify_items": null,
            "left": null,
            "margin": null,
            "max_height": null,
            "max_width": null,
            "min_height": null,
            "min_width": null,
            "object_fit": null,
            "object_position": null,
            "order": null,
            "overflow": null,
            "overflow_x": null,
            "overflow_y": null,
            "padding": null,
            "right": null,
            "top": null,
            "visibility": null,
            "width": null
          }
        },
        "3d15dfe33acc4b3bb668710a799388a4": {
          "model_module": "@jupyter-widgets/controls",
          "model_name": "ProgressStyleModel",
          "model_module_version": "1.5.0",
          "state": {
            "_model_module": "@jupyter-widgets/controls",
            "_model_module_version": "1.5.0",
            "_model_name": "ProgressStyleModel",
            "_view_count": null,
            "_view_module": "@jupyter-widgets/base",
            "_view_module_version": "1.2.0",
            "_view_name": "StyleView",
            "bar_color": null,
            "description_width": ""
          }
        },
        "2f1c30781f0a48759f614090fc05c48c": {
          "model_module": "@jupyter-widgets/base",
          "model_name": "LayoutModel",
          "model_module_version": "1.2.0",
          "state": {
            "_model_module": "@jupyter-widgets/base",
            "_model_module_version": "1.2.0",
            "_model_name": "LayoutModel",
            "_view_count": null,
            "_view_module": "@jupyter-widgets/base",
            "_view_module_version": "1.2.0",
            "_view_name": "LayoutView",
            "align_content": null,
            "align_items": null,
            "align_self": null,
            "border": null,
            "bottom": null,
            "display": null,
            "flex": null,
            "flex_flow": null,
            "grid_area": null,
            "grid_auto_columns": null,
            "grid_auto_flow": null,
            "grid_auto_rows": null,
            "grid_column": null,
            "grid_gap": null,
            "grid_row": null,
            "grid_template_areas": null,
            "grid_template_columns": null,
            "grid_template_rows": null,
            "height": null,
            "justify_content": null,
            "justify_items": null,
            "left": null,
            "margin": null,
            "max_height": null,
            "max_width": null,
            "min_height": null,
            "min_width": null,
            "object_fit": null,
            "object_position": null,
            "order": null,
            "overflow": null,
            "overflow_x": null,
            "overflow_y": null,
            "padding": null,
            "right": null,
            "top": null,
            "visibility": null,
            "width": null
          }
        },
        "3ad0793bf7d54de59e0d237ae77b9d62": {
          "model_module": "@jupyter-widgets/controls",
          "model_name": "DescriptionStyleModel",
          "model_module_version": "1.5.0",
          "state": {
            "_model_module": "@jupyter-widgets/controls",
            "_model_module_version": "1.5.0",
            "_model_name": "DescriptionStyleModel",
            "_view_count": null,
            "_view_module": "@jupyter-widgets/base",
            "_view_module_version": "1.2.0",
            "_view_name": "StyleView",
            "description_width": ""
          }
        },
        "dea5673511ba46cca13c531ae664ebdb": {
          "model_module": "@jupyter-widgets/controls",
          "model_name": "HBoxModel",
          "model_module_version": "1.5.0",
          "state": {
            "_dom_classes": [],
            "_model_module": "@jupyter-widgets/controls",
            "_model_module_version": "1.5.0",
            "_model_name": "HBoxModel",
            "_view_count": null,
            "_view_module": "@jupyter-widgets/controls",
            "_view_module_version": "1.5.0",
            "_view_name": "HBoxView",
            "box_style": "",
            "children": [
              "IPY_MODEL_6fe1687dbb9740568771f669440de47c",
              "IPY_MODEL_44a2bc3680e84fa9b5af27750ac07bc5",
              "IPY_MODEL_fd3b2d505c074b07b2506ce28d148616"
            ],
            "layout": "IPY_MODEL_1bae300a805f459a9462afeb00136c15"
          }
        },
        "6fe1687dbb9740568771f669440de47c": {
          "model_module": "@jupyter-widgets/controls",
          "model_name": "HTMLModel",
          "model_module_version": "1.5.0",
          "state": {
            "_dom_classes": [],
            "_model_module": "@jupyter-widgets/controls",
            "_model_module_version": "1.5.0",
            "_model_name": "HTMLModel",
            "_view_count": null,
            "_view_module": "@jupyter-widgets/controls",
            "_view_module_version": "1.5.0",
            "_view_name": "HTMLView",
            "description": "",
            "description_tooltip": null,
            "layout": "IPY_MODEL_165f4954b23f4284862f9b135a799890",
            "placeholder": "​",
            "style": "IPY_MODEL_32a6900855f947f6a0f277bffa9f540c",
            "value": "Assign values: 100%"
          }
        },
        "44a2bc3680e84fa9b5af27750ac07bc5": {
          "model_module": "@jupyter-widgets/controls",
          "model_name": "FloatProgressModel",
          "model_module_version": "1.5.0",
          "state": {
            "_dom_classes": [],
            "_model_module": "@jupyter-widgets/controls",
            "_model_module_version": "1.5.0",
            "_model_name": "FloatProgressModel",
            "_view_count": null,
            "_view_module": "@jupyter-widgets/controls",
            "_view_module_version": "1.5.0",
            "_view_name": "ProgressView",
            "bar_style": "success",
            "description": "",
            "description_tooltip": null,
            "layout": "IPY_MODEL_9360afff169c4516ac4ed1eb5bcd8267",
            "max": 2,
            "min": 0,
            "orientation": "horizontal",
            "style": "IPY_MODEL_61e2503d005f4398b3676e39cb525b02",
            "value": 2
          }
        },
        "fd3b2d505c074b07b2506ce28d148616": {
          "model_module": "@jupyter-widgets/controls",
          "model_name": "HTMLModel",
          "model_module_version": "1.5.0",
          "state": {
            "_dom_classes": [],
            "_model_module": "@jupyter-widgets/controls",
            "_model_module_version": "1.5.0",
            "_model_name": "HTMLModel",
            "_view_count": null,
            "_view_module": "@jupyter-widgets/controls",
            "_view_module_version": "1.5.0",
            "_view_name": "HTMLView",
            "description": "",
            "description_tooltip": null,
            "layout": "IPY_MODEL_eceb2e74422342d88dcbff397f5a8df3",
            "placeholder": "​",
            "style": "IPY_MODEL_e1ee8f3b27c04f25ac39d92fbebff555",
            "value": " 2/2 [00:00&lt;00:00, 91.73it/s]"
          }
        },
        "1bae300a805f459a9462afeb00136c15": {
          "model_module": "@jupyter-widgets/base",
          "model_name": "LayoutModel",
          "model_module_version": "1.2.0",
          "state": {
            "_model_module": "@jupyter-widgets/base",
            "_model_module_version": "1.2.0",
            "_model_name": "LayoutModel",
            "_view_count": null,
            "_view_module": "@jupyter-widgets/base",
            "_view_module_version": "1.2.0",
            "_view_name": "LayoutView",
            "align_content": null,
            "align_items": null,
            "align_self": null,
            "border": null,
            "bottom": null,
            "display": null,
            "flex": null,
            "flex_flow": null,
            "grid_area": null,
            "grid_auto_columns": null,
            "grid_auto_flow": null,
            "grid_auto_rows": null,
            "grid_column": null,
            "grid_gap": null,
            "grid_row": null,
            "grid_template_areas": null,
            "grid_template_columns": null,
            "grid_template_rows": null,
            "height": null,
            "justify_content": null,
            "justify_items": null,
            "left": null,
            "margin": null,
            "max_height": null,
            "max_width": null,
            "min_height": null,
            "min_width": null,
            "object_fit": null,
            "object_position": null,
            "order": null,
            "overflow": null,
            "overflow_x": null,
            "overflow_y": null,
            "padding": null,
            "right": null,
            "top": null,
            "visibility": null,
            "width": null
          }
        },
        "165f4954b23f4284862f9b135a799890": {
          "model_module": "@jupyter-widgets/base",
          "model_name": "LayoutModel",
          "model_module_version": "1.2.0",
          "state": {
            "_model_module": "@jupyter-widgets/base",
            "_model_module_version": "1.2.0",
            "_model_name": "LayoutModel",
            "_view_count": null,
            "_view_module": "@jupyter-widgets/base",
            "_view_module_version": "1.2.0",
            "_view_name": "LayoutView",
            "align_content": null,
            "align_items": null,
            "align_self": null,
            "border": null,
            "bottom": null,
            "display": null,
            "flex": null,
            "flex_flow": null,
            "grid_area": null,
            "grid_auto_columns": null,
            "grid_auto_flow": null,
            "grid_auto_rows": null,
            "grid_column": null,
            "grid_gap": null,
            "grid_row": null,
            "grid_template_areas": null,
            "grid_template_columns": null,
            "grid_template_rows": null,
            "height": null,
            "justify_content": null,
            "justify_items": null,
            "left": null,
            "margin": null,
            "max_height": null,
            "max_width": null,
            "min_height": null,
            "min_width": null,
            "object_fit": null,
            "object_position": null,
            "order": null,
            "overflow": null,
            "overflow_x": null,
            "overflow_y": null,
            "padding": null,
            "right": null,
            "top": null,
            "visibility": null,
            "width": null
          }
        },
        "32a6900855f947f6a0f277bffa9f540c": {
          "model_module": "@jupyter-widgets/controls",
          "model_name": "DescriptionStyleModel",
          "model_module_version": "1.5.0",
          "state": {
            "_model_module": "@jupyter-widgets/controls",
            "_model_module_version": "1.5.0",
            "_model_name": "DescriptionStyleModel",
            "_view_count": null,
            "_view_module": "@jupyter-widgets/base",
            "_view_module_version": "1.2.0",
            "_view_name": "StyleView",
            "description_width": ""
          }
        },
        "9360afff169c4516ac4ed1eb5bcd8267": {
          "model_module": "@jupyter-widgets/base",
          "model_name": "LayoutModel",
          "model_module_version": "1.2.0",
          "state": {
            "_model_module": "@jupyter-widgets/base",
            "_model_module_version": "1.2.0",
            "_model_name": "LayoutModel",
            "_view_count": null,
            "_view_module": "@jupyter-widgets/base",
            "_view_module_version": "1.2.0",
            "_view_name": "LayoutView",
            "align_content": null,
            "align_items": null,
            "align_self": null,
            "border": null,
            "bottom": null,
            "display": null,
            "flex": null,
            "flex_flow": null,
            "grid_area": null,
            "grid_auto_columns": null,
            "grid_auto_flow": null,
            "grid_auto_rows": null,
            "grid_column": null,
            "grid_gap": null,
            "grid_row": null,
            "grid_template_areas": null,
            "grid_template_columns": null,
            "grid_template_rows": null,
            "height": null,
            "justify_content": null,
            "justify_items": null,
            "left": null,
            "margin": null,
            "max_height": null,
            "max_width": null,
            "min_height": null,
            "min_width": null,
            "object_fit": null,
            "object_position": null,
            "order": null,
            "overflow": null,
            "overflow_x": null,
            "overflow_y": null,
            "padding": null,
            "right": null,
            "top": null,
            "visibility": null,
            "width": null
          }
        },
        "61e2503d005f4398b3676e39cb525b02": {
          "model_module": "@jupyter-widgets/controls",
          "model_name": "ProgressStyleModel",
          "model_module_version": "1.5.0",
          "state": {
            "_model_module": "@jupyter-widgets/controls",
            "_model_module_version": "1.5.0",
            "_model_name": "ProgressStyleModel",
            "_view_count": null,
            "_view_module": "@jupyter-widgets/base",
            "_view_module_version": "1.2.0",
            "_view_name": "StyleView",
            "bar_color": null,
            "description_width": ""
          }
        },
        "eceb2e74422342d88dcbff397f5a8df3": {
          "model_module": "@jupyter-widgets/base",
          "model_name": "LayoutModel",
          "model_module_version": "1.2.0",
          "state": {
            "_model_module": "@jupyter-widgets/base",
            "_model_module_version": "1.2.0",
            "_model_name": "LayoutModel",
            "_view_count": null,
            "_view_module": "@jupyter-widgets/base",
            "_view_module_version": "1.2.0",
            "_view_name": "LayoutView",
            "align_content": null,
            "align_items": null,
            "align_self": null,
            "border": null,
            "bottom": null,
            "display": null,
            "flex": null,
            "flex_flow": null,
            "grid_area": null,
            "grid_auto_columns": null,
            "grid_auto_flow": null,
            "grid_auto_rows": null,
            "grid_column": null,
            "grid_gap": null,
            "grid_row": null,
            "grid_template_areas": null,
            "grid_template_columns": null,
            "grid_template_rows": null,
            "height": null,
            "justify_content": null,
            "justify_items": null,
            "left": null,
            "margin": null,
            "max_height": null,
            "max_width": null,
            "min_height": null,
            "min_width": null,
            "object_fit": null,
            "object_position": null,
            "order": null,
            "overflow": null,
            "overflow_x": null,
            "overflow_y": null,
            "padding": null,
            "right": null,
            "top": null,
            "visibility": null,
            "width": null
          }
        },
        "e1ee8f3b27c04f25ac39d92fbebff555": {
          "model_module": "@jupyter-widgets/controls",
          "model_name": "DescriptionStyleModel",
          "model_module_version": "1.5.0",
          "state": {
            "_model_module": "@jupyter-widgets/controls",
            "_model_module_version": "1.5.0",
            "_model_name": "DescriptionStyleModel",
            "_view_count": null,
            "_view_module": "@jupyter-widgets/base",
            "_view_module_version": "1.2.0",
            "_view_name": "StyleView",
            "description_width": ""
          }
        },
        "4f3126c8b82641c1b02771aafd3101ca": {
          "model_module": "@jupyter-widgets/controls",
          "model_name": "HBoxModel",
          "model_module_version": "1.5.0",
          "state": {
            "_dom_classes": [],
            "_model_module": "@jupyter-widgets/controls",
            "_model_module_version": "1.5.0",
            "_model_name": "HBoxModel",
            "_view_count": null,
            "_view_module": "@jupyter-widgets/controls",
            "_view_module_version": "1.5.0",
            "_view_name": "HBoxView",
            "box_style": "",
            "children": [
              "IPY_MODEL_b1c5f535fa314b089e53f7dfcc4f2ae3",
              "IPY_MODEL_8da2bf5f1ba4495fa3d4e78b089c574e",
              "IPY_MODEL_0f371a37c3204b278d0e19c5a30d034b"
            ],
            "layout": "IPY_MODEL_04210475550b4a9fa05946be014eab48"
          }
        },
        "b1c5f535fa314b089e53f7dfcc4f2ae3": {
          "model_module": "@jupyter-widgets/controls",
          "model_name": "HTMLModel",
          "model_module_version": "1.5.0",
          "state": {
            "_dom_classes": [],
            "_model_module": "@jupyter-widgets/controls",
            "_model_module_version": "1.5.0",
            "_model_name": "HTMLModel",
            "_view_count": null,
            "_view_module": "@jupyter-widgets/controls",
            "_view_module_version": "1.5.0",
            "_view_name": "HTMLView",
            "description": "",
            "description_tooltip": null,
            "layout": "IPY_MODEL_2e8c972ff9ee430386b8895fc053fe52",
            "placeholder": "​",
            "style": "IPY_MODEL_0962088409c34e30a11ecb1aa196568c",
            "value": "Assign values: 100%"
          }
        },
        "8da2bf5f1ba4495fa3d4e78b089c574e": {
          "model_module": "@jupyter-widgets/controls",
          "model_name": "FloatProgressModel",
          "model_module_version": "1.5.0",
          "state": {
            "_dom_classes": [],
            "_model_module": "@jupyter-widgets/controls",
            "_model_module_version": "1.5.0",
            "_model_name": "FloatProgressModel",
            "_view_count": null,
            "_view_module": "@jupyter-widgets/controls",
            "_view_module_version": "1.5.0",
            "_view_name": "ProgressView",
            "bar_style": "success",
            "description": "",
            "description_tooltip": null,
            "layout": "IPY_MODEL_692e5367d40e40af9e41d65d42f57c26",
            "max": 1,
            "min": 0,
            "orientation": "horizontal",
            "style": "IPY_MODEL_2e362e79fa9742a5b5946808110351e4",
            "value": 1
          }
        },
        "0f371a37c3204b278d0e19c5a30d034b": {
          "model_module": "@jupyter-widgets/controls",
          "model_name": "HTMLModel",
          "model_module_version": "1.5.0",
          "state": {
            "_dom_classes": [],
            "_model_module": "@jupyter-widgets/controls",
            "_model_module_version": "1.5.0",
            "_model_name": "HTMLModel",
            "_view_count": null,
            "_view_module": "@jupyter-widgets/controls",
            "_view_module_version": "1.5.0",
            "_view_name": "HTMLView",
            "description": "",
            "description_tooltip": null,
            "layout": "IPY_MODEL_6a6b76fc6f614def82903d77b94f9703",
            "placeholder": "​",
            "style": "IPY_MODEL_23ed303c08074ff4adb483bed59187ae",
            "value": " 1/1 [00:00&lt;00:00, 38.97it/s]"
          }
        },
        "04210475550b4a9fa05946be014eab48": {
          "model_module": "@jupyter-widgets/base",
          "model_name": "LayoutModel",
          "model_module_version": "1.2.0",
          "state": {
            "_model_module": "@jupyter-widgets/base",
            "_model_module_version": "1.2.0",
            "_model_name": "LayoutModel",
            "_view_count": null,
            "_view_module": "@jupyter-widgets/base",
            "_view_module_version": "1.2.0",
            "_view_name": "LayoutView",
            "align_content": null,
            "align_items": null,
            "align_self": null,
            "border": null,
            "bottom": null,
            "display": null,
            "flex": null,
            "flex_flow": null,
            "grid_area": null,
            "grid_auto_columns": null,
            "grid_auto_flow": null,
            "grid_auto_rows": null,
            "grid_column": null,
            "grid_gap": null,
            "grid_row": null,
            "grid_template_areas": null,
            "grid_template_columns": null,
            "grid_template_rows": null,
            "height": null,
            "justify_content": null,
            "justify_items": null,
            "left": null,
            "margin": null,
            "max_height": null,
            "max_width": null,
            "min_height": null,
            "min_width": null,
            "object_fit": null,
            "object_position": null,
            "order": null,
            "overflow": null,
            "overflow_x": null,
            "overflow_y": null,
            "padding": null,
            "right": null,
            "top": null,
            "visibility": null,
            "width": null
          }
        },
        "2e8c972ff9ee430386b8895fc053fe52": {
          "model_module": "@jupyter-widgets/base",
          "model_name": "LayoutModel",
          "model_module_version": "1.2.0",
          "state": {
            "_model_module": "@jupyter-widgets/base",
            "_model_module_version": "1.2.0",
            "_model_name": "LayoutModel",
            "_view_count": null,
            "_view_module": "@jupyter-widgets/base",
            "_view_module_version": "1.2.0",
            "_view_name": "LayoutView",
            "align_content": null,
            "align_items": null,
            "align_self": null,
            "border": null,
            "bottom": null,
            "display": null,
            "flex": null,
            "flex_flow": null,
            "grid_area": null,
            "grid_auto_columns": null,
            "grid_auto_flow": null,
            "grid_auto_rows": null,
            "grid_column": null,
            "grid_gap": null,
            "grid_row": null,
            "grid_template_areas": null,
            "grid_template_columns": null,
            "grid_template_rows": null,
            "height": null,
            "justify_content": null,
            "justify_items": null,
            "left": null,
            "margin": null,
            "max_height": null,
            "max_width": null,
            "min_height": null,
            "min_width": null,
            "object_fit": null,
            "object_position": null,
            "order": null,
            "overflow": null,
            "overflow_x": null,
            "overflow_y": null,
            "padding": null,
            "right": null,
            "top": null,
            "visibility": null,
            "width": null
          }
        },
        "0962088409c34e30a11ecb1aa196568c": {
          "model_module": "@jupyter-widgets/controls",
          "model_name": "DescriptionStyleModel",
          "model_module_version": "1.5.0",
          "state": {
            "_model_module": "@jupyter-widgets/controls",
            "_model_module_version": "1.5.0",
            "_model_name": "DescriptionStyleModel",
            "_view_count": null,
            "_view_module": "@jupyter-widgets/base",
            "_view_module_version": "1.2.0",
            "_view_name": "StyleView",
            "description_width": ""
          }
        },
        "692e5367d40e40af9e41d65d42f57c26": {
          "model_module": "@jupyter-widgets/base",
          "model_name": "LayoutModel",
          "model_module_version": "1.2.0",
          "state": {
            "_model_module": "@jupyter-widgets/base",
            "_model_module_version": "1.2.0",
            "_model_name": "LayoutModel",
            "_view_count": null,
            "_view_module": "@jupyter-widgets/base",
            "_view_module_version": "1.2.0",
            "_view_name": "LayoutView",
            "align_content": null,
            "align_items": null,
            "align_self": null,
            "border": null,
            "bottom": null,
            "display": null,
            "flex": null,
            "flex_flow": null,
            "grid_area": null,
            "grid_auto_columns": null,
            "grid_auto_flow": null,
            "grid_auto_rows": null,
            "grid_column": null,
            "grid_gap": null,
            "grid_row": null,
            "grid_template_areas": null,
            "grid_template_columns": null,
            "grid_template_rows": null,
            "height": null,
            "justify_content": null,
            "justify_items": null,
            "left": null,
            "margin": null,
            "max_height": null,
            "max_width": null,
            "min_height": null,
            "min_width": null,
            "object_fit": null,
            "object_position": null,
            "order": null,
            "overflow": null,
            "overflow_x": null,
            "overflow_y": null,
            "padding": null,
            "right": null,
            "top": null,
            "visibility": null,
            "width": null
          }
        },
        "2e362e79fa9742a5b5946808110351e4": {
          "model_module": "@jupyter-widgets/controls",
          "model_name": "ProgressStyleModel",
          "model_module_version": "1.5.0",
          "state": {
            "_model_module": "@jupyter-widgets/controls",
            "_model_module_version": "1.5.0",
            "_model_name": "ProgressStyleModel",
            "_view_count": null,
            "_view_module": "@jupyter-widgets/base",
            "_view_module_version": "1.2.0",
            "_view_name": "StyleView",
            "bar_color": null,
            "description_width": ""
          }
        },
        "6a6b76fc6f614def82903d77b94f9703": {
          "model_module": "@jupyter-widgets/base",
          "model_name": "LayoutModel",
          "model_module_version": "1.2.0",
          "state": {
            "_model_module": "@jupyter-widgets/base",
            "_model_module_version": "1.2.0",
            "_model_name": "LayoutModel",
            "_view_count": null,
            "_view_module": "@jupyter-widgets/base",
            "_view_module_version": "1.2.0",
            "_view_name": "LayoutView",
            "align_content": null,
            "align_items": null,
            "align_self": null,
            "border": null,
            "bottom": null,
            "display": null,
            "flex": null,
            "flex_flow": null,
            "grid_area": null,
            "grid_auto_columns": null,
            "grid_auto_flow": null,
            "grid_auto_rows": null,
            "grid_column": null,
            "grid_gap": null,
            "grid_row": null,
            "grid_template_areas": null,
            "grid_template_columns": null,
            "grid_template_rows": null,
            "height": null,
            "justify_content": null,
            "justify_items": null,
            "left": null,
            "margin": null,
            "max_height": null,
            "max_width": null,
            "min_height": null,
            "min_width": null,
            "object_fit": null,
            "object_position": null,
            "order": null,
            "overflow": null,
            "overflow_x": null,
            "overflow_y": null,
            "padding": null,
            "right": null,
            "top": null,
            "visibility": null,
            "width": null
          }
        },
        "23ed303c08074ff4adb483bed59187ae": {
          "model_module": "@jupyter-widgets/controls",
          "model_name": "DescriptionStyleModel",
          "model_module_version": "1.5.0",
          "state": {
            "_model_module": "@jupyter-widgets/controls",
            "_model_module_version": "1.5.0",
            "_model_name": "DescriptionStyleModel",
            "_view_count": null,
            "_view_module": "@jupyter-widgets/base",
            "_view_module_version": "1.2.0",
            "_view_name": "StyleView",
            "description_width": ""
          }
        },
        "2589b64416184f06a7219caad9ba3762": {
          "model_module": "@jupyter-widgets/controls",
          "model_name": "HBoxModel",
          "model_module_version": "1.5.0",
          "state": {
            "_dom_classes": [],
            "_model_module": "@jupyter-widgets/controls",
            "_model_module_version": "1.5.0",
            "_model_name": "HBoxModel",
            "_view_count": null,
            "_view_module": "@jupyter-widgets/controls",
            "_view_module_version": "1.5.0",
            "_view_name": "HBoxView",
            "box_style": "",
            "children": [
              "IPY_MODEL_014cd89cf87e486cb3ae8af6a53c5b3e",
              "IPY_MODEL_dae169abb41e452682a78b5ecc2895fa",
              "IPY_MODEL_0ccf8d823c544065afa5459291061a5a"
            ],
            "layout": "IPY_MODEL_c28b0eb29e6d4d1eb1ad587f7832fcb5"
          }
        },
        "014cd89cf87e486cb3ae8af6a53c5b3e": {
          "model_module": "@jupyter-widgets/controls",
          "model_name": "HTMLModel",
          "model_module_version": "1.5.0",
          "state": {
            "_dom_classes": [],
            "_model_module": "@jupyter-widgets/controls",
            "_model_module_version": "1.5.0",
            "_model_name": "HTMLModel",
            "_view_count": null,
            "_view_module": "@jupyter-widgets/controls",
            "_view_module_version": "1.5.0",
            "_view_name": "HTMLView",
            "description": "",
            "description_tooltip": null,
            "layout": "IPY_MODEL_a3bf00cbb3584c41aff5a6c64740cfc2",
            "placeholder": "​",
            "style": "IPY_MODEL_5525c7cc418b4d3ea6b261c10bec19d6",
            "value": "Assign values: 100%"
          }
        },
        "dae169abb41e452682a78b5ecc2895fa": {
          "model_module": "@jupyter-widgets/controls",
          "model_name": "FloatProgressModel",
          "model_module_version": "1.5.0",
          "state": {
            "_dom_classes": [],
            "_model_module": "@jupyter-widgets/controls",
            "_model_module_version": "1.5.0",
            "_model_name": "FloatProgressModel",
            "_view_count": null,
            "_view_module": "@jupyter-widgets/controls",
            "_view_module_version": "1.5.0",
            "_view_name": "ProgressView",
            "bar_style": "success",
            "description": "",
            "description_tooltip": null,
            "layout": "IPY_MODEL_cd85a9b75fba4bc191b143e7d86025ff",
            "max": 2,
            "min": 0,
            "orientation": "horizontal",
            "style": "IPY_MODEL_db38cb5ffce14c10bd2a8786f0122e77",
            "value": 2
          }
        },
        "0ccf8d823c544065afa5459291061a5a": {
          "model_module": "@jupyter-widgets/controls",
          "model_name": "HTMLModel",
          "model_module_version": "1.5.0",
          "state": {
            "_dom_classes": [],
            "_model_module": "@jupyter-widgets/controls",
            "_model_module_version": "1.5.0",
            "_model_name": "HTMLModel",
            "_view_count": null,
            "_view_module": "@jupyter-widgets/controls",
            "_view_module_version": "1.5.0",
            "_view_name": "HTMLView",
            "description": "",
            "description_tooltip": null,
            "layout": "IPY_MODEL_5b660d7bef59438f9aadf8fd0fc53f9f",
            "placeholder": "​",
            "style": "IPY_MODEL_3fdd432b0a4c49c4a15011231a49c187",
            "value": " 2/2 [00:00&lt;00:00, 107.96it/s]"
          }
        },
        "c28b0eb29e6d4d1eb1ad587f7832fcb5": {
          "model_module": "@jupyter-widgets/base",
          "model_name": "LayoutModel",
          "model_module_version": "1.2.0",
          "state": {
            "_model_module": "@jupyter-widgets/base",
            "_model_module_version": "1.2.0",
            "_model_name": "LayoutModel",
            "_view_count": null,
            "_view_module": "@jupyter-widgets/base",
            "_view_module_version": "1.2.0",
            "_view_name": "LayoutView",
            "align_content": null,
            "align_items": null,
            "align_self": null,
            "border": null,
            "bottom": null,
            "display": null,
            "flex": null,
            "flex_flow": null,
            "grid_area": null,
            "grid_auto_columns": null,
            "grid_auto_flow": null,
            "grid_auto_rows": null,
            "grid_column": null,
            "grid_gap": null,
            "grid_row": null,
            "grid_template_areas": null,
            "grid_template_columns": null,
            "grid_template_rows": null,
            "height": null,
            "justify_content": null,
            "justify_items": null,
            "left": null,
            "margin": null,
            "max_height": null,
            "max_width": null,
            "min_height": null,
            "min_width": null,
            "object_fit": null,
            "object_position": null,
            "order": null,
            "overflow": null,
            "overflow_x": null,
            "overflow_y": null,
            "padding": null,
            "right": null,
            "top": null,
            "visibility": null,
            "width": null
          }
        },
        "a3bf00cbb3584c41aff5a6c64740cfc2": {
          "model_module": "@jupyter-widgets/base",
          "model_name": "LayoutModel",
          "model_module_version": "1.2.0",
          "state": {
            "_model_module": "@jupyter-widgets/base",
            "_model_module_version": "1.2.0",
            "_model_name": "LayoutModel",
            "_view_count": null,
            "_view_module": "@jupyter-widgets/base",
            "_view_module_version": "1.2.0",
            "_view_name": "LayoutView",
            "align_content": null,
            "align_items": null,
            "align_self": null,
            "border": null,
            "bottom": null,
            "display": null,
            "flex": null,
            "flex_flow": null,
            "grid_area": null,
            "grid_auto_columns": null,
            "grid_auto_flow": null,
            "grid_auto_rows": null,
            "grid_column": null,
            "grid_gap": null,
            "grid_row": null,
            "grid_template_areas": null,
            "grid_template_columns": null,
            "grid_template_rows": null,
            "height": null,
            "justify_content": null,
            "justify_items": null,
            "left": null,
            "margin": null,
            "max_height": null,
            "max_width": null,
            "min_height": null,
            "min_width": null,
            "object_fit": null,
            "object_position": null,
            "order": null,
            "overflow": null,
            "overflow_x": null,
            "overflow_y": null,
            "padding": null,
            "right": null,
            "top": null,
            "visibility": null,
            "width": null
          }
        },
        "5525c7cc418b4d3ea6b261c10bec19d6": {
          "model_module": "@jupyter-widgets/controls",
          "model_name": "DescriptionStyleModel",
          "model_module_version": "1.5.0",
          "state": {
            "_model_module": "@jupyter-widgets/controls",
            "_model_module_version": "1.5.0",
            "_model_name": "DescriptionStyleModel",
            "_view_count": null,
            "_view_module": "@jupyter-widgets/base",
            "_view_module_version": "1.2.0",
            "_view_name": "StyleView",
            "description_width": ""
          }
        },
        "cd85a9b75fba4bc191b143e7d86025ff": {
          "model_module": "@jupyter-widgets/base",
          "model_name": "LayoutModel",
          "model_module_version": "1.2.0",
          "state": {
            "_model_module": "@jupyter-widgets/base",
            "_model_module_version": "1.2.0",
            "_model_name": "LayoutModel",
            "_view_count": null,
            "_view_module": "@jupyter-widgets/base",
            "_view_module_version": "1.2.0",
            "_view_name": "LayoutView",
            "align_content": null,
            "align_items": null,
            "align_self": null,
            "border": null,
            "bottom": null,
            "display": null,
            "flex": null,
            "flex_flow": null,
            "grid_area": null,
            "grid_auto_columns": null,
            "grid_auto_flow": null,
            "grid_auto_rows": null,
            "grid_column": null,
            "grid_gap": null,
            "grid_row": null,
            "grid_template_areas": null,
            "grid_template_columns": null,
            "grid_template_rows": null,
            "height": null,
            "justify_content": null,
            "justify_items": null,
            "left": null,
            "margin": null,
            "max_height": null,
            "max_width": null,
            "min_height": null,
            "min_width": null,
            "object_fit": null,
            "object_position": null,
            "order": null,
            "overflow": null,
            "overflow_x": null,
            "overflow_y": null,
            "padding": null,
            "right": null,
            "top": null,
            "visibility": null,
            "width": null
          }
        },
        "db38cb5ffce14c10bd2a8786f0122e77": {
          "model_module": "@jupyter-widgets/controls",
          "model_name": "ProgressStyleModel",
          "model_module_version": "1.5.0",
          "state": {
            "_model_module": "@jupyter-widgets/controls",
            "_model_module_version": "1.5.0",
            "_model_name": "ProgressStyleModel",
            "_view_count": null,
            "_view_module": "@jupyter-widgets/base",
            "_view_module_version": "1.2.0",
            "_view_name": "StyleView",
            "bar_color": null,
            "description_width": ""
          }
        },
        "5b660d7bef59438f9aadf8fd0fc53f9f": {
          "model_module": "@jupyter-widgets/base",
          "model_name": "LayoutModel",
          "model_module_version": "1.2.0",
          "state": {
            "_model_module": "@jupyter-widgets/base",
            "_model_module_version": "1.2.0",
            "_model_name": "LayoutModel",
            "_view_count": null,
            "_view_module": "@jupyter-widgets/base",
            "_view_module_version": "1.2.0",
            "_view_name": "LayoutView",
            "align_content": null,
            "align_items": null,
            "align_self": null,
            "border": null,
            "bottom": null,
            "display": null,
            "flex": null,
            "flex_flow": null,
            "grid_area": null,
            "grid_auto_columns": null,
            "grid_auto_flow": null,
            "grid_auto_rows": null,
            "grid_column": null,
            "grid_gap": null,
            "grid_row": null,
            "grid_template_areas": null,
            "grid_template_columns": null,
            "grid_template_rows": null,
            "height": null,
            "justify_content": null,
            "justify_items": null,
            "left": null,
            "margin": null,
            "max_height": null,
            "max_width": null,
            "min_height": null,
            "min_width": null,
            "object_fit": null,
            "object_position": null,
            "order": null,
            "overflow": null,
            "overflow_x": null,
            "overflow_y": null,
            "padding": null,
            "right": null,
            "top": null,
            "visibility": null,
            "width": null
          }
        },
        "3fdd432b0a4c49c4a15011231a49c187": {
          "model_module": "@jupyter-widgets/controls",
          "model_name": "DescriptionStyleModel",
          "model_module_version": "1.5.0",
          "state": {
            "_model_module": "@jupyter-widgets/controls",
            "_model_module_version": "1.5.0",
            "_model_name": "DescriptionStyleModel",
            "_view_count": null,
            "_view_module": "@jupyter-widgets/base",
            "_view_module_version": "1.2.0",
            "_view_name": "StyleView",
            "description_width": ""
          }
        },
        "3dd4a517c13e4177b79545024cb55abe": {
          "model_module": "@jupyter-widgets/controls",
          "model_name": "HBoxModel",
          "model_module_version": "1.5.0",
          "state": {
            "_dom_classes": [],
            "_model_module": "@jupyter-widgets/controls",
            "_model_module_version": "1.5.0",
            "_model_name": "HBoxModel",
            "_view_count": null,
            "_view_module": "@jupyter-widgets/controls",
            "_view_module_version": "1.5.0",
            "_view_name": "HBoxView",
            "box_style": "",
            "children": [
              "IPY_MODEL_7fa954da9e3d49c389dc740ad1c44cc2",
              "IPY_MODEL_81e9e202dca749bda73db07ad75c4395",
              "IPY_MODEL_8147c403bc944cb5942bccffff7ecb13"
            ],
            "layout": "IPY_MODEL_7aab405ab3d2460092f97668ed677be6"
          }
        },
        "7fa954da9e3d49c389dc740ad1c44cc2": {
          "model_module": "@jupyter-widgets/controls",
          "model_name": "HTMLModel",
          "model_module_version": "1.5.0",
          "state": {
            "_dom_classes": [],
            "_model_module": "@jupyter-widgets/controls",
            "_model_module_version": "1.5.0",
            "_model_name": "HTMLModel",
            "_view_count": null,
            "_view_module": "@jupyter-widgets/controls",
            "_view_module_version": "1.5.0",
            "_view_name": "HTMLView",
            "description": "",
            "description_tooltip": null,
            "layout": "IPY_MODEL_9d399f1685354befad2fdcf75bf4ec14",
            "placeholder": "​",
            "style": "IPY_MODEL_d942436fc3fd4a2b9d4590c5883f99b2",
            "value": "Assign values: 100%"
          }
        },
        "81e9e202dca749bda73db07ad75c4395": {
          "model_module": "@jupyter-widgets/controls",
          "model_name": "FloatProgressModel",
          "model_module_version": "1.5.0",
          "state": {
            "_dom_classes": [],
            "_model_module": "@jupyter-widgets/controls",
            "_model_module_version": "1.5.0",
            "_model_name": "FloatProgressModel",
            "_view_count": null,
            "_view_module": "@jupyter-widgets/controls",
            "_view_module_version": "1.5.0",
            "_view_name": "ProgressView",
            "bar_style": "success",
            "description": "",
            "description_tooltip": null,
            "layout": "IPY_MODEL_5b3a397a96fd4ca9b704563f1ea24b54",
            "max": 2,
            "min": 0,
            "orientation": "horizontal",
            "style": "IPY_MODEL_01fa509015ce4207822dd593d95351bb",
            "value": 2
          }
        },
        "8147c403bc944cb5942bccffff7ecb13": {
          "model_module": "@jupyter-widgets/controls",
          "model_name": "HTMLModel",
          "model_module_version": "1.5.0",
          "state": {
            "_dom_classes": [],
            "_model_module": "@jupyter-widgets/controls",
            "_model_module_version": "1.5.0",
            "_model_name": "HTMLModel",
            "_view_count": null,
            "_view_module": "@jupyter-widgets/controls",
            "_view_module_version": "1.5.0",
            "_view_name": "HTMLView",
            "description": "",
            "description_tooltip": null,
            "layout": "IPY_MODEL_51293dd6984c4e2d9eec189ef875725d",
            "placeholder": "​",
            "style": "IPY_MODEL_2d7360440ed941f2b3ffa95fcdc88b1a",
            "value": " 2/2 [00:00&lt;00:00, 112.75it/s]"
          }
        },
        "7aab405ab3d2460092f97668ed677be6": {
          "model_module": "@jupyter-widgets/base",
          "model_name": "LayoutModel",
          "model_module_version": "1.2.0",
          "state": {
            "_model_module": "@jupyter-widgets/base",
            "_model_module_version": "1.2.0",
            "_model_name": "LayoutModel",
            "_view_count": null,
            "_view_module": "@jupyter-widgets/base",
            "_view_module_version": "1.2.0",
            "_view_name": "LayoutView",
            "align_content": null,
            "align_items": null,
            "align_self": null,
            "border": null,
            "bottom": null,
            "display": null,
            "flex": null,
            "flex_flow": null,
            "grid_area": null,
            "grid_auto_columns": null,
            "grid_auto_flow": null,
            "grid_auto_rows": null,
            "grid_column": null,
            "grid_gap": null,
            "grid_row": null,
            "grid_template_areas": null,
            "grid_template_columns": null,
            "grid_template_rows": null,
            "height": null,
            "justify_content": null,
            "justify_items": null,
            "left": null,
            "margin": null,
            "max_height": null,
            "max_width": null,
            "min_height": null,
            "min_width": null,
            "object_fit": null,
            "object_position": null,
            "order": null,
            "overflow": null,
            "overflow_x": null,
            "overflow_y": null,
            "padding": null,
            "right": null,
            "top": null,
            "visibility": null,
            "width": null
          }
        },
        "9d399f1685354befad2fdcf75bf4ec14": {
          "model_module": "@jupyter-widgets/base",
          "model_name": "LayoutModel",
          "model_module_version": "1.2.0",
          "state": {
            "_model_module": "@jupyter-widgets/base",
            "_model_module_version": "1.2.0",
            "_model_name": "LayoutModel",
            "_view_count": null,
            "_view_module": "@jupyter-widgets/base",
            "_view_module_version": "1.2.0",
            "_view_name": "LayoutView",
            "align_content": null,
            "align_items": null,
            "align_self": null,
            "border": null,
            "bottom": null,
            "display": null,
            "flex": null,
            "flex_flow": null,
            "grid_area": null,
            "grid_auto_columns": null,
            "grid_auto_flow": null,
            "grid_auto_rows": null,
            "grid_column": null,
            "grid_gap": null,
            "grid_row": null,
            "grid_template_areas": null,
            "grid_template_columns": null,
            "grid_template_rows": null,
            "height": null,
            "justify_content": null,
            "justify_items": null,
            "left": null,
            "margin": null,
            "max_height": null,
            "max_width": null,
            "min_height": null,
            "min_width": null,
            "object_fit": null,
            "object_position": null,
            "order": null,
            "overflow": null,
            "overflow_x": null,
            "overflow_y": null,
            "padding": null,
            "right": null,
            "top": null,
            "visibility": null,
            "width": null
          }
        },
        "d942436fc3fd4a2b9d4590c5883f99b2": {
          "model_module": "@jupyter-widgets/controls",
          "model_name": "DescriptionStyleModel",
          "model_module_version": "1.5.0",
          "state": {
            "_model_module": "@jupyter-widgets/controls",
            "_model_module_version": "1.5.0",
            "_model_name": "DescriptionStyleModel",
            "_view_count": null,
            "_view_module": "@jupyter-widgets/base",
            "_view_module_version": "1.2.0",
            "_view_name": "StyleView",
            "description_width": ""
          }
        },
        "5b3a397a96fd4ca9b704563f1ea24b54": {
          "model_module": "@jupyter-widgets/base",
          "model_name": "LayoutModel",
          "model_module_version": "1.2.0",
          "state": {
            "_model_module": "@jupyter-widgets/base",
            "_model_module_version": "1.2.0",
            "_model_name": "LayoutModel",
            "_view_count": null,
            "_view_module": "@jupyter-widgets/base",
            "_view_module_version": "1.2.0",
            "_view_name": "LayoutView",
            "align_content": null,
            "align_items": null,
            "align_self": null,
            "border": null,
            "bottom": null,
            "display": null,
            "flex": null,
            "flex_flow": null,
            "grid_area": null,
            "grid_auto_columns": null,
            "grid_auto_flow": null,
            "grid_auto_rows": null,
            "grid_column": null,
            "grid_gap": null,
            "grid_row": null,
            "grid_template_areas": null,
            "grid_template_columns": null,
            "grid_template_rows": null,
            "height": null,
            "justify_content": null,
            "justify_items": null,
            "left": null,
            "margin": null,
            "max_height": null,
            "max_width": null,
            "min_height": null,
            "min_width": null,
            "object_fit": null,
            "object_position": null,
            "order": null,
            "overflow": null,
            "overflow_x": null,
            "overflow_y": null,
            "padding": null,
            "right": null,
            "top": null,
            "visibility": null,
            "width": null
          }
        },
        "01fa509015ce4207822dd593d95351bb": {
          "model_module": "@jupyter-widgets/controls",
          "model_name": "ProgressStyleModel",
          "model_module_version": "1.5.0",
          "state": {
            "_model_module": "@jupyter-widgets/controls",
            "_model_module_version": "1.5.0",
            "_model_name": "ProgressStyleModel",
            "_view_count": null,
            "_view_module": "@jupyter-widgets/base",
            "_view_module_version": "1.2.0",
            "_view_name": "StyleView",
            "bar_color": null,
            "description_width": ""
          }
        },
        "51293dd6984c4e2d9eec189ef875725d": {
          "model_module": "@jupyter-widgets/base",
          "model_name": "LayoutModel",
          "model_module_version": "1.2.0",
          "state": {
            "_model_module": "@jupyter-widgets/base",
            "_model_module_version": "1.2.0",
            "_model_name": "LayoutModel",
            "_view_count": null,
            "_view_module": "@jupyter-widgets/base",
            "_view_module_version": "1.2.0",
            "_view_name": "LayoutView",
            "align_content": null,
            "align_items": null,
            "align_self": null,
            "border": null,
            "bottom": null,
            "display": null,
            "flex": null,
            "flex_flow": null,
            "grid_area": null,
            "grid_auto_columns": null,
            "grid_auto_flow": null,
            "grid_auto_rows": null,
            "grid_column": null,
            "grid_gap": null,
            "grid_row": null,
            "grid_template_areas": null,
            "grid_template_columns": null,
            "grid_template_rows": null,
            "height": null,
            "justify_content": null,
            "justify_items": null,
            "left": null,
            "margin": null,
            "max_height": null,
            "max_width": null,
            "min_height": null,
            "min_width": null,
            "object_fit": null,
            "object_position": null,
            "order": null,
            "overflow": null,
            "overflow_x": null,
            "overflow_y": null,
            "padding": null,
            "right": null,
            "top": null,
            "visibility": null,
            "width": null
          }
        },
        "2d7360440ed941f2b3ffa95fcdc88b1a": {
          "model_module": "@jupyter-widgets/controls",
          "model_name": "DescriptionStyleModel",
          "model_module_version": "1.5.0",
          "state": {
            "_model_module": "@jupyter-widgets/controls",
            "_model_module_version": "1.5.0",
            "_model_name": "DescriptionStyleModel",
            "_view_count": null,
            "_view_module": "@jupyter-widgets/base",
            "_view_module_version": "1.2.0",
            "_view_name": "StyleView",
            "description_width": ""
          }
        }
      }
    }
  },
  "cells": [
    {
      "cell_type": "markdown",
      "metadata": {
        "id": "view-in-github",
        "colab_type": "text"
      },
      "source": [
        "<a href=\"https://colab.research.google.com/github/shlomi1993/deep-learning-notebooks/blob/main/3_autograd.ipynb\" target=\"_parent\"><img src=\"https://colab.research.google.com/assets/colab-badge.svg\" alt=\"Open In Colab\"/></a>"
      ]
    },
    {
      "cell_type": "markdown",
      "metadata": {
        "id": "dT77AcUlZ-n0"
      },
      "source": [
        "# Autograd"
      ]
    },
    {
      "cell_type": "markdown",
      "source": [
        "## Imports"
      ],
      "metadata": {
        "id": "CkVKQ0XRHZ7Y"
      }
    },
    {
      "cell_type": "markdown",
      "source": [
        "Importing necessary modules. torch is used for all tensor operations. typing is used to define input types more clearly (like tuples or lists), and tqdm is used for progress display when iterating through the loop."
      ],
      "metadata": {
        "id": "dewblBqsHe45"
      }
    },
    {
      "cell_type": "code",
      "source": [
        "import torch\n",
        "import math\n",
        "import matplotlib.pyplot as plt\n",
        "\n",
        "from typing import Tuple, List, Dict, Union, Optional\n",
        "from tqdm.notebook import tqdm"
      ],
      "metadata": {
        "id": "bvi3F8HcHnLP"
      },
      "execution_count": null,
      "outputs": []
    },
    {
      "cell_type": "markdown",
      "source": [
        "## Implement `Multinomial` Function"
      ],
      "metadata": {
        "id": "hUJyIhpFHs3u"
      }
    },
    {
      "cell_type": "markdown",
      "source": [
        "### Introduction"
      ],
      "metadata": {
        "id": "J4JhXHwSG0Og"
      }
    },
    {
      "cell_type": "markdown",
      "source": [
        "The task is to implement a function `my_sampler` that gets `size`, `dist`, `requires_grad` parameters and samples integers according to a given discrete probability distribution. This function is a custom implementation for `torch.multinomial`.\n",
        "\n",
        "The function should return a PyTorch tensor of the specified shape (`size`) containing integers from `0` to `n-1`, where `n` is the length of the distribution dist.\n",
        "\n",
        "Each integer `i` should be sampled with probability `dist[i]`. The function must validate the input distribution, optionally support gradient tracking, and use only one Python loop, which must begin with `for i in range(len(dist) - 1):`.\n",
        "\n",
        "Using `torch.multinomial` or similar high-level sampling functions is not allowed."
      ],
      "metadata": {
        "id": "2KTZ3tJFGawf"
      }
    },
    {
      "cell_type": "markdown",
      "source": [
        "### Function Definition"
      ],
      "metadata": {
        "id": "myKk785gIDUZ"
      }
    },
    {
      "cell_type": "markdown",
      "source": [
        "The function `my_sampler` accepts three parameters:\n",
        "- `size` - Determines the shape of the output tensor.\n",
        "- `dist` - A list of probabilities defining the discrete distribution\n",
        "- `requires_grad` - A boolean flag indicating whether the returned tensor should track gradients for PyTorch's autograd system.\n",
        "\n",
        "The function returns a PyTorch tensor filled with integers sampled from the range `[0, len(dist) - 1]` according to the probabilities specified in dist. The returned tensor will have the shape specified by size. If `requires_grad=True` is passed, the tensor will track gradients, enabling it to be used in autograd-based computations."
      ],
      "metadata": {
        "id": "dk6egJYhIFVU"
      }
    },
    {
      "cell_type": "code",
      "execution_count": null,
      "metadata": {
        "id": "S9Yj8AQl_iQz"
      },
      "outputs": [],
      "source": [
        "def my_sampler(size: Union[int, Tuple[int, ...]], dist: List[float], requires_grad: bool = False) -> torch.Tensor:\n",
        "    # Convert dist to a torch tensor of type float32\n",
        "    dist_tensor = torch.tensor(dist, dtype=torch.float32)\n",
        "\n",
        "    # Validate the distribution\n",
        "    assert torch.all(dist_tensor > 0), \"All probabilities must be positive\"\n",
        "    assert torch.abs(dist_tensor.sum() - 1.0) < 1e-6, \"Probabilities must sum to 1\"\n",
        "\n",
        "    # Compute cumulative distribution\n",
        "    cumsum = torch.cumsum(dist_tensor, dim=0)\n",
        "\n",
        "    # Sample uniform values\n",
        "    U = torch.rand(size)\n",
        "\n",
        "    # Allocate tensor for samples\n",
        "    samples = torch.empty(size, dtype=torch.float32)\n",
        "\n",
        "    # Loop through the intervals to assign values\n",
        "    for i in tqdm(range(len(dist) - 1), desc=\"Assign values\"):\n",
        "        condition = (U >= cumsum[i]) & (U < cumsum[i + 1])\n",
        "        samples[condition] = float(i + 1)\n",
        "\n",
        "    # Assign value 0 where U < cumsum[0] and value n where U >= cumsum[-1]\n",
        "    samples[U < cumsum[0]] = 0.0\n",
        "    samples[U >= cumsum[-1]] = float(len(dist) - 1)\n",
        "\n",
        "    # Set requires_grad if requested\n",
        "    if requires_grad:\n",
        "        samples.requires_grad_()\n",
        "\n",
        "    return samples"
      ]
    },
    {
      "cell_type": "markdown",
      "source": [
        "### Implementation Notes"
      ],
      "metadata": {
        "id": "mLvkmsvWIvkE"
      }
    },
    {
      "cell_type": "markdown",
      "source": [
        "1. **Converting and balidating the distribution:** The input list `dist` is first converted to a PyTorch tensor with type `float32`. Two assertions are then made: one to ensure all probabilities are strictly positive, and another to ensure their sum is approximately 1 (allowing a small margin of error due to floating-point arithmetic). These checks ensure that the distribution is valid for sampling.\n",
        "\n",
        "2. **Compute the cumulative distribution:** The cumulative sum of the distribution is computed using the allowed PyTorch function `torch.cumsum`. This is a common method used in inverse transform sampling to define ranges for mapping a uniform random value to one of the discrete classes. For example, with `dist = [0.1, 0.2, 0.7]`, the cumulative distribution would be `[0.1, 0.3, 1.0]`.\n",
        "\n",
        "3. **Sample uniform random values:** Uniform random values in the range `[0, 1)` are sampled using the allowd PyTorch function `torch.rand` with the given `size`. These values are used to decide which class (0, 1, 2, ...) each sample should be assigned to, based on where the uniform value falls in the cumulative distribution.\n",
        "\n",
        "4. **Allocate output tensor:** An empty tensor with the same shape is created using the `torch.empty` constructor that I assumed we can use as we need a simple function for tensor allocation, with data type `float32`. This tensor will be filled with the sampled class values in the following steps.\n",
        "\n",
        "5. **Loop through the cumulative distribution:** A single loop is used to iterate over the distribution intervals, starting from `0` to `len(dist) - 2`, as required by the assignment. For each interval `i`, a condition is checked to see which uniform values fall between `cumsum[i]` and `cumsum[i + 1]`. These positions are then assigned the value `i + 1`, indicating they belong to the corresponding class. This loop fills in all sampled values except for those in the first and last interval, which are handled separately.\n",
        "\n",
        "6. **Handle edge cases:** The values of the tensor where the uniform random value is less than `cumsum[0]` are assigned the class `0`, since they fall into the first bucket. Similarly, values where the uniform is greater than or equal to `cumsum[-1]` are assigned the highest class index, which is `len(dist) - 1`. This ensures all possible uniform values are properly categorized into discrete class indices.\n",
        "\n",
        "7. **Set requires grad if needed:** If the `requires_grad` parameter is set to `True`, the output tensor is updated in-place to track gradients using `requires_grad_()`. This is useful in cases where the samples will be part of a computation graph and used in optimization.\n",
        "\n",
        "8. **Return the sampled tensor:** The completed tensor is returned, containing values sampled according to the specified distribution. Each entry is an integer index from `0` to `len(dist) - 1`, where the frequency of each index matches its corresponding probability in the distribution."
      ],
      "metadata": {
        "id": "5Wb_nAVGIzxG"
      }
    },
    {
      "cell_type": "markdown",
      "source": [
        "### Tests"
      ],
      "metadata": {
        "id": "iqKhl_Z3Lyzt"
      }
    },
    {
      "cell_type": "markdown",
      "source": [
        "The following tests validates:\n",
        "- Sanity - by checking the assignment given example\n",
        "- Shapes\n",
        "- Sample values\n",
        "- Usage of requires_grad flag\n",
        "- Appropriate handling of invalid inputs such as negative probabilities or distributions that do not sum to 1.\n",
        "- Edge cases where the uniform value falls outside the first or last intervals."
      ],
      "metadata": {
        "id": "EcZbO8dnL0tT"
      }
    },
    {
      "cell_type": "markdown",
      "source": [
        "###### Test given assignment output example"
      ],
      "metadata": {
        "id": "_QjDViLKjbSV"
      }
    },
    {
      "cell_type": "code",
      "source": [
        "s = my_sampler(10, [0.5, 0.5])\n",
        "assert set(s.tolist()).issubset({0.0, 1.0}), \"Sample output includes unexpected values\"\n",
        "A = my_sampler((2, 8), [0.1, 0.2, 0.7], requires_grad=True)\n",
        "assert A.shape == (2, 8), \"Shape mismatch in example tensor\"\n",
        "assert A.requires_grad, \"Example tensor should require grad\"\n",
        "assert A.grad is None, \"Gradient should be None before backprop\"\n",
        "assert set(torch.unique(A).tolist()).issubset([0.0, 1.0, 2.0]), \"Unexpected values in sampled tensor\"\n",
        "print(\"✅ Test passed!\")"
      ],
      "metadata": {
        "colab": {
          "base_uri": "https://localhost:8080/",
          "height": 99,
          "referenced_widgets": [
            "54ab2a10913a4e069c0066b08f873096",
            "54cd69ffe6f7469ba69621a788453946",
            "d041a9c064714c81b82d6fefe972a973",
            "5a51b995f57e4d21939ba6db21f15c21",
            "2cddb31a3c6a4164b1fa7da2356d775d",
            "53bd503907ec4d8badf81c292714822c",
            "600ef571865e4880a97f6f1021795d5d",
            "83e8ceb124514fd18b99f7392a1dc303",
            "53da1a988ae14d37969b06be0032d311",
            "4272a2e2c94246338d3235eff45beb02",
            "ffc9b9572d004df589fb4f20bf5134c6",
            "9122755f27e940b88d1dc1f310368fd1",
            "cb8ac3c801694497899048be71874cea",
            "26ad7eb791cb4706affe26cb3be2b3d4",
            "eaed266f1d074c359bb61b34aefe19e2",
            "9336a4eccd144f9d91222136d00886a2",
            "09e8057377e24d9e97c0c762269a9fc1",
            "3ce5daf45cb14cd0a7b67163a111c1b9",
            "ef951a83bcdd4547b952e0f4c682765b",
            "34ea7e5416cb407fadbc2c89bd4413f5",
            "86a1a42df1784ed8b926a2a2e3d8497e",
            "64ce5508c10d41769c22fda3455d3340"
          ]
        },
        "id": "YYmIdZLDjfgd",
        "outputId": "a49da4dc-b291-483b-f579-69b6b5266e6a"
      },
      "execution_count": null,
      "outputs": [
        {
          "output_type": "display_data",
          "data": {
            "text/plain": [
              "Assign values:   0%|          | 0/1 [00:00<?, ?it/s]"
            ],
            "application/vnd.jupyter.widget-view+json": {
              "version_major": 2,
              "version_minor": 0,
              "model_id": "54ab2a10913a4e069c0066b08f873096"
            }
          },
          "metadata": {}
        },
        {
          "output_type": "display_data",
          "data": {
            "text/plain": [
              "Assign values:   0%|          | 0/2 [00:00<?, ?it/s]"
            ],
            "application/vnd.jupyter.widget-view+json": {
              "version_major": 2,
              "version_minor": 0,
              "model_id": "9122755f27e940b88d1dc1f310368fd1"
            }
          },
          "metadata": {}
        },
        {
          "output_type": "stream",
          "name": "stdout",
          "text": [
            "✅ Test passed!\n"
          ]
        }
      ]
    },
    {
      "cell_type": "markdown",
      "source": [
        "###### Test correct shape of output"
      ],
      "metadata": {
        "id": "FhIl0iBMjs6x"
      }
    },
    {
      "cell_type": "code",
      "source": [
        "assert my_sampler(5, [0.5, 0.5]).shape == (5,), \"Shape mismatch for 1D size\"\n",
        "assert my_sampler((2, 3), [0.1, 0.2, 0.7]).shape == (2, 3), \"Shape mismatch for 2D size\"\n",
        "print(\"✅ Test passed!\")"
      ],
      "metadata": {
        "colab": {
          "base_uri": "https://localhost:8080/",
          "height": 99,
          "referenced_widgets": [
            "81a6699f392f4560bc29d404537bb6f3",
            "f86bb27b9f0b4a0881a08f26f6ccb7ea",
            "b32aced55cb64a7282142b5917fe23d6",
            "a7e89cb0b0944797a9572ea3fa8e5c3c",
            "dfba21e3d8494ee2869cf15e597fa69f",
            "56a56ce02d344c0ab0ae4ed779605147",
            "96a1d0b7b624458da8611c144257c2a5",
            "109080e067fa4e03b0696b6b4cc30d2e",
            "383e04b3bf9f46f8aa327366c69f4617",
            "c7162597f6094d1a9f7be9b120222154",
            "8914fa4f675941369b9917f27898414c",
            "9c709901ad6948fa9a63ad5ecb9254c0",
            "2dfab3798c0b4221972a299acee937f9",
            "c47b2d79ef4c49f7bb17fb1cd240cfce",
            "129952b400484275a285edbfe75ce2ec",
            "8f68671a61b147bf8fb3fe87ee87c138",
            "ecf35de88d404501b229ddb139a4fce8",
            "bbdb13bac6214925b1f68f37594df988",
            "ec8bbdd616d64e57a4c3a900a4f55797",
            "ce8bf71c1d654d8f81dc971fcec6536b",
            "06ef2bad5d624568ba7dd90be989860c",
            "2dd6fc3e4377437490ec25239b211ed5"
          ]
        },
        "id": "Ng9Mq9ohjuKB",
        "outputId": "e0dbceb1-0a85-4f12-eeaf-1a2f8b7315ee"
      },
      "execution_count": null,
      "outputs": [
        {
          "output_type": "display_data",
          "data": {
            "text/plain": [
              "Assign values:   0%|          | 0/1 [00:00<?, ?it/s]"
            ],
            "application/vnd.jupyter.widget-view+json": {
              "version_major": 2,
              "version_minor": 0,
              "model_id": "81a6699f392f4560bc29d404537bb6f3"
            }
          },
          "metadata": {}
        },
        {
          "output_type": "display_data",
          "data": {
            "text/plain": [
              "Assign values:   0%|          | 0/2 [00:00<?, ?it/s]"
            ],
            "application/vnd.jupyter.widget-view+json": {
              "version_major": 2,
              "version_minor": 0,
              "model_id": "9c709901ad6948fa9a63ad5ecb9254c0"
            }
          },
          "metadata": {}
        },
        {
          "output_type": "stream",
          "name": "stdout",
          "text": [
            "✅ Test passed!\n"
          ]
        }
      ]
    },
    {
      "cell_type": "markdown",
      "source": [
        "###### Test that sampled values are within valid range"
      ],
      "metadata": {
        "id": "m-SqvfpjkA23"
      }
    },
    {
      "cell_type": "code",
      "source": [
        "dist = [0.2, 0.3, 0.5]\n",
        "samples = my_sampler(1000, dist)\n",
        "assert samples.min().item() >= 0, \"Sampled values include values < 0\"\n",
        "assert samples.max().item() <= len(dist) - 1, \"Sampled values exceed expected maximum\"\n",
        "print(\"✅ Test passed!\")"
      ],
      "metadata": {
        "colab": {
          "base_uri": "https://localhost:8080/",
          "height": 67,
          "referenced_widgets": [
            "5348cfaf69e44a82b7f2dd5b35973ef4",
            "f2c4fc1265ca4486973e6a3787bf542d",
            "81c382c37dd94e17ae0e6c684f676536",
            "561c0a10916b412492b08e4d454c10b4",
            "831506bccb8e4c4b8e04d86445f1f194",
            "df61a0de192e4eb783d5e6e716d6ac6a",
            "455c64472f2d47d0bf6228ecef85a8b2",
            "762b4586de684d80bbaf31d352246fcc",
            "3d15dfe33acc4b3bb668710a799388a4",
            "2f1c30781f0a48759f614090fc05c48c",
            "3ad0793bf7d54de59e0d237ae77b9d62"
          ]
        },
        "id": "oOtZVppmkERe",
        "outputId": "883dbf2a-c05b-4d66-d957-c54a36ed2fdd"
      },
      "execution_count": null,
      "outputs": [
        {
          "output_type": "display_data",
          "data": {
            "text/plain": [
              "Assign values:   0%|          | 0/2 [00:00<?, ?it/s]"
            ],
            "application/vnd.jupyter.widget-view+json": {
              "version_major": 2,
              "version_minor": 0,
              "model_id": "5348cfaf69e44a82b7f2dd5b35973ef4"
            }
          },
          "metadata": {}
        },
        {
          "output_type": "stream",
          "name": "stdout",
          "text": [
            "✅ Test passed!\n"
          ]
        }
      ]
    },
    {
      "cell_type": "markdown",
      "source": [
        "###### Test `requires_grad` flag"
      ],
      "metadata": {
        "id": "XF33DcjGkF-y"
      }
    },
    {
      "cell_type": "code",
      "source": [
        "t = my_sampler((4, 4), [0.1, 0.2, 0.7], requires_grad=True)\n",
        "assert t.requires_grad, \"Tensor should have requires_grad=True\"\n",
        "print(\"✅ Test passed!\")"
      ],
      "metadata": {
        "colab": {
          "base_uri": "https://localhost:8080/",
          "height": 67,
          "referenced_widgets": [
            "dea5673511ba46cca13c531ae664ebdb",
            "6fe1687dbb9740568771f669440de47c",
            "44a2bc3680e84fa9b5af27750ac07bc5",
            "fd3b2d505c074b07b2506ce28d148616",
            "1bae300a805f459a9462afeb00136c15",
            "165f4954b23f4284862f9b135a799890",
            "32a6900855f947f6a0f277bffa9f540c",
            "9360afff169c4516ac4ed1eb5bcd8267",
            "61e2503d005f4398b3676e39cb525b02",
            "eceb2e74422342d88dcbff397f5a8df3",
            "e1ee8f3b27c04f25ac39d92fbebff555"
          ]
        },
        "id": "YdAq_qFXkGWW",
        "outputId": "176600ce-b7a1-4322-9d5d-ad39a35ad593"
      },
      "execution_count": null,
      "outputs": [
        {
          "output_type": "display_data",
          "data": {
            "text/plain": [
              "Assign values:   0%|          | 0/2 [00:00<?, ?it/s]"
            ],
            "application/vnd.jupyter.widget-view+json": {
              "version_major": 2,
              "version_minor": 0,
              "model_id": "dea5673511ba46cca13c531ae664ebdb"
            }
          },
          "metadata": {}
        },
        {
          "output_type": "stream",
          "name": "stdout",
          "text": [
            "✅ Test passed!\n"
          ]
        }
      ]
    },
    {
      "cell_type": "markdown",
      "source": [
        "###### Test that invalid distributions (not summing to 1) raise an error"
      ],
      "metadata": {
        "id": "rnMA77TekPnV"
      }
    },
    {
      "cell_type": "code",
      "source": [
        "try:\n",
        "    my_sampler(10, [0.2, 0.2, 0.2])\n",
        "    assert False, \"Expected AssertionError for invalid sum of probabilities\"\n",
        "except AssertionError as e:\n",
        "    assert \"sum to 1\" in str(e), \"Wrong error message for invalid sum\"\n",
        "print(\"✅ Test passed!\")"
      ],
      "metadata": {
        "colab": {
          "base_uri": "https://localhost:8080/"
        },
        "id": "6I05eK5WkN4o",
        "outputId": "1ec0c568-e525-44f1-bb21-dc4facd0ecbd"
      },
      "execution_count": null,
      "outputs": [
        {
          "output_type": "stream",
          "name": "stdout",
          "text": [
            "✅ Test passed!\n"
          ]
        }
      ]
    },
    {
      "cell_type": "markdown",
      "source": [
        "###### Test that negative probabilities raise an error"
      ],
      "metadata": {
        "id": "ALkpOnvbkNe_"
      }
    },
    {
      "cell_type": "code",
      "source": [
        "try:\n",
        "    my_sampler(10, [0.1, -0.1, 1.0])\n",
        "    assert False, \"Expected AssertionError for negative probability\"\n",
        "except AssertionError as e:\n",
        "    assert \"All probabilities must be positive\" in str(e), \"Wrong error message for negative values\"\n",
        "print(\"✅ Test passed!\")"
      ],
      "metadata": {
        "colab": {
          "base_uri": "https://localhost:8080/"
        },
        "id": "9gTprt-kkYbM",
        "outputId": "c5f4c829-b895-4b38-9bab-f52ef0023197"
      },
      "execution_count": null,
      "outputs": [
        {
          "output_type": "stream",
          "name": "stdout",
          "text": [
            "✅ Test passed!\n"
          ]
        }
      ]
    },
    {
      "cell_type": "markdown",
      "source": [
        "###### Test create artificial `U < p0` by using a single sample and mocked dist"
      ],
      "metadata": {
        "id": "RDHYFZXbkcar"
      }
    },
    {
      "cell_type": "code",
      "source": [
        "torch.manual_seed(0)\n",
        "dist = [0.9, 0.1]\n",
        "s = my_sampler(1000, dist)\n",
        "assert (s == 0).sum() > 800, \"Too few zeros — possible failure in U < p0 handling\"\n",
        "print(\"✅ Test passed!\")"
      ],
      "metadata": {
        "colab": {
          "base_uri": "https://localhost:8080/",
          "height": 67,
          "referenced_widgets": [
            "4f3126c8b82641c1b02771aafd3101ca",
            "b1c5f535fa314b089e53f7dfcc4f2ae3",
            "8da2bf5f1ba4495fa3d4e78b089c574e",
            "0f371a37c3204b278d0e19c5a30d034b",
            "04210475550b4a9fa05946be014eab48",
            "2e8c972ff9ee430386b8895fc053fe52",
            "0962088409c34e30a11ecb1aa196568c",
            "692e5367d40e40af9e41d65d42f57c26",
            "2e362e79fa9742a5b5946808110351e4",
            "6a6b76fc6f614def82903d77b94f9703",
            "23ed303c08074ff4adb483bed59187ae"
          ]
        },
        "id": "JNnENmbZkeas",
        "outputId": "467e1411-d44b-4923-f0ca-7499bfea4618"
      },
      "execution_count": null,
      "outputs": [
        {
          "output_type": "display_data",
          "data": {
            "text/plain": [
              "Assign values:   0%|          | 0/1 [00:00<?, ?it/s]"
            ],
            "application/vnd.jupyter.widget-view+json": {
              "version_major": 2,
              "version_minor": 0,
              "model_id": "4f3126c8b82641c1b02771aafd3101ca"
            }
          },
          "metadata": {}
        },
        {
          "output_type": "stream",
          "name": "stdout",
          "text": [
            "✅ Test passed!\n"
          ]
        }
      ]
    },
    {
      "cell_type": "markdown",
      "source": [
        "###### Test `U >= cumsum[-1]` is handled correctly"
      ],
      "metadata": {
        "id": "F7OBoF5BkghO"
      }
    },
    {
      "cell_type": "code",
      "source": [
        "dist = [0.3, 0.3, 0.4]\n",
        "torch.manual_seed(123)\n",
        "s = my_sampler(10000, dist)\n",
        "assert (s == 2).sum() > 3000, \"Too few 2's — possible failure in U >= cumsum[-1] handling\"\n",
        "print(\"✅ Test passed!\")"
      ],
      "metadata": {
        "colab": {
          "base_uri": "https://localhost:8080/",
          "height": 67,
          "referenced_widgets": [
            "2589b64416184f06a7219caad9ba3762",
            "014cd89cf87e486cb3ae8af6a53c5b3e",
            "dae169abb41e452682a78b5ecc2895fa",
            "0ccf8d823c544065afa5459291061a5a",
            "c28b0eb29e6d4d1eb1ad587f7832fcb5",
            "a3bf00cbb3584c41aff5a6c64740cfc2",
            "5525c7cc418b4d3ea6b261c10bec19d6",
            "cd85a9b75fba4bc191b143e7d86025ff",
            "db38cb5ffce14c10bd2a8786f0122e77",
            "5b660d7bef59438f9aadf8fd0fc53f9f",
            "3fdd432b0a4c49c4a15011231a49c187"
          ]
        },
        "id": "-i04IT9nkktA",
        "outputId": "c4a73392-7ca8-4e97-e37f-a7d887b202bf"
      },
      "execution_count": null,
      "outputs": [
        {
          "output_type": "display_data",
          "data": {
            "text/plain": [
              "Assign values:   0%|          | 0/2 [00:00<?, ?it/s]"
            ],
            "application/vnd.jupyter.widget-view+json": {
              "version_major": 2,
              "version_minor": 0,
              "model_id": "2589b64416184f06a7219caad9ba3762"
            }
          },
          "metadata": {}
        },
        {
          "output_type": "stream",
          "name": "stdout",
          "text": [
            "✅ Test passed!\n"
          ]
        }
      ]
    },
    {
      "cell_type": "markdown",
      "source": [
        "### Plot Distribution Histogram"
      ],
      "metadata": {
        "id": "oqg9Phs5Mmjq"
      }
    },
    {
      "cell_type": "markdown",
      "source": [
        "After drawing 10,000 samples from the distribution `[0.1, 0.2, 0.7]`, a we plot a histogram using the allowed `matplotlib.pyplot.hist`. The bin edges are carefully chosen to align with integer values (classes 0, 1, 2)."
      ],
      "metadata": {
        "id": "9gyhaVWwMsTA"
      }
    },
    {
      "cell_type": "code",
      "source": [
        "# Sample 10,000 values using tqdm\n",
        "n_samples = 10000\n",
        "dist = [0.1, 0.2, 0.7]\n",
        "samples = my_sampler(n_samples, dist).numpy()\n",
        "\n",
        "# Plot histogram\n",
        "plt.hist(samples, bins=[-0.5, 0.5, 1.5, 2.5], rwidth=0.8, align='mid')\n",
        "plt.xticks([0, 1, 2])\n",
        "plt.xlabel(\"Value\")\n",
        "plt.ylabel(\"Frequency\")\n",
        "plt.title(\"Histogram of 10,000 samples with tqdm progress\")\n",
        "plt.grid(True)\n",
        "plt.show()"
      ],
      "metadata": {
        "colab": {
          "base_uri": "https://localhost:8080/",
          "height": 504,
          "referenced_widgets": [
            "3dd4a517c13e4177b79545024cb55abe",
            "7fa954da9e3d49c389dc740ad1c44cc2",
            "81e9e202dca749bda73db07ad75c4395",
            "8147c403bc944cb5942bccffff7ecb13",
            "7aab405ab3d2460092f97668ed677be6",
            "9d399f1685354befad2fdcf75bf4ec14",
            "d942436fc3fd4a2b9d4590c5883f99b2",
            "5b3a397a96fd4ca9b704563f1ea24b54",
            "01fa509015ce4207822dd593d95351bb",
            "51293dd6984c4e2d9eec189ef875725d",
            "2d7360440ed941f2b3ffa95fcdc88b1a"
          ]
        },
        "id": "mEK2tXEDBq7v",
        "outputId": "b896d000-d1c4-4f17-f58f-5dd21d301232"
      },
      "execution_count": null,
      "outputs": [
        {
          "output_type": "display_data",
          "data": {
            "text/plain": [
              "Assign values:   0%|          | 0/2 [00:00<?, ?it/s]"
            ],
            "application/vnd.jupyter.widget-view+json": {
              "version_major": 2,
              "version_minor": 0,
              "model_id": "3dd4a517c13e4177b79545024cb55abe"
            }
          },
          "metadata": {}
        },
        {
          "output_type": "display_data",
          "data": {
            "text/plain": [
              "<Figure size 640x480 with 1 Axes>"
            ],
            "image/png": "[encoded data removed]"
          },
          "metadata": {}
        }
      ]
    },
    {
      "cell_type": "markdown",
      "source": [
        "This visual representation helps confirm that the function samples values according to the specified probabilities."
      ],
      "metadata": {
        "id": "ItIFaajXM_uz"
      }
    },
    {
      "cell_type": "markdown",
      "source": [
        "## Implement Autograd System"
      ],
      "metadata": {
        "id": "VYCv-b_2NNRE"
      }
    },
    {
      "cell_type": "markdown",
      "source": [
        "The task is to implement a custom scalar automatic differentiation system in Python, similar to PyTorch’s autograd system for scalar values.\n",
        "\n",
        "The system should support forward computation of scalar operations such as exponentiation, logarithm, trigonometric functions, addition, multiplication, division, and power. It should also enable computing gradients via a backward pass through the computation graph."
      ],
      "metadata": {
        "id": "gX_63ZvwlFo5"
      }
    },
    {
      "cell_type": "markdown",
      "source": [
        "### Class Implementation"
      ],
      "metadata": {
        "id": "kckAK6GJzU0N"
      }
    },
    {
      "cell_type": "markdown",
      "source": [
        "The `MyScalar` class stores a value, its gradient, and a reference to the scalar(s) used to create it. A backward pass is used to compute gradients by recursively traversing the computation graph."
      ],
      "metadata": {
        "id": "8MN92vjhlk9x"
      }
    },
    {
      "cell_type": "code",
      "source": [
        "class MyScalar:\n",
        "    \"\"\"\n",
        "    This class represents a scalar value that supports autograd functionality.\n",
        "\n",
        "    Attributes:\n",
        "        value (float): The actual scalar value.\n",
        "        grad_wrt_parent (float): The immediate gradient with respect to the parent node.\n",
        "        parent (Optional[MyScalar]): The previous node in the computational graph.\n",
        "    \"\"\"\n",
        "    def __init__(self, value: float, grad: float = 1.0, parent: Optional['MyScalar'] = None) -> None:\n",
        "        self.value = value           # A scalar value\n",
        "        self.grad_wrt_parent = grad  # The immediate derivative at this node\n",
        "        self.parent = parent         # The previous scalar used to create this one\n",
        "\n",
        "    def __repr__(self) -> str:\n",
        "        name = self.__class__.__name__\n",
        "        attributes = ', '.join(f\"{k}={v}\" for k, v in self.__dict__.items())\n",
        "        return f\"{name}({attributes})\""
      ],
      "metadata": {
        "id": "ZxaaM0QlNPV7"
      },
      "execution_count": null,
      "outputs": []
    },
    {
      "cell_type": "markdown",
      "source": [
        "### Math Library Function Implementations"
      ],
      "metadata": {
        "id": "wIfP6SdRgHmD"
      }
    },
    {
      "cell_type": "markdown",
      "source": [
        "#### Exponential operation"
      ],
      "metadata": {
        "id": "nFmTp02EzZ5P"
      }
    },
    {
      "cell_type": "code",
      "source": [
        "def exp(a: MyScalar) -> MyScalar:\n",
        "    \"\"\"\n",
        "    Computes e^a and tracks the gradient d/dx (e^x) = e^x.\n",
        "    \"\"\"\n",
        "    value = math.exp(a.value)\n",
        "    grad = value\n",
        "    return MyScalar(value, grad, parent=a)"
      ],
      "metadata": {
        "id": "sNJR5vKew8sP"
      },
      "execution_count": null,
      "outputs": []
    },
    {
      "cell_type": "markdown",
      "source": [
        "Sanity test for `exp`"
      ],
      "metadata": {
        "id": "qfo4qUBzgrfM"
      }
    },
    {
      "cell_type": "code",
      "source": [
        "assert exp(MyScalar(1.0)).value == math.exp(1.0), \"Test failed\""
      ],
      "metadata": {
        "id": "brQGoYW5A4km"
      },
      "execution_count": null,
      "outputs": []
    },
    {
      "cell_type": "markdown",
      "source": [
        "#### Logarithm operation"
      ],
      "metadata": {
        "id": "Bf0phIdwze2Q"
      }
    },
    {
      "cell_type": "code",
      "source": [
        "def ln(a: MyScalar) -> MyScalar:\n",
        "    \"\"\"\n",
        "    Computes ln(a) and tracks the gradient d/dx (ln(x)) = 1/x.\n",
        "    \"\"\"\n",
        "    assert a.value > 0, \"ln is undefined for non-positive values\"\n",
        "    value = math.log(a.value)\n",
        "    grad = 1 / a.value\n",
        "    return MyScalar(value, grad, parent=a)"
      ],
      "metadata": {
        "id": "Kc8ZdcWhygbx"
      },
      "execution_count": null,
      "outputs": []
    },
    {
      "cell_type": "markdown",
      "source": [
        "Sanity test for `ln`"
      ],
      "metadata": {
        "id": "myyKtgvXhMZD"
      }
    },
    {
      "cell_type": "code",
      "source": [
        "assert ln(MyScalar(2.0)).value == math.log(2.0), \"Test failed\""
      ],
      "metadata": {
        "id": "6AG8jb-VLYCL"
      },
      "execution_count": null,
      "outputs": []
    },
    {
      "cell_type": "markdown",
      "source": [
        "#### Sine operation"
      ],
      "metadata": {
        "id": "ibpT15yRzef3"
      }
    },
    {
      "cell_type": "code",
      "source": [
        "def sin(a: MyScalar) -> MyScalar:\n",
        "    \"\"\"\n",
        "    Computes sin(a) and tracks the gradient d/dx (sin(x)) = cos(x).\n",
        "    \"\"\"\n",
        "    value = math.sin(a.value)\n",
        "    grad = math.cos(a.value)\n",
        "    return MyScalar(value, grad, parent=a)"
      ],
      "metadata": {
        "id": "zF-ZxbLlyQcv"
      },
      "execution_count": null,
      "outputs": []
    },
    {
      "cell_type": "markdown",
      "source": [
        "Sanity test for `sin`"
      ],
      "metadata": {
        "id": "JV3rubX4hXBo"
      }
    },
    {
      "cell_type": "code",
      "source": [
        "assert sin(MyScalar(1.0)).value == math.sin(1.0), \"Test failed\""
      ],
      "metadata": {
        "id": "ZoQKvMITCa1W"
      },
      "execution_count": null,
      "outputs": []
    },
    {
      "cell_type": "markdown",
      "source": [
        "#### Cosine operation"
      ],
      "metadata": {
        "id": "fTMDgb4jzeQR"
      }
    },
    {
      "cell_type": "code",
      "source": [
        "def cos(a: MyScalar) -> MyScalar:\n",
        "    \"\"\"\n",
        "    Computes cos(a) and tracks the gradient d/dx (cos(x)) = -sin(x).\n",
        "    \"\"\"\n",
        "    value = math.cos(a.value)\n",
        "    grad = -math.sin(a.value)\n",
        "    return MyScalar(value, grad, parent=a)"
      ],
      "metadata": {
        "id": "TMaT6RjhyR3_"
      },
      "execution_count": null,
      "outputs": []
    },
    {
      "cell_type": "markdown",
      "source": [
        "Sanity test for `cos`"
      ],
      "metadata": {
        "id": "m3zLTX6whg93"
      }
    },
    {
      "cell_type": "code",
      "source": [
        "assert cos(MyScalar(1.0)).value == math.cos(1.0), \"Test failed\""
      ],
      "metadata": {
        "id": "fa_Ml7xxCutg"
      },
      "execution_count": null,
      "outputs": []
    },
    {
      "cell_type": "markdown",
      "source": [
        "#### Power operation: `a^n`"
      ],
      "metadata": {
        "id": "5x8FwblAzdyg"
      }
    },
    {
      "cell_type": "code",
      "source": [
        "def power(a: MyScalar, n: float) -> MyScalar:\n",
        "    \"\"\"\n",
        "    Computes a^n and tracks the gradient d/dx (x^n) = n * x^(n - 1).\n",
        "    \"\"\"\n",
        "    value = math.pow(a.value, n)\n",
        "    grad = n * math.pow(a.value, n - 1)\n",
        "    return MyScalar(value, grad, parent=a)"
      ],
      "metadata": {
        "id": "DE2EhSgdw7PB"
      },
      "execution_count": null,
      "outputs": []
    },
    {
      "cell_type": "markdown",
      "source": [
        "Sanity test for `power`"
      ],
      "metadata": {
        "id": "iVoCdgafhp1t"
      }
    },
    {
      "cell_type": "code",
      "source": [
        "result = power(MyScalar(2.0), 3.0)\n",
        "assert result.value == math.pow(2.0, 3.0), \"Test failed\"\n",
        "assert result.grad_wrt_parent == 3 * math.pow(2.0, 2.0), \"Test failed\""
      ],
      "metadata": {
        "id": "6tYsUMQFC-aR"
      },
      "execution_count": null,
      "outputs": []
    },
    {
      "cell_type": "markdown",
      "source": [
        "#### Adding a constant"
      ],
      "metadata": {
        "id": "7UqwJHFizdVR"
      }
    },
    {
      "cell_type": "code",
      "source": [
        "def add_const(a: MyScalar, c: float) -> MyScalar:\n",
        "    \"\"\"\n",
        "    Adds a constant to a scalar value and tracks the gradient: d/dx (x + c) = 1\n",
        "    \"\"\"\n",
        "    value = a.value + c\n",
        "    grad = 1.0\n",
        "    return MyScalar(value, grad, parent=a)"
      ],
      "metadata": {
        "id": "oNaPS96kyTEB"
      },
      "execution_count": null,
      "outputs": []
    },
    {
      "cell_type": "markdown",
      "source": [
        "Sanity test for `add_const`"
      ],
      "metadata": {
        "id": "znvWOyNKiG_v"
      }
    },
    {
      "cell_type": "code",
      "source": [
        "result = add_const(MyScalar(2.0), 3.0)\n",
        "assert result.value == 5.0, \"Test failed for value\"\n",
        "assert result.grad_wrt_parent == 1.0, \"Test failed for gradient\""
      ],
      "metadata": {
        "id": "1aY2mZBADXUm"
      },
      "execution_count": null,
      "outputs": []
    },
    {
      "cell_type": "markdown",
      "source": [
        "#### Multiplying by a constant"
      ],
      "metadata": {
        "id": "JeXUfx77zcTb"
      }
    },
    {
      "cell_type": "code",
      "source": [
        "def multiply_const(a: MyScalar, c: float) -> MyScalar:\n",
        "    \"\"\"\n",
        "    Multiplies scalar with constant and tracks the gradient d/dx (c * x) = c\n",
        "    \"\"\"\n",
        "    value = a.value * c\n",
        "    grad = c\n",
        "    return MyScalar(value, grad, parent=a)"
      ],
      "metadata": {
        "id": "jZpzQwtyyuYE"
      },
      "execution_count": null,
      "outputs": []
    },
    {
      "cell_type": "markdown",
      "source": [
        "Sanity test for `multiply_const`"
      ],
      "metadata": {
        "id": "UmCW8-YSiMa4"
      }
    },
    {
      "cell_type": "code",
      "source": [
        "result = multiply_const(MyScalar(2.0), 3.0)\n",
        "assert result.value == 6.0, \"Test failed for value\"\n",
        "assert result.grad_wrt_parent == 3.0, \"Test failed for gradient\""
      ],
      "metadata": {
        "id": "SK0SVpUvDlEX"
      },
      "execution_count": null,
      "outputs": []
    },
    {
      "cell_type": "markdown",
      "source": [
        "### Implement `get_gradient` function"
      ],
      "metadata": {
        "id": "TZuaXnZ9zfym"
      }
    },
    {
      "cell_type": "markdown",
      "source": [
        "#### Function definition"
      ],
      "metadata": {
        "id": "-1p4YESH78sM"
      }
    },
    {
      "cell_type": "markdown",
      "source": [
        "The `get_gradient` function performs reverse automatic differentiation on a computation graph of MyScalar objects. Given a final output scalar, it recursively computes the gradient of this output with respect to all input scalars involved in its computation.\n",
        "\n",
        "Step-by-step explanation:\n",
        "\n",
        "1. The function initializes an empty dictionary to store the accumulated gradients of each node (`scalar`) in the graph.\n",
        "\n",
        "2. The function defines an inner function called `_backward` that:\n",
        " * Adds the incoming gradient (`grad`) to the current node’s total gradient.\n",
        " * Computes the gradient with respect to the parent node using the local derivative (`grad_wrt_parent`).\n",
        " * Recursively calls itself on the parent node.\n",
        "\n",
        "**Note:** The backward process starts from the final node (scaler) with path_grad = 1.0, assuming we want dy/dy = 1.\n",
        "\n"
      ],
      "metadata": {
        "id": "mhpa0N7Mmf6S"
      }
    },
    {
      "cell_type": "code",
      "source": [
        "def get_gradient(scaler: MyScalar) -> Dict[MyScalar, float]:\n",
        "    \"\"\"\n",
        "    This function computes gradients of a scalar with respect to all input scalars in the computation graph.\n",
        "    It performs reverse automatic differentiation starting from the given scalar node, and traverses back through the\n",
        "    graph to accumulate gradients for each contributing node.\n",
        "\n",
        "    Args:\n",
        "        scaler (MyScalar): The scalar for which gradients are to be computed.\n",
        "\n",
        "    Returns:\n",
        "        Dict[MyScalar, float]: A dict mapping each scalar to its gradient with respect to the output.\n",
        "    \"\"\"\n",
        "    gradients = dict()\n",
        "\n",
        "    def _backward(node: MyScalar, grad: float) -> None:\n",
        "        # Accumulate the gradient from this path into the total gradient at this node\n",
        "        if node in gradients:\n",
        "            gradients[node] += grad\n",
        "        else:\n",
        "            gradients[node] = grad\n",
        "\n",
        "        # If this node has a parent, continue propagating the gradient\n",
        "        if node.parent is not None:\n",
        "            parent_grad = grad * node.grad_wrt_parent  # Apply the chain rule\n",
        "            _backward(node.parent, parent_grad)\n",
        "\n",
        "    _backward(scaler, 1.0)  # Start the backpropagation from the output node with gradient 1.0 (assuming dy/dy = 1)\n",
        "    return gradients"
      ],
      "metadata": {
        "id": "5PTkcpxEy03V"
      },
      "execution_count": null,
      "outputs": []
    },
    {
      "cell_type": "markdown",
      "source": [
        "### Tests"
      ],
      "metadata": {
        "id": "3xdIgpJy79pe"
      }
    },
    {
      "cell_type": "markdown",
      "source": [
        "To verify correctness, the gradients from the custom autograd system are compared with PyTorch’s autograd system on the same computations."
      ],
      "metadata": {
        "id": "7CQayzUZlvCc"
      }
    },
    {
      "cell_type": "markdown",
      "source": [
        "#### Tolerance constant for floating-point comparison"
      ],
      "metadata": {
        "id": "FEIJ-Gy9zY0I"
      }
    },
    {
      "cell_type": "code",
      "source": [
        "EPSILON = 1e-5  # Tolerance for numerical comparison"
      ],
      "metadata": {
        "id": "vI9wC8bSChks"
      },
      "execution_count": null,
      "outputs": []
    },
    {
      "cell_type": "markdown",
      "source": [
        "#### Compare usage example to PyTorch autograd system"
      ],
      "metadata": {
        "id": "s84NseQxjAXW"
      }
    },
    {
      "cell_type": "markdown",
      "source": [
        "##### Test 1: Given usage example"
      ],
      "metadata": {
        "id": "gvf_esshpd7J"
      }
    },
    {
      "cell_type": "code",
      "source": [
        "a = MyScalar(2)\n",
        "b = power(a, 2)\n",
        "c = exp(b)\n",
        "d = grads = get_gradient(c)\n",
        "\n",
        "for var in [a, b, c]:\n",
        "    print(var, end=\"\\n\\n\")\n",
        "\n",
        "for var, grad in grads.items():\n",
        "    print(f\"Gradient of {var} with respect to c: {grad}\")"
      ],
      "metadata": {
        "colab": {
          "base_uri": "https://localhost:8080/"
        },
        "id": "4ioIaSBZpqfq",
        "outputId": "104c200e-6aaa-490e-82b4-254deb24dfb3"
      },
      "execution_count": null,
      "outputs": [
        {
          "output_type": "stream",
          "name": "stdout",
          "text": [
            "MyScalar(value=2, grad_wrt_parent=1.0, parent=None)\n",
            "\n",
            "MyScalar(value=4.0, grad_wrt_parent=4.0, parent=MyScalar(value=2, grad_wrt_parent=1.0, parent=None))\n",
            "\n",
            "MyScalar(value=54.598150033144236, grad_wrt_parent=54.598150033144236, parent=MyScalar(value=4.0, grad_wrt_parent=4.0, parent=MyScalar(value=2, grad_wrt_parent=1.0, parent=None)))\n",
            "\n",
            "Gradient of MyScalar(value=54.598150033144236, grad_wrt_parent=54.598150033144236, parent=MyScalar(value=4.0, grad_wrt_parent=4.0, parent=MyScalar(value=2, grad_wrt_parent=1.0, parent=None))) with respect to c: 1.0\n",
            "Gradient of MyScalar(value=4.0, grad_wrt_parent=4.0, parent=MyScalar(value=2, grad_wrt_parent=1.0, parent=None)) with respect to c: 54.598150033144236\n",
            "Gradient of MyScalar(value=2, grad_wrt_parent=1.0, parent=None) with respect to c: 218.39260013257694\n"
          ]
        }
      ]
    },
    {
      "cell_type": "markdown",
      "source": [
        "##### Perform the same operations using PyTorch"
      ],
      "metadata": {
        "id": "DjfRD8wGryd8"
      }
    },
    {
      "cell_type": "code",
      "source": [
        "a_torch = torch.tensor(2.0, requires_grad=True)\n",
        "b_torch = a_torch ** 2\n",
        "b_torch.retain_grad()\n",
        "c_torch = torch.exp(b_torch)\n",
        "c_torch.backward()"
      ],
      "metadata": {
        "id": "8TPQHMab7-Om"
      },
      "execution_count": null,
      "outputs": []
    },
    {
      "cell_type": "markdown",
      "source": [
        "##### Validate the results"
      ],
      "metadata": {
        "id": "AzvBBiHpsA03"
      }
    },
    {
      "cell_type": "code",
      "source": [
        "assert abs(grads[a] - a_torch.grad.item()) < EPSILON, \"Test 1 failed: gradient of a does not match PyTorch\"\n",
        "assert abs(grads[b] - b_torch.grad.item()) < EPSILON, \"Test 1 failed: gradient of b does not match PyTorch\"\n",
        "print(\"✅ Test passed\")"
      ],
      "metadata": {
        "colab": {
          "base_uri": "https://localhost:8080/"
        },
        "id": "tz4NVDv6sDMN",
        "outputId": "f4f580b3-e86b-46b7-a41c-f62fc8925868"
      },
      "execution_count": null,
      "outputs": [
        {
          "output_type": "stream",
          "name": "stdout",
          "text": [
            "✅ Test passed\n"
          ]
        }
      ]
    },
    {
      "cell_type": "markdown",
      "source": [
        "#### Test 2: `y = exp(x^2)`"
      ],
      "metadata": {
        "id": "3ipeWiXR9HyQ"
      }
    },
    {
      "cell_type": "code",
      "source": [
        "x = MyScalar(1.0)\n",
        "y = exp(power(x, 2))\n",
        "grad = get_gradient(y)[x]\n",
        "\n",
        "x_torch = torch.tensor(1.0, requires_grad=True)\n",
        "y_torch = torch.exp(torch.pow(x_torch, 2))\n",
        "y_torch.backward()\n",
        "\n",
        "assert abs(y.value - y_torch.item()) < EPSILON, f\"Test 2 failed: y value mismatch. Expected {y_t.item()}, got {y.value}\"\n",
        "assert abs(grad - x_torch.grad.item()) < EPSILON, f\"Test 2 failed: gradient mismatch. Expected {x_t.grad.item()}, got {grad}\"\n",
        "print(\"✅ Test passed\")"
      ],
      "metadata": {
        "colab": {
          "base_uri": "https://localhost:8080/"
        },
        "id": "GZh6bsXHscoL",
        "outputId": "b9eeb53d-b7e0-40be-c8fe-60e6c1838b4d"
      },
      "execution_count": null,
      "outputs": [
        {
          "output_type": "stream",
          "name": "stdout",
          "text": [
            "✅ Test passed\n"
          ]
        }
      ]
    },
    {
      "cell_type": "markdown",
      "source": [
        "##### Test 3: `y = ln(x)`"
      ],
      "metadata": {
        "id": "FtVtytlesfSr"
      }
    },
    {
      "cell_type": "code",
      "source": [
        "x = MyScalar(2.0)\n",
        "y = ln(x)\n",
        "grad = get_gradient(y)[x]\n",
        "\n",
        "x_torch = torch.tensor(2.0, requires_grad=True)\n",
        "y_torch = torch.log(x_torch)\n",
        "y_torch.backward()\n",
        "\n",
        "assert abs(y.value - y_torch.item()) < EPSILON, f\"Test 3 failed: y value mismatch. Expected {y_t.item()}, got {y.value}\"\n",
        "assert abs(grad - x_torch.grad.item()) < EPSILON, f\"Test 3 failed: gradient mismatch. Expected {x_t.grad.item()}, got {grad}\"\n",
        "print(\"✅ Test passed\")"
      ],
      "metadata": {
        "colab": {
          "base_uri": "https://localhost:8080/"
        },
        "id": "C47qlP-fsjQw",
        "outputId": "eb19e36f-c1f1-43a4-aac7-2bbae179fb0c"
      },
      "execution_count": null,
      "outputs": [
        {
          "output_type": "stream",
          "name": "stdout",
          "text": [
            "✅ Test passed\n"
          ]
        }
      ]
    },
    {
      "cell_type": "markdown",
      "source": [
        "##### Test 4: `y = sin(x)`"
      ],
      "metadata": {
        "id": "eoKzF64LslZv"
      }
    },
    {
      "cell_type": "code",
      "source": [
        "x = MyScalar(0.5)\n",
        "y = sin(x)\n",
        "grad = get_gradient(y)[x]\n",
        "\n",
        "x_torch = torch.tensor(0.5, requires_grad=True)\n",
        "y_torch = torch.sin(x_torch)\n",
        "y_torch.backward()\n",
        "\n",
        "assert abs(y.value - y_torch.item()) < EPSILON, f\"Test 4 failed: y value mismatch. Expected {y_t.item()}, got {y.value}\"\n",
        "assert abs(grad - x_torch.grad.item()) < EPSILON, f\"Test 4 failed: gradient mismatch. Expected {x_t.grad.item()}, got {grad}\"\n",
        "print(\"✅ Test passed\")"
      ],
      "metadata": {
        "colab": {
          "base_uri": "https://localhost:8080/"
        },
        "id": "RjRfwSIfso6w",
        "outputId": "81a2ef3a-5c01-4ba1-d256-18c0fc393f81"
      },
      "execution_count": null,
      "outputs": [
        {
          "output_type": "stream",
          "name": "stdout",
          "text": [
            "✅ Test passed\n"
          ]
        }
      ]
    },
    {
      "cell_type": "markdown",
      "source": [
        "##### Test 5: `y = cos(x)`"
      ],
      "metadata": {
        "id": "qOpqixhTsrfS"
      }
    },
    {
      "cell_type": "code",
      "source": [
        "x = MyScalar(0.5)\n",
        "y = cos(x)\n",
        "grad = get_gradient(y)[x]\n",
        "\n",
        "x_torch = torch.tensor(0.5, requires_grad=True)\n",
        "y_torch = torch.cos(x_torch)\n",
        "y_torch.backward()\n",
        "\n",
        "assert abs(y.value - y_torch.item()) < EPSILON, f\"Test 5 failed: y value mismatch. Expected {y_t.item()}, got {y.value}\"\n",
        "assert abs(grad - x_torch.grad.item()) < EPSILON, f\"Test 5 failed: gradient mismatch. Expected {x_t.grad.item()}, got {grad}\"\n",
        "print(\"✅ Test passed\")"
      ],
      "metadata": {
        "colab": {
          "base_uri": "https://localhost:8080/"
        },
        "id": "Kv0gE8-AsyRG",
        "outputId": "cfdaec6e-ac5b-4991-a890-c45ab1657760"
      },
      "execution_count": null,
      "outputs": [
        {
          "output_type": "stream",
          "name": "stdout",
          "text": [
            "✅ Test passed\n"
          ]
        }
      ]
    },
    {
      "cell_type": "markdown",
      "source": [
        "##### Test 6: `y = 3 * sin(x)`"
      ],
      "metadata": {
        "id": "Tn5etaOms9tH"
      }
    },
    {
      "cell_type": "code",
      "source": [
        "x = MyScalar(0.8)\n",
        "y = multiply_const(sin(x), 3.0)\n",
        "grad = get_gradient(y)[x]\n",
        "\n",
        "x_torch = torch.tensor(0.8, requires_grad=True)\n",
        "y_torch = 3 * torch.sin(x_torch)\n",
        "y_torch.backward()\n",
        "\n",
        "assert abs(y.value - y_torch.item()) < EPSILON, f\"Test 5 failed: y value mismatch. Expected {y_t.item()}, got {y.value}\"\n",
        "assert abs(grad - x_torch.grad.item()) < EPSILON, f\"Test 5 failed: gradient mismatch. Expected {x_t.grad.item()}, got {grad}\"\n",
        "print(\"✅ Test passed\")"
      ],
      "metadata": {
        "colab": {
          "base_uri": "https://localhost:8080/"
        },
        "id": "6c61IBn0tB52",
        "outputId": "10ea15f6-aa2c-4a31-8aa3-833f77a1b76f"
      },
      "execution_count": null,
      "outputs": [
        {
          "output_type": "stream",
          "name": "stdout",
          "text": [
            "✅ Test passed\n"
          ]
        }
      ]
    },
    {
      "cell_type": "markdown",
      "source": [
        "##### Test 7: `y = x^n` for float n"
      ],
      "metadata": {
        "id": "fkvsVlKLtC5u"
      }
    },
    {
      "cell_type": "code",
      "source": [
        "x = MyScalar(3.0)\n",
        "y = power(x, 4.0)\n",
        "grad = get_gradient(y)[x]\n",
        "\n",
        "x_torch = torch.tensor(3.0, requires_grad=True)\n",
        "y_torch = torch.pow(x_torch, 4.0)\n",
        "y_torch.backward()\n",
        "\n",
        "assert abs(y.value - y_torch.item()) < EPSILON, f\"Test 6 failed: y value mismatch. Expected {y_t.item()}, got {y.value}\"\n",
        "assert abs(grad - x_torch.grad.item()) < EPSILON, f\"Test 6 failed: gradient mismatch. Expected {x_t.grad.item()}, got {grad}\"\n",
        "print(\"✅ Test passed\")"
      ],
      "metadata": {
        "colab": {
          "base_uri": "https://localhost:8080/"
        },
        "id": "CMkmkNIj9IQe",
        "outputId": "542c4ed5-810d-46b7-9450-1795096049c9"
      },
      "execution_count": null,
      "outputs": [
        {
          "output_type": "stream",
          "name": "stdout",
          "text": [
            "✅ Test passed\n"
          ]
        }
      ]
    },
    {
      "cell_type": "markdown",
      "source": [
        "## Bonus - Extend Autograd System to 2 Inputs"
      ],
      "metadata": {
        "id": "qoW-pJKd9gXQ"
      }
    },
    {
      "cell_type": "markdown",
      "source": [
        "### Class Definition"
      ],
      "metadata": {
        "id": "66dgWnrB9l-G"
      }
    },
    {
      "cell_type": "markdown",
      "source": [
        "In this section, we extend the automatic differentiation system described earlier to handle operations with two inputs, such as addition, multiplication, and division. To do this, we use inheritance to build upon the custom scalar class `MyScalar` and introduce a new class, `MyScalar2Inputs`, which is specifically designed to handle operations involving two parent nodes."
      ],
      "metadata": {
        "id": "8b7u5hNQu_To"
      }
    },
    {
      "cell_type": "code",
      "source": [
        "class MyScalar2Inputs(MyScalar):\n",
        "    \"\"\"\n",
        "    This class represents a scalar value that depends on two parent scalars.\n",
        "\n",
        "    Args:\n",
        "        value (float): The resulting scalar value of the operation.\n",
        "        parent (MyScalar): The first parent node in the computation graph.\n",
        "        parent2 (MyScalar): The second parent node in the computation graph.\n",
        "        grad_wrt_parent (float): The gradient with respect to the first parent.\n",
        "        grad_wrt_parent2 (float): The gradient with respect to the second parent.\n",
        "    \"\"\"\n",
        "    def __init__(self, value: float, parent: MyScalar, parent2: MyScalar, grad_wrt_parent: float,\n",
        "                 grad_wrt_parent2: float) -> None:\n",
        "        super().__init__(value=value, grad=grad_wrt_parent, parent=parent)\n",
        "        self.parent2 = parent2\n",
        "        self.grad_wrt_parent2 = grad_wrt_parent2"
      ],
      "metadata": {
        "id": "xxU_B0dp9k8z"
      },
      "execution_count": null,
      "outputs": []
    },
    {
      "cell_type": "markdown",
      "source": [
        "The `__init__` function initializes these values by calling the parent class `MyScalar` constructor, and adding the `parent2` and `grad_wrt_parent2` attributes."
      ],
      "metadata": {
        "id": "_y1ANm00vno4"
      }
    },
    {
      "cell_type": "markdown",
      "source": [
        "### Define Mathematical Operations for Two Variables"
      ],
      "metadata": {
        "id": "0g0MvXG199A5"
      }
    },
    {
      "cell_type": "markdown",
      "source": [
        "#### Adding two `MyScalar` objects together"
      ],
      "metadata": {
        "id": "ToZ9E-4kH67-"
      }
    },
    {
      "cell_type": "markdown",
      "source": [
        "This function computes the value as `a.value + b.value`, and returns an instance of `MyScalar2Inputs` where `parent` is `a`, `parent2` is `b.`\n",
        "\n",
        "Gradients with respect to a and b are both set to 1.0, as the derivative of a sum with respect to each variable is 1."
      ],
      "metadata": {
        "id": "nczUzce2xJUE"
      }
    },
    {
      "cell_type": "code",
      "source": [
        "def add(a: MyScalar, b: MyScalar) -> MyScalar2Inputs:\n",
        "    value = a.value + b.value\n",
        "    return MyScalar2Inputs(value, a, b, 1.0, 1.0)"
      ],
      "metadata": {
        "id": "GFQwzxHsH_ER"
      },
      "execution_count": null,
      "outputs": []
    },
    {
      "cell_type": "markdown",
      "source": [
        "Sanity test for `add`"
      ],
      "metadata": {
        "id": "I4gdq89YxX81"
      }
    },
    {
      "cell_type": "code",
      "source": [
        "result = add(MyScalar(2.0), MyScalar(3.0))\n",
        "assert result.value == 5.0, \"Test failed: add function value mismatch\"\n",
        "assert result.grad_wrt_parent == 1.0 and result.grad_wrt_parent2 == 1.0, \"Test failed: add function gradients mismatch\""
      ],
      "metadata": {
        "id": "BHADKW85IP-p"
      },
      "execution_count": null,
      "outputs": []
    },
    {
      "cell_type": "markdown",
      "source": [
        "#### Multiply two `MyScalar` objects together"
      ],
      "metadata": {
        "id": "44PNf10BH_b1"
      }
    },
    {
      "cell_type": "markdown",
      "source": [
        "This function computes the value as `a.value * b.value`, and the gradients as follows:\n",
        "\n",
        "- `grad_wrt_parent = b.value` - derivative of `a * b` with respect to `a` is `b`.\n",
        "\n",
        "- `grad_wrt_parent2 = a.value` - derivative of `a * b` with respect to `b` is `a`.\n",
        "\n",
        "The function returns an instance of `MyScalar2Inputs` with the computed gradients."
      ],
      "metadata": {
        "id": "FlQ-as6WxiKZ"
      }
    },
    {
      "cell_type": "code",
      "source": [
        "def multiply(a: MyScalar, b: MyScalar) -> MyScalar2Inputs:\n",
        "    value = a.value * b.value\n",
        "    return MyScalar2Inputs(value, a, b, b.value, a.value)"
      ],
      "metadata": {
        "id": "G4Vj7MOBIAiD"
      },
      "execution_count": null,
      "outputs": []
    },
    {
      "cell_type": "markdown",
      "source": [
        "Sanity test for `multiply`"
      ],
      "metadata": {
        "id": "udZFXMm3x4Ox"
      }
    },
    {
      "cell_type": "code",
      "source": [
        "result = multiply(MyScalar(2.0), MyScalar(3.0))\n",
        "assert result.value == 6.0, \"Test failed: multiply function value mismatch\"\n",
        "assert result.grad_wrt_parent == 3.0, \"Test failed: multiply function gradients mismatch\"\n",
        "assert result.grad_wrt_parent2 == 2.0, \"Test failed: multiply function gradients mismatch\""
      ],
      "metadata": {
        "id": "nVCXGVv1JVqf"
      },
      "execution_count": null,
      "outputs": []
    },
    {
      "cell_type": "markdown",
      "source": [
        "#### Divide `MyScalar` by another `MyScalar`"
      ],
      "metadata": {
        "id": "dg_a_GixIBBj"
      }
    },
    {
      "cell_type": "markdown",
      "source": [
        "This function divides `a` by `b`. The value is calculated as `a.value / b.value`, and the gradients are:\n",
        "\n",
        "- `grad_wrt_parent = -a.value / (b.value^2)` - derivative of `a / b` with respect to `a`.\n",
        "\n",
        "- `grad_wrt_parent2 = 1 / b.value` - derivative of `a / b` with respect to `b`).\n",
        "\n",
        "These gradients are returned as part of a `MyScalar2Inputs` object."
      ],
      "metadata": {
        "id": "pW-GJKhAyDgq"
      }
    },
    {
      "cell_type": "code",
      "source": [
        "def divide(a: MyScalar, b: MyScalar) -> MyScalar2Inputs:\n",
        "    value = a.value / b.value\n",
        "    grad_wrt_a = 1.0 / b.value\n",
        "    grad_wrt_b = -a.value / (b.value ** 2)\n",
        "    return MyScalar2Inputs(value, a, b, grad_wrt_a, grad_wrt_b)"
      ],
      "metadata": {
        "id": "-qBBzYNl99r5"
      },
      "execution_count": null,
      "outputs": []
    },
    {
      "cell_type": "markdown",
      "source": [
        "Sanity test for `divide`"
      ],
      "metadata": {
        "id": "p7d8e_qMyX6H"
      }
    },
    {
      "cell_type": "code",
      "source": [
        "result = divide(MyScalar(6.0), MyScalar(3.0))\n",
        "assert result.value == 2.0, \"Test failed: divide function value mismatch\"\n",
        "assert result.grad_wrt_parent == 1.0 / 3.0, \"Test failed: divide function gradients mismatch\"\n",
        "assert result.grad_wrt_parent2 == -6.0 / 9.0, \"Test failed: divide function gradients mismatch\""
      ],
      "metadata": {
        "id": "nCFmv4dMJfqC"
      },
      "execution_count": null,
      "outputs": []
    },
    {
      "cell_type": "markdown",
      "source": [
        "### Extend `get_gradient` to `MyScaler2Inputs`"
      ],
      "metadata": {
        "id": "dF_URsVg_BOB"
      }
    },
    {
      "cell_type": "markdown",
      "source": [
        "This function performs backpropagation to compute the gradients of all the parents of a given scaler.\n",
        "\n",
        "It uses a recursive helper inner function `_backprop` that traverses the computational graph, starting from the given `scaler`.\n",
        "\n",
        "If the current node (`scalar`) has a parent, the function propagates the gradient backward through the graph using the chain rule. If the node is a `MyScalar2Inputs` object, it computes gradients for the second parent as well and propagates it accordingly.\n",
        "\n",
        "The function accumulates the gradients in a dictionary and returns it."
      ],
      "metadata": {
        "id": "evAUXSJHykNg"
      }
    },
    {
      "cell_type": "code",
      "source": [
        "def get_gradient(scaler: MyScalar) -> Dict[MyScalar, float]:\n",
        "    \"\"\"\n",
        "    This function computes gradients of a scalar with respect to all input scalars in the computation graph.\n",
        "    It performs reverse automatic differentiation starting from the given scalar node, and traverses back through the\n",
        "    graph to accumulate gradients for each contributing node.\n",
        "\n",
        "    Args:\n",
        "        scaler (MyScalar): The scalar for which gradients are to be computed.\n",
        "\n",
        "    Returns:\n",
        "        Dict[MyScalar, float]: A dict mapping each scalar to its gradient with respect to the output.\n",
        "    \"\"\"\n",
        "    gradients = dict()\n",
        "\n",
        "    def _backprop(node: MyScalar, grad: float) -> None:\n",
        "        if node in gradients:\n",
        "            gradients[node] += grad\n",
        "        else:\n",
        "            gradients[node] = grad\n",
        "\n",
        "        if getattr(node, 'parent', None) is not None:\n",
        "            _backprop(node.parent, grad * node.grad_wrt_parent)\n",
        "        if getattr(node, 'parent2', None) is not None:\n",
        "            _backprop(node.parent2, grad * node.grad_wrt_parent2)\n",
        "\n",
        "    _backprop(scaler, 1.0)\n",
        "    return gradients\n"
      ],
      "metadata": {
        "id": "JnaaD42o_BvJ"
      },
      "execution_count": null,
      "outputs": []
    },
    {
      "cell_type": "markdown",
      "source": [
        "Note that this function implementation can replace the previous one, as it fully supports a `MyScalar` with a single parent."
      ],
      "metadata": {
        "id": "cFeb_9Q228cY"
      }
    },
    {
      "cell_type": "markdown",
      "source": [
        "### Test"
      ],
      "metadata": {
        "id": "2o1eLpiz_NhF"
      }
    },
    {
      "cell_type": "markdown",
      "source": [
        "#### Custom autograd system usage example"
      ],
      "metadata": {
        "id": "PJggSKzKzAcY"
      }
    },
    {
      "cell_type": "code",
      "source": [
        "a = MyScalar(3.0)\n",
        "b = MyScalar(4.0)\n",
        "c = multiply(a, b)\n",
        "d = add(c, a)\n",
        "e = divide(c, a)\n",
        "grads = get_gradient(e)\n",
        "\n",
        "for var in [a, b, c, d, e]:\n",
        "    print(var, end=\"\\n\\n\")\n",
        "\n",
        "for var, grad in grads.items():\n",
        "    print(f\"Gradient of {var} with respect to d: {grad}\")"
      ],
      "metadata": {
        "colab": {
          "base_uri": "https://localhost:8080/"
        },
        "id": "2kwADD1dzDk2",
        "outputId": "825e9f04-0465-42cc-ae7d-22387f226e74"
      },
      "execution_count": null,
      "outputs": [
        {
          "output_type": "stream",
          "name": "stdout",
          "text": [
            "MyScalar(value=3.0, grad_wrt_parent=1.0, parent=None)\n",
            "\n",
            "MyScalar(value=4.0, grad_wrt_parent=1.0, parent=None)\n",
            "\n",
            "MyScalar2Inputs(value=12.0, grad_wrt_parent=4.0, parent=MyScalar(value=3.0, grad_wrt_parent=1.0, parent=None), parent2=MyScalar(value=4.0, grad_wrt_parent=1.0, parent=None), grad_wrt_parent2=3.0)\n",
            "\n",
            "MyScalar2Inputs(value=15.0, grad_wrt_parent=1.0, parent=MyScalar2Inputs(value=12.0, grad_wrt_parent=4.0, parent=MyScalar(value=3.0, grad_wrt_parent=1.0, parent=None), parent2=MyScalar(value=4.0, grad_wrt_parent=1.0, parent=None), grad_wrt_parent2=3.0), parent2=MyScalar(value=3.0, grad_wrt_parent=1.0, parent=None), grad_wrt_parent2=1.0)\n",
            "\n",
            "MyScalar2Inputs(value=4.0, grad_wrt_parent=0.3333333333333333, parent=MyScalar2Inputs(value=12.0, grad_wrt_parent=4.0, parent=MyScalar(value=3.0, grad_wrt_parent=1.0, parent=None), parent2=MyScalar(value=4.0, grad_wrt_parent=1.0, parent=None), grad_wrt_parent2=3.0), parent2=MyScalar(value=3.0, grad_wrt_parent=1.0, parent=None), grad_wrt_parent2=-1.3333333333333333)\n",
            "\n",
            "Gradient of MyScalar2Inputs(value=4.0, grad_wrt_parent=0.3333333333333333, parent=MyScalar2Inputs(value=12.0, grad_wrt_parent=4.0, parent=MyScalar(value=3.0, grad_wrt_parent=1.0, parent=None), parent2=MyScalar(value=4.0, grad_wrt_parent=1.0, parent=None), grad_wrt_parent2=3.0), parent2=MyScalar(value=3.0, grad_wrt_parent=1.0, parent=None), grad_wrt_parent2=-1.3333333333333333) with respect to d: 1.0\n",
            "Gradient of MyScalar2Inputs(value=12.0, grad_wrt_parent=4.0, parent=MyScalar(value=3.0, grad_wrt_parent=1.0, parent=None), parent2=MyScalar(value=4.0, grad_wrt_parent=1.0, parent=None), grad_wrt_parent2=3.0) with respect to d: 0.3333333333333333\n",
            "Gradient of MyScalar(value=3.0, grad_wrt_parent=1.0, parent=None) with respect to d: 0.0\n",
            "Gradient of MyScalar(value=4.0, grad_wrt_parent=1.0, parent=None) with respect to d: 1.0\n"
          ]
        }
      ]
    },
    {
      "cell_type": "markdown",
      "source": [
        "##### Perform the same operations using PyTorch"
      ],
      "metadata": {
        "id": "sFDJ38040ekq"
      }
    },
    {
      "cell_type": "code",
      "source": [
        "a_torch = torch.tensor(3.0, requires_grad=True)\n",
        "b_torch = torch.tensor(4.0, requires_grad=True)\n",
        "c_torch = a_torch * b_torch\n",
        "d_torch = c_torch + a_torch\n",
        "e_torch = c_torch / a_torch\n",
        "e_torch.backward()"
      ],
      "metadata": {
        "id": "uwazsG-y0he2"
      },
      "execution_count": null,
      "outputs": []
    },
    {
      "cell_type": "markdown",
      "source": [
        "##### Validate the results"
      ],
      "metadata": {
        "id": "TQlT7HUu0mhY"
      }
    },
    {
      "cell_type": "markdown",
      "source": [
        "Assertions for values"
      ],
      "metadata": {
        "id": "j4gBI8cFWvMv"
      }
    },
    {
      "cell_type": "code",
      "source": [
        "assert c.value == c_torch.item(), f\"Expected c={c_torch.item()}, got {c.value}\"\n",
        "assert d.value == d_torch.item(), f\"Expected d={d_torch.item()}, got {d.value}\"\n",
        "assert e.value == e_torch.item(), f\"Expected e={e_torch.item()}, got {e.value}\"\n",
        "print(\"✅ Tests passed!\")"
      ],
      "metadata": {
        "colab": {
          "base_uri": "https://localhost:8080/"
        },
        "id": "_uApde2OWx3m",
        "outputId": "67475c44-d2dc-441d-9420-f41d67d73c6d"
      },
      "execution_count": null,
      "outputs": [
        {
          "output_type": "stream",
          "name": "stdout",
          "text": [
            "✅ Tests passed!\n"
          ]
        }
      ]
    },
    {
      "cell_type": "markdown",
      "source": [
        "Assertions for gradients\n"
      ],
      "metadata": {
        "id": "3PoBZ1zKW1DC"
      }
    },
    {
      "cell_type": "code",
      "source": [
        "assert grads[a] == a_torch.grad.item(), f\"Expected grad_a={a_torch.grad.item()}, got {grads[a]}\"\n",
        "assert grads[b] == b_torch.grad.item(), f\"Expected grad_b={b_torch.grad.item()}, got {grads[b]}\"\n",
        "print(\"✅ Tests passed!\")"
      ],
      "metadata": {
        "colab": {
          "base_uri": "https://localhost:8080/"
        },
        "id": "YDc4Oqfq_OBN",
        "outputId": "b4b01443-e7ff-481c-934e-d0c27607b170"
      },
      "execution_count": null,
      "outputs": [
        {
          "output_type": "stream",
          "name": "stdout",
          "text": [
            "✅ Tests passed!\n"
          ]
        }
      ]
    }
  ]
}