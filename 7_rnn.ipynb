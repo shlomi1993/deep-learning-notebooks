{
  "cells": [
    {
      "cell_type": "markdown",
      "metadata": {
        "colab_type": "text",
        "id": "view-in-github"
      },
      "source": [
        "<a href=\"https://colab.research.google.com/github/shlomi1993/deep-learning-notebooks/blob/main/7_rnn.ipynb\" target=\"_parent\"><img src=\"https://colab.research.google.com/assets/colab-badge.svg\" alt=\"Open In Colab\"/></a>"
      ]
    },
    {
      "cell_type": "markdown",
      "metadata": {
        "id": "UT7ndqz4xBe_"
      },
      "source": [
        "# Chapter 7 - Recurrent Neural Network"
      ]
    },
    {
      "cell_type": "markdown",
      "metadata": {
        "id": "wQR6YJUGxOgJ"
      },
      "source": [
        "## Introduction"
      ]
    },
    {
      "cell_type": "markdown",
      "metadata": {
        "id": "e5ASI_BUEjZd"
      },
      "source": [
        "In this notebook, we explore the training and design of **recurrent neural networks (RNNs)** in two parts.\n",
        "\n",
        "The first part focuses on implementing an RNN for sentence **sentiment classification** on the **[SST-2 dataset](https://huggingface.co/datasets/stanfordnlp/sst2)**, while addressing the **exploding gradient** problem by applying **truncated backpropagation through time (BPTT)**. This involves carefully controlling the flow of gradients through the recurrent layers and visualizing their behavior over time steps.\n",
        "\n",
        "In the second part, we design a custom **RNN cell** with basic flow control. This cell includes a **\"reset gate\"** that enables the network to learn when to forget its hidden state based solely on the current input. The task involves designing the gating mechanism, selecting appropriate activation functions, and justifying the architectural decisions. We then train a network using this custom cell on a small dataset to demonstrate its ability to learn and overfit, validating the correctness of the implementation.\n",
        "\n",
        "Throughout the task, we emphasize understanding the internal dynamics of RNNs, gradient flow over time, and architectural flexibility in designing custom recurrent units."
      ]
    },
    {
      "cell_type": "markdown",
      "metadata": {
        "id": "ohtDcgGGcNxN"
      },
      "source": [
        "## Prerequisites"
      ]
    },
    {
      "cell_type": "markdown",
      "metadata": {
        "id": "_THBmbKacYO3"
      },
      "source": [
        "#### Install `torchtext` package"
      ]
    },
    {
      "cell_type": "code",
      "execution_count": null,
      "metadata": {
        "id": "1vMrY5dpcdz8"
      },
      "outputs": [],
      "source": [
        "# !pip install torchtext"
      ]
    },
    {
      "cell_type": "markdown",
      "metadata": {
        "id": "hAkri9eDcmVO"
      },
      "source": [
        "**Note:** The very basic `pip install torchtext` command above didn't work for me. Although the installation completed successfully, trying to import the package resulted in the following error:\n",
        "\n",
        "```\n",
        "OSError: /usr/local/lib/python3.11/dist-packages/torchtext/lib/libtorchtext.so: undefined symbol: _ZN5torch3jit17parseSchemaOrNameERKSs\n",
        "```\n",
        "\n",
        "This issue occurs due to incompatibilities caused by deprecations in TorchText.\n",
        "\n",
        "After going back and forth with ChatGPT, I finally found a working solution: install TorchText version 0.18.0 along with the compatible PyTorch version 2.3.0.\n",
        "\n",
        "Additionally, to avoid the error\n",
        "\n",
        "```\n",
        "ValueError: Invalid pattern: '**' can only be an entire path component\n",
        "```\n",
        "\n",
        "which occurs when using `load_dataset` from the `datasets` library, we need to install `fsspec` version 2023.6.0.\n",
        "\n",
        "Therefore, we reinstall all three packages as follows:"
      ]
    },
    {
      "cell_type": "code",
      "execution_count": null,
      "metadata": {
        "colab": {
          "base_uri": "https://localhost:8080/"
        },
        "id": "I3EsC1MRcsG8",
        "outputId": "6df41559-36b6-48c6-c903-3b9f5bfab433"
      },
      "outputs": [
        {
          "name": "stdout",
          "output_type": "stream",
          "text": [
            "Found existing installation: torch 2.6.0+cu124\n",
            "Uninstalling torch-2.6.0+cu124:\n",
            "  Successfully uninstalled torch-2.6.0+cu124\n",
            "\u001b[33mWARNING: Skipping torchtext as it is not installed.\u001b[0m\u001b[33m\n",
            "\u001b[0mFound existing installation: fsspec 2025.3.2\n",
            "Uninstalling fsspec-2025.3.2:\n",
            "  Successfully uninstalled fsspec-2025.3.2\n",
            "Collecting torch==2.3.0\n",
            "  Downloading torch-2.3.0-cp311-cp311-manylinux1_x86_64.whl.metadata (26 kB)\n",
            "Collecting torchtext==0.18.0\n",
            "  Downloading torchtext-0.18.0-cp311-cp311-manylinux1_x86_64.whl.metadata (7.9 kB)\n",
            "Collecting fsspec==2023.6.0\n",
            "  Downloading fsspec-2023.6.0-py3-none-any.whl.metadata (6.7 kB)\n",
            "Requirement already satisfied: filelock in /usr/local/lib/python3.11/dist-packages (from torch==2.3.0) (3.18.0)\n",
            "Requirement already satisfied: typing-extensions>=4.8.0 in /usr/local/lib/python3.11/dist-packages (from torch==2.3.0) (4.13.2)\n",
            "Requirement already satisfied: sympy in /usr/local/lib/python3.11/dist-packages (from torch==2.3.0) (1.13.1)\n",
            "Requirement already satisfied: networkx in /usr/local/lib/python3.11/dist-packages (from torch==2.3.0) (3.5)\n",
            "Requirement already satisfied: jinja2 in /usr/local/lib/python3.11/dist-packages (from torch==2.3.0) (3.1.6)\n",
            "Collecting nvidia-cuda-nvrtc-cu12==12.1.105 (from torch==2.3.0)\n",
            "  Downloading nvidia_cuda_nvrtc_cu12-12.1.105-py3-none-manylinux1_x86_64.whl.metadata (1.5 kB)\n",
            "Collecting nvidia-cuda-runtime-cu12==12.1.105 (from torch==2.3.0)\n",
            "  Downloading nvidia_cuda_runtime_cu12-12.1.105-py3-none-manylinux1_x86_64.whl.metadata (1.5 kB)\n",
            "Collecting nvidia-cuda-cupti-cu12==12.1.105 (from torch==2.3.0)\n",
            "  Downloading nvidia_cuda_cupti_cu12-12.1.105-py3-none-manylinux1_x86_64.whl.metadata (1.6 kB)\n",
            "Collecting nvidia-cudnn-cu12==8.9.2.26 (from torch==2.3.0)\n",
            "  Downloading nvidia_cudnn_cu12-8.9.2.26-py3-none-manylinux1_x86_64.whl.metadata (1.6 kB)\n",
            "Collecting nvidia-cublas-cu12==12.1.3.1 (from torch==2.3.0)\n",
            "  Downloading nvidia_cublas_cu12-12.1.3.1-py3-none-manylinux1_x86_64.whl.metadata (1.5 kB)\n",
            "Collecting nvidia-cufft-cu12==11.0.2.54 (from torch==2.3.0)\n",
            "  Downloading nvidia_cufft_cu12-11.0.2.54-py3-none-manylinux1_x86_64.whl.metadata (1.5 kB)\n",
            "Collecting nvidia-curand-cu12==10.3.2.106 (from torch==2.3.0)\n",
            "  Downloading nvidia_curand_cu12-10.3.2.106-py3-none-manylinux1_x86_64.whl.metadata (1.5 kB)\n",
            "Collecting nvidia-cusolver-cu12==11.4.5.107 (from torch==2.3.0)\n",
            "  Downloading nvidia_cusolver_cu12-11.4.5.107-py3-none-manylinux1_x86_64.whl.metadata (1.6 kB)\n",
            "Collecting nvidia-cusparse-cu12==12.1.0.106 (from torch==2.3.0)\n",
            "  Downloading nvidia_cusparse_cu12-12.1.0.106-py3-none-manylinux1_x86_64.whl.metadata (1.6 kB)\n",
            "Collecting nvidia-nccl-cu12==2.20.5 (from torch==2.3.0)\n",
            "  Downloading nvidia_nccl_cu12-2.20.5-py3-none-manylinux2014_x86_64.whl.metadata (1.8 kB)\n",
            "Collecting nvidia-nvtx-cu12==12.1.105 (from torch==2.3.0)\n",
            "  Downloading nvidia_nvtx_cu12-12.1.105-py3-none-manylinux1_x86_64.whl.metadata (1.7 kB)\n",
            "Collecting triton==2.3.0 (from torch==2.3.0)\n",
            "  Downloading triton-2.3.0-cp311-cp311-manylinux_2_17_x86_64.manylinux2014_x86_64.whl.metadata (1.4 kB)\n",
            "Requirement already satisfied: tqdm in /usr/local/lib/python3.11/dist-packages (from torchtext==0.18.0) (4.67.1)\n",
            "Requirement already satisfied: requests in /usr/local/lib/python3.11/dist-packages (from torchtext==0.18.0) (2.32.3)\n",
            "Requirement already satisfied: numpy in /usr/local/lib/python3.11/dist-packages (from torchtext==0.18.0) (2.0.2)\n",
            "Requirement already satisfied: nvidia-nvjitlink-cu12 in /usr/local/lib/python3.11/dist-packages (from nvidia-cusolver-cu12==11.4.5.107->torch==2.3.0) (12.5.82)\n",
            "Requirement already satisfied: MarkupSafe>=2.0 in /usr/local/lib/python3.11/dist-packages (from jinja2->torch==2.3.0) (3.0.2)\n",
            "Requirement already satisfied: charset-normalizer<4,>=2 in /usr/local/lib/python3.11/dist-packages (from requests->torchtext==0.18.0) (3.4.2)\n",
            "Requirement already satisfied: idna<4,>=2.5 in /usr/local/lib/python3.11/dist-packages (from requests->torchtext==0.18.0) (3.10)\n",
            "Requirement already satisfied: urllib3<3,>=1.21.1 in /usr/local/lib/python3.11/dist-packages (from requests->torchtext==0.18.0) (2.4.0)\n",
            "Requirement already satisfied: certifi>=2017.4.17 in /usr/local/lib/python3.11/dist-packages (from requests->torchtext==0.18.0) (2025.4.26)\n",
            "Requirement already satisfied: mpmath<1.4,>=1.1.0 in /usr/local/lib/python3.11/dist-packages (from sympy->torch==2.3.0) (1.3.0)\n",
            "Downloading torch-2.3.0-cp311-cp311-manylinux1_x86_64.whl (779.2 MB)\n",
            "\u001b[2K   \u001b[90m━━━━━━━━━━━━━━━━━━━━━━━━━━━━━━━━━━━━━━━\u001b[0m \u001b[32m779.2/779.2 MB\u001b[0m \u001b[31m808.0 kB/s\u001b[0m eta \u001b[36m0:00:00\u001b[0m\n",
            "\u001b[?25hDownloading torchtext-0.18.0-cp311-cp311-manylinux1_x86_64.whl (2.0 MB)\n",
            "\u001b[2K   \u001b[90m━━━━━━━━━━━━━━━━━━━━━━━━━━━━━━━━━━━━━━━━\u001b[0m \u001b[32m2.0/2.0 MB\u001b[0m \u001b[31m65.5 MB/s\u001b[0m eta \u001b[36m0:00:00\u001b[0m\n",
            "\u001b[?25hDownloading fsspec-2023.6.0-py3-none-any.whl (163 kB)\n",
            "\u001b[2K   \u001b[90m━━━━━━━━━━━━━━━━━━━━━━━━━━━━━━━━━━━━━━━━\u001b[0m \u001b[32m163.8/163.8 kB\u001b[0m \u001b[31m12.7 MB/s\u001b[0m eta \u001b[36m0:00:00\u001b[0m\n",
            "\u001b[?25hDownloading nvidia_cublas_cu12-12.1.3.1-py3-none-manylinux1_x86_64.whl (410.6 MB)\n",
            "\u001b[2K   \u001b[90m━━━━━━━━━━━━━━━━━━━━━━━━━━━━━━━━━━━━━━━━\u001b[0m \u001b[32m410.6/410.6 MB\u001b[0m \u001b[31m3.7 MB/s\u001b[0m eta \u001b[36m0:00:00\u001b[0m\n",
            "\u001b[?25hDownloading nvidia_cuda_cupti_cu12-12.1.105-py3-none-manylinux1_x86_64.whl (14.1 MB)\n",
            "\u001b[2K   \u001b[90m━━━━━━━━━━━━━━━━━━━━━━━━━━━━━━━━━━━━━━━━\u001b[0m \u001b[32m14.1/14.1 MB\u001b[0m \u001b[31m70.7 MB/s\u001b[0m eta \u001b[36m0:00:00\u001b[0m\n",
            "\u001b[?25hDownloading nvidia_cuda_nvrtc_cu12-12.1.105-py3-none-manylinux1_x86_64.whl (23.7 MB)\n",
            "\u001b[2K   \u001b[90m━━━━━━━━━━━━━━━━━━━━━━━━━━━━━━━━━━━━━━━━\u001b[0m \u001b[32m23.7/23.7 MB\u001b[0m \u001b[31m65.7 MB/s\u001b[0m eta \u001b[36m0:00:00\u001b[0m\n",
            "\u001b[?25hDownloading nvidia_cuda_runtime_cu12-12.1.105-py3-none-manylinux1_x86_64.whl (823 kB)\n",
            "\u001b[2K   \u001b[90m━━━━━━━━━━━━━━━━━━━━━━━━━━━━━━━━━━━━━━━━\u001b[0m \u001b[32m823.6/823.6 kB\u001b[0m \u001b[31m47.5 MB/s\u001b[0m eta \u001b[36m0:00:00\u001b[0m\n",
            "\u001b[?25hDownloading nvidia_cudnn_cu12-8.9.2.26-py3-none-manylinux1_x86_64.whl (731.7 MB)\n",
            "\u001b[2K   \u001b[90m━━━━━━━━━━━━━━━━━━━━━━━━━━━━━━━━━━━━━━━\u001b[0m \u001b[32m731.7/731.7 MB\u001b[0m \u001b[31m836.9 kB/s\u001b[0m eta \u001b[36m0:00:00\u001b[0m\n",
            "\u001b[?25hDownloading nvidia_cufft_cu12-11.0.2.54-py3-none-manylinux1_x86_64.whl (121.6 MB)\n",
            "\u001b[2K   \u001b[90m━━━━━━━━━━━━━━━━━━━━━━━━━━━━━━━━━━━━━━━━\u001b[0m \u001b[32m121.6/121.6 MB\u001b[0m \u001b[31m7.4 MB/s\u001b[0m eta \u001b[36m0:00:00\u001b[0m\n",
            "\u001b[?25hDownloading nvidia_curand_cu12-10.3.2.106-py3-none-manylinux1_x86_64.whl (56.5 MB)\n",
            "\u001b[2K   \u001b[90m━━━━━━━━━━━━━━━━━━━━━━━━━━━━━━━━━━━━━━━━\u001b[0m \u001b[32m56.5/56.5 MB\u001b[0m \u001b[31m11.6 MB/s\u001b[0m eta \u001b[36m0:00:00\u001b[0m\n",
            "\u001b[?25hDownloading nvidia_cusolver_cu12-11.4.5.107-py3-none-manylinux1_x86_64.whl (124.2 MB)\n",
            "\u001b[2K   \u001b[90m━━━━━━━━━━━━━━━━━━━━━━━━━━━━━━━━━━━━━━━━\u001b[0m \u001b[32m124.2/124.2 MB\u001b[0m \u001b[31m7.4 MB/s\u001b[0m eta \u001b[36m0:00:00\u001b[0m\n",
            "\u001b[?25hDownloading nvidia_cusparse_cu12-12.1.0.106-py3-none-manylinux1_x86_64.whl (196.0 MB)\n",
            "\u001b[2K   \u001b[90m━━━━━━━━━━━━━━━━━━━━━━━━━━━━━━━━━━━━━━━━\u001b[0m \u001b[32m196.0/196.0 MB\u001b[0m \u001b[31m6.4 MB/s\u001b[0m eta \u001b[36m0:00:00\u001b[0m\n",
            "\u001b[?25hDownloading nvidia_nccl_cu12-2.20.5-py3-none-manylinux2014_x86_64.whl (176.2 MB)\n",
            "\u001b[2K   \u001b[90m━━━━━━━━━━━━━━━━━━━━━━━━━━━━━━━━━━━━━━━━\u001b[0m \u001b[32m176.2/176.2 MB\u001b[0m \u001b[31m6.7 MB/s\u001b[0m eta \u001b[36m0:00:00\u001b[0m\n",
            "\u001b[?25hDownloading nvidia_nvtx_cu12-12.1.105-py3-none-manylinux1_x86_64.whl (99 kB)\n",
            "\u001b[2K   \u001b[90m━━━━━━━━━━━━━━━━━━━━━━━━━━━━━━━━━━━━━━━━\u001b[0m \u001b[32m99.1/99.1 kB\u001b[0m \u001b[31m7.6 MB/s\u001b[0m eta \u001b[36m0:00:00\u001b[0m\n",
            "\u001b[?25hDownloading triton-2.3.0-cp311-cp311-manylinux_2_17_x86_64.manylinux2014_x86_64.whl (168.1 MB)\n",
            "\u001b[2K   \u001b[90m━━━━━━━━━━━━━━━━━━━━━━━━━━━━━━━━━━━━━━━━\u001b[0m \u001b[32m168.1/168.1 MB\u001b[0m \u001b[31m6.4 MB/s\u001b[0m eta \u001b[36m0:00:00\u001b[0m\n",
            "\u001b[?25hInstalling collected packages: triton, nvidia-nvtx-cu12, nvidia-nccl-cu12, nvidia-cusparse-cu12, nvidia-curand-cu12, nvidia-cufft-cu12, nvidia-cuda-runtime-cu12, nvidia-cuda-nvrtc-cu12, nvidia-cuda-cupti-cu12, nvidia-cublas-cu12, fsspec, nvidia-cusolver-cu12, nvidia-cudnn-cu12, torch, torchtext\n",
            "  Attempting uninstall: triton\n",
            "    Found existing installation: triton 3.2.0\n",
            "    Uninstalling triton-3.2.0:\n",
            "      Successfully uninstalled triton-3.2.0\n",
            "  Attempting uninstall: nvidia-nvtx-cu12\n",
            "    Found existing installation: nvidia-nvtx-cu12 12.4.127\n",
            "    Uninstalling nvidia-nvtx-cu12-12.4.127:\n",
            "      Successfully uninstalled nvidia-nvtx-cu12-12.4.127\n",
            "  Attempting uninstall: nvidia-nccl-cu12\n",
            "    Found existing installation: nvidia-nccl-cu12 2.21.5\n",
            "    Uninstalling nvidia-nccl-cu12-2.21.5:\n",
            "      Successfully uninstalled nvidia-nccl-cu12-2.21.5\n",
            "  Attempting uninstall: nvidia-cusparse-cu12\n",
            "    Found existing installation: nvidia-cusparse-cu12 12.5.1.3\n",
            "    Uninstalling nvidia-cusparse-cu12-12.5.1.3:\n",
            "      Successfully uninstalled nvidia-cusparse-cu12-12.5.1.3\n",
            "  Attempting uninstall: nvidia-curand-cu12\n",
            "    Found existing installation: nvidia-curand-cu12 10.3.6.82\n",
            "    Uninstalling nvidia-curand-cu12-10.3.6.82:\n",
            "      Successfully uninstalled nvidia-curand-cu12-10.3.6.82\n",
            "  Attempting uninstall: nvidia-cufft-cu12\n",
            "    Found existing installation: nvidia-cufft-cu12 11.2.3.61\n",
            "    Uninstalling nvidia-cufft-cu12-11.2.3.61:\n",
            "      Successfully uninstalled nvidia-cufft-cu12-11.2.3.61\n",
            "  Attempting uninstall: nvidia-cuda-runtime-cu12\n",
            "    Found existing installation: nvidia-cuda-runtime-cu12 12.5.82\n",
            "    Uninstalling nvidia-cuda-runtime-cu12-12.5.82:\n",
            "      Successfully uninstalled nvidia-cuda-runtime-cu12-12.5.82\n",
            "  Attempting uninstall: nvidia-cuda-nvrtc-cu12\n",
            "    Found existing installation: nvidia-cuda-nvrtc-cu12 12.5.82\n",
            "    Uninstalling nvidia-cuda-nvrtc-cu12-12.5.82:\n",
            "      Successfully uninstalled nvidia-cuda-nvrtc-cu12-12.5.82\n",
            "  Attempting uninstall: nvidia-cuda-cupti-cu12\n",
            "    Found existing installation: nvidia-cuda-cupti-cu12 12.5.82\n",
            "    Uninstalling nvidia-cuda-cupti-cu12-12.5.82:\n",
            "      Successfully uninstalled nvidia-cuda-cupti-cu12-12.5.82\n",
            "  Attempting uninstall: nvidia-cublas-cu12\n",
            "    Found existing installation: nvidia-cublas-cu12 12.5.3.2\n",
            "    Uninstalling nvidia-cublas-cu12-12.5.3.2:\n",
            "      Successfully uninstalled nvidia-cublas-cu12-12.5.3.2\n",
            "  Attempting uninstall: nvidia-cusolver-cu12\n",
            "    Found existing installation: nvidia-cusolver-cu12 11.6.3.83\n",
            "    Uninstalling nvidia-cusolver-cu12-11.6.3.83:\n",
            "      Successfully uninstalled nvidia-cusolver-cu12-11.6.3.83\n",
            "  Attempting uninstall: nvidia-cudnn-cu12\n",
            "    Found existing installation: nvidia-cudnn-cu12 9.3.0.75\n",
            "    Uninstalling nvidia-cudnn-cu12-9.3.0.75:\n",
            "      Successfully uninstalled nvidia-cudnn-cu12-9.3.0.75\n",
            "\u001b[31mERROR: pip's dependency resolver does not currently take into account all the packages that are installed. This behaviour is the source of the following dependency conflicts.\n",
            "torchvision 0.21.0+cu124 requires torch==2.6.0, but you have torch 2.3.0 which is incompatible.\n",
            "torchaudio 2.6.0+cu124 requires torch==2.6.0, but you have torch 2.3.0 which is incompatible.\n",
            "gcsfs 2025.3.2 requires fsspec==2025.3.2, but you have fsspec 2023.6.0 which is incompatible.\u001b[0m\u001b[31m\n",
            "\u001b[0mSuccessfully installed fsspec-2023.6.0 nvidia-cublas-cu12-12.1.3.1 nvidia-cuda-cupti-cu12-12.1.105 nvidia-cuda-nvrtc-cu12-12.1.105 nvidia-cuda-runtime-cu12-12.1.105 nvidia-cudnn-cu12-8.9.2.26 nvidia-cufft-cu12-11.0.2.54 nvidia-curand-cu12-10.3.2.106 nvidia-cusolver-cu12-11.4.5.107 nvidia-cusparse-cu12-12.1.0.106 nvidia-nccl-cu12-2.20.5 nvidia-nvtx-cu12-12.1.105 torch-2.3.0 torchtext-0.18.0 triton-2.3.0\n"
          ]
        }
      ],
      "source": [
        "!pip uninstall -y torch torchtext fsspec  # Session restart maybe required after this line, then re-run notebook\n",
        "!pip install torch==2.3.0 torchtext==0.18.0 fsspec==2023.6.0"
      ]
    },
    {
      "cell_type": "markdown",
      "metadata": {
        "id": "hap8WK4id4ET"
      },
      "source": [
        "- Note that this solution might require restarting the session for the changes to take effect.\n",
        "\n",
        "- After restarting the session with the updated packages, the installation step will be skipped, and the following code blocks will be executed successfully."
      ]
    },
    {
      "cell_type": "markdown",
      "metadata": {
        "id": "O7LSVDMgdr7j"
      },
      "source": [
        "#### Import relevant Python packages"
      ]
    },
    {
      "cell_type": "code",
      "execution_count": null,
      "metadata": {
        "id": "OrDCmLITeDrp"
      },
      "outputs": [],
      "source": [
        "# PyTorch core\n",
        "import torch\n",
        "from torch import Tensor\n",
        "import torch.nn as nn\n",
        "from torch.nn.utils.rnn import pad_sequence  # For sequence padding\n",
        "\n",
        "# Hugging Face datasets\n",
        "import datasets as ds\n",
        "\n",
        "# Data visualization\n",
        "import matplotlib.pyplot as plt\n",
        "\n",
        "# Progress bar for notebooks\n",
        "from tqdm.notebook import tqdm\n",
        "\n",
        "# TorchText vocabulary (import torchtext and suppress its deprecation warning)\n",
        "import torchtext; torchtext.disable_torchtext_deprecation_warning()\n",
        "from torchtext.vocab import build_vocab_from_iterator"
      ]
    },
    {
      "cell_type": "markdown",
      "metadata": {
        "id": "YsZ0CSn-FYtR"
      },
      "source": [
        "## RNN for SST-2 Classification"
      ]
    },
    {
      "cell_type": "markdown",
      "metadata": {
        "id": "S2ZDU-Vlhp3S"
      },
      "source": [
        "We start with training an RNN-based classifier on the SST-2 (Stanford Sentiment Treebank 2) sentiment analysis dataset. A core challenge is to handle the exploding gradient problem, which is especially relevant when training RNNs over long sequences. To mitigate this, we'll implement truncated backpropagation through time (BPTT), limiting how far the gradient is allowed to propagate."
      ]
    },
    {
      "cell_type": "markdown",
      "metadata": {
        "id": "MaYTi-tFh8vT"
      },
      "source": [
        "We walk through the following steps:\n",
        "\n",
        "1. Preprocessing the SST-2 dataset.\n",
        "\n",
        "2. Defining an appropriate RNN-based classifier\n",
        "\n",
        "3. Implementing custom gradient clipping through time manually (instead of relying solely on PyTorch's autograd)\n",
        "\n",
        "4. Saving hidden states and analyzing the effect of clipping on gradient flow."
      ]
    },
    {
      "cell_type": "markdown",
      "metadata": {
        "id": "lRiUsTi-Fk9l"
      },
      "source": [
        "### Load and Preprocess the SST-2 Dataset"
      ]
    },
    {
      "cell_type": "markdown",
      "metadata": {
        "id": "5k1Saji6g6GH"
      },
      "source": [
        "We begin by loading the SST-2 dataset using the datasets library and processing the text into a numerical format suitable for neural networks. We'll tokenize each sentence, build a vocabulary, and convert the tokens to integer indices."
      ]
    },
    {
      "cell_type": "markdown",
      "metadata": {
        "id": "tcwNw2rsi9-p"
      },
      "source": [
        "#### Load SST-2 dataset"
      ]
    },
    {
      "cell_type": "markdown",
      "metadata": {
        "id": "LMMo4UI39IWl"
      },
      "source": [
        "Load the dataset:"
      ]
    },
    {
      "cell_type": "code",
      "execution_count": null,
      "metadata": {
        "colab": {
          "base_uri": "https://localhost:8080/",
          "height": 432,
          "referenced_widgets": [
            "09718c15d4114481a87cf58db6122256",
            "02e09076472f4977884972ed4f7858c0",
            "351788e4df694ea8ac1ab0609661de3d",
            "dbbe667f3be747d294afea53dea57b94",
            "32492ec6411842c1a557af20a5e362e5",
            "8af1c2c8a44540058d013959a46d0276",
            "a5a31a26c7ad454b97bb75353aca4483",
            "02fdde83ad864cb898429490f6573b50",
            "d9476478a9764a7ea725962596291572",
            "5ee3a4d445c14cbabb1cb19e74e81902",
            "1dbf672f3cca49c3b86dde8e9cea9745",
            "d08fd96de0f940ae803835313ace040b",
            "2fecc20e4e5f4513a67898e9994a29b7",
            "58ac53690a844df1be429b76e7b3859a",
            "60e53bc4af6f4945b802a180bdd3de4d",
            "3f283e27a5b14a83b2a0a8b2216658ce",
            "4ebcc4ea93e749a79bdf41fc3171cfcf",
            "46c8a7614fb44e8a9266f5f0ad600dea",
            "9ee50a40ecf3466babf238ff7547c69d",
            "14b3eb4e6c294b3a9a2c302ef3db9baa",
            "0e5ab841c4d04c87aaaf89efb9d26b27",
            "e5903c0992a8426a982b747d5f9f1730",
            "3d2e78a2f3194371afa374da02c42829",
            "86f43cfb33f9445fb56e2aa01c7a761a",
            "a11d548fe9604872a984ddc03061e03e",
            "11714cfd40b44028a051012f22d06b47",
            "a559daef69924f1bbb71b64a7a5970bb",
            "5ce6d78f18e94d568fe8adcfee4befcb",
            "5ff34ddf80444afd9ca4a7f4dd79b6d1",
            "b1a3078e8583414d9027b9014cbac1b5",
            "0a386d767a19465f9d09b8d62b0bc70e",
            "01ff33c7beff4ff592839dab41a0cac5",
            "3c39251537cb47e48851404230f85cc5",
            "f52edf45ecf4410ab64d684a192b0cbf",
            "c064be1fe47a476fbeff9913ba52d0cd",
            "cd23f6522fcb4b54b9ff5bbebbe7c316",
            "6452b1220f0645378115238bc19f6822",
            "ad0f5f54adf744edbd9989276652fd8c",
            "8ca04e0bad32431c81ff1d61bf6003a5",
            "e4fa3a0363ce4687a53b90b933d0dd35",
            "b7effdbae39e40e6bd941e4dd51cf88b",
            "575a21628fd74ce5991d6b8b3ca0e06d",
            "777a9ecce158452093ad14af5b91baeb",
            "25ab98370600449fa6ef3cbc7616014b",
            "6b62aea7e40a4b7db66f8257e1fde760",
            "90f7d7fd7c0e4aa6af2cbfe0165aaf7c",
            "79d179926b4f4f729fc6be6cc8dbd450",
            "7a61ea7f2ae24332983ce8916e4067c5",
            "717a3f5afe9e4834a13046737e618486",
            "0c2c4a2bfc0347a0a10cded93f8ea9eb",
            "3a47f09c65dc41518677775cc8e3a7c0",
            "75cc6d894f134468ab8fa6a3c2f08410",
            "a990a3e40b914800ae5c76bb35345a37",
            "5890b665ee2b499cb647aa56a8abf280",
            "5492da6c79484ad8b35d92497e8c2182",
            "7c61bebda7244353ab68e0fbcbc9925f",
            "6dd44625bfeb4e1e901104867cfdaf4e",
            "656ec439bf184a68a7e9f4cbd7c42457",
            "1b55165a50fc4a199b397f87bafccf4c",
            "343d45de622b447b98038b86680e09cd",
            "d0a266bb934441178bedc17f330e5773",
            "bb8ed4aa5266413e898ba2fd5d436cf8",
            "2aab30ea80e14650bb743daa40002a06",
            "bc5187d174bc45ce876b180e2d73c5ac",
            "81d9a367bd034b0eb1be65a066aeaf44",
            "e315d708ca9c4d87be4c8401a7657503",
            "be84ac14b7834d2182fe08eaca094675",
            "fbd62c95efca479f8a93802a4dab5487",
            "cbe1ace035834bdab543fb444a83197c",
            "ae536390e617425083c9a437a2b444c7",
            "9a09cb387fdf418faab60bf65440668c",
            "1a63a3c9bef3405cb1d595d119ff447e",
            "1fb596066c584a439fe7b7a7b85bcac0",
            "bc2fc30b75844483b94f46c9a430fc5d",
            "f8eee65d727348aca0b85386f01bca12",
            "ad4ceaeb22584f2a9c06d03d5a48f8be",
            "3b3c64efe49d4d80a163e3223a58ee58",
            "43a40adf6a2b4e9b9e161ee4adc9c113",
            "387a3aceab554af8a50baf11a0fe3f8a",
            "e5c5115519f54ad58a42d8cb32500b9a",
            "ee6c5ff9ec2447d5898980c37a16ff15",
            "4897bfd470ba4c908f0fedeb6dd70880",
            "7d7d1bd3cd92422f9a389b33f38976e3",
            "8082b3a2a31e449599feb9dae09b73cd",
            "3a0bdc57914844f6829c1171763780e1",
            "82e5ae348dd6467dba9b8635bbb87abe",
            "57580ab2e1e542a49135cfe8f041cb0d",
            "46632aa2649c43e7b984d013ac9181af",
            "234ba67614384d4086e0dabf3c613a20",
            "f9da6c7cc2294b7a9d6b00691bb41461",
            "e50319ebce524baf81f30850966aeb22",
            "5a6962a74a684980a971668ffc780d3e",
            "fc9d5c68ee0542aa90575cdb3fd810df",
            "6c984d0797eb4c509027356fbe22f321",
            "cb1d816f76d542a3b50c81bd902d5659",
            "8d94fe6e37cf45fe98b48f54efa01c3d",
            "d44cd17a738c455da5028a7db193e99c",
            "62c8ae66504743aaa9e10a328eb23588",
            "16daf8ceabc842ff8b1cacf85bc933c7"
          ]
        },
        "id": "HBhn4syrjAD6",
        "outputId": "95b88258-2c97-4a0f-a608-1019c47ba3d4"
      },
      "outputs": [
        {
          "name": "stderr",
          "output_type": "stream",
          "text": [
            "/usr/local/lib/python3.11/dist-packages/huggingface_hub/utils/_auth.py:94: UserWarning: \n",
            "The secret `HF_TOKEN` does not exist in your Colab secrets.\n",
            "To authenticate with the Hugging Face Hub, create a token in your settings tab (https://huggingface.co/settings/tokens), set it as secret in your Google Colab and restart your session.\n",
            "You will be able to reuse this secret in all of your notebooks.\n",
            "Please note that authentication is recommended but still optional to access public models or datasets.\n",
            "  warnings.warn(\n"
          ]
        },
        {
          "data": {
            "application/vnd.jupyter.widget-view+json": {
              "model_id": "09718c15d4114481a87cf58db6122256",
              "version_major": 2,
              "version_minor": 0
            },
            "text/plain": [
              "Downloading readme:   0%|          | 0.00/35.3k [00:00<?, ?B/s]"
            ]
          },
          "metadata": {},
          "output_type": "display_data"
        },
        {
          "data": {
            "application/vnd.jupyter.widget-view+json": {
              "model_id": "d08fd96de0f940ae803835313ace040b",
              "version_major": 2,
              "version_minor": 0
            },
            "text/plain": [
              "Downloading data files:   0%|          | 0/3 [00:00<?, ?it/s]"
            ]
          },
          "metadata": {},
          "output_type": "display_data"
        },
        {
          "data": {
            "application/vnd.jupyter.widget-view+json": {
              "model_id": "3d2e78a2f3194371afa374da02c42829",
              "version_major": 2,
              "version_minor": 0
            },
            "text/plain": [
              "Downloading data:   0%|          | 0.00/148k [00:00<?, ?B/s]"
            ]
          },
          "metadata": {},
          "output_type": "display_data"
        },
        {
          "data": {
            "application/vnd.jupyter.widget-view+json": {
              "model_id": "f52edf45ecf4410ab64d684a192b0cbf",
              "version_major": 2,
              "version_minor": 0
            },
            "text/plain": [
              "Downloading data:   0%|          | 0.00/3.11M [00:00<?, ?B/s]"
            ]
          },
          "metadata": {},
          "output_type": "display_data"
        },
        {
          "data": {
            "application/vnd.jupyter.widget-view+json": {
              "model_id": "6b62aea7e40a4b7db66f8257e1fde760",
              "version_major": 2,
              "version_minor": 0
            },
            "text/plain": [
              "Downloading data:   0%|          | 0.00/72.8k [00:00<?, ?B/s]"
            ]
          },
          "metadata": {},
          "output_type": "display_data"
        },
        {
          "data": {
            "application/vnd.jupyter.widget-view+json": {
              "model_id": "7c61bebda7244353ab68e0fbcbc9925f",
              "version_major": 2,
              "version_minor": 0
            },
            "text/plain": [
              "Extracting data files:   0%|          | 0/3 [00:00<?, ?it/s]"
            ]
          },
          "metadata": {},
          "output_type": "display_data"
        },
        {
          "data": {
            "application/vnd.jupyter.widget-view+json": {
              "model_id": "be84ac14b7834d2182fe08eaca094675",
              "version_major": 2,
              "version_minor": 0
            },
            "text/plain": [
              "Generating test split:   0%|          | 0/1821 [00:00<?, ? examples/s]"
            ]
          },
          "metadata": {},
          "output_type": "display_data"
        },
        {
          "data": {
            "application/vnd.jupyter.widget-view+json": {
              "model_id": "43a40adf6a2b4e9b9e161ee4adc9c113",
              "version_major": 2,
              "version_minor": 0
            },
            "text/plain": [
              "Generating train split:   0%|          | 0/67349 [00:00<?, ? examples/s]"
            ]
          },
          "metadata": {},
          "output_type": "display_data"
        },
        {
          "data": {
            "application/vnd.jupyter.widget-view+json": {
              "model_id": "234ba67614384d4086e0dabf3c613a20",
              "version_major": 2,
              "version_minor": 0
            },
            "text/plain": [
              "Generating validation split:   0%|          | 0/872 [00:00<?, ? examples/s]"
            ]
          },
          "metadata": {},
          "output_type": "display_data"
        }
      ],
      "source": [
        "train_data = ds.load_dataset(\"glue\", \"sst2\")[\"train\"]\n",
        "sentence_list = train_data[\"sentence\"]\n",
        "int_labels_list = train_data[\"label\"]"
      ]
    },
    {
      "cell_type": "markdown",
      "metadata": {
        "id": "t0YCNhVa_kDE"
      },
      "source": [
        "Explore the dataset"
      ]
    },
    {
      "cell_type": "code",
      "execution_count": null,
      "metadata": {
        "colab": {
          "base_uri": "https://localhost:8080/"
        },
        "id": "JYDnQdYz_mXq",
        "outputId": "8c1f8e91-dafa-43b3-dacc-aeaa12a18c39"
      },
      "outputs": [
        {
          "name": "stdout",
          "output_type": "stream",
          "text": [
            "0: hide new secretions from the parental units  --> 0 (Negative)\n",
            "1: contains no wit , only labored gags  --> 0 (Negative)\n",
            "2: that loves its characters and communicates something rather beautiful about human nature  --> 1 (Positive)\n",
            "3: remains utterly satisfied to remain the same throughout  --> 0 (Negative)\n",
            "4: on the worst revenge-of-the-nerds clichés the filmmakers could dredge up  --> 0 (Negative)\n",
            "5: that 's far too tragic to merit such superficial treatment  --> 0 (Negative)\n",
            "6: demonstrates that the director of such hollywood blockbusters as patriot games can still turn out a small , personal film with an emotional wallop .  --> 1 (Positive)\n",
            "7: of saucy  --> 1 (Positive)\n",
            "8: a depressed fifteen-year-old 's suicidal poetry  --> 0 (Negative)\n",
            "9: are more deeply thought through than in most ` right-thinking ' films  --> 1 (Positive)\n"
          ]
        }
      ],
      "source": [
        "for i, (sentence, int_label) in enumerate(zip(sentence_list[:10], int_labels_list[:10])):\n",
        "    print(f\"{i}: {sentence} --> {int_label} ({'Positive' if int_label else 'Negative'})\")"
      ]
    },
    {
      "cell_type": "markdown",
      "metadata": {
        "id": "UAzeTq1Pi8f9"
      },
      "source": [
        "#### Tokenize"
      ]
    },
    {
      "cell_type": "code",
      "execution_count": null,
      "metadata": {
        "colab": {
          "base_uri": "https://localhost:8080/"
        },
        "id": "cOmBsq0DjVl2",
        "outputId": "435011f8-fce8-4f88-8044-3f7ca0400651"
      },
      "outputs": [
        {
          "name": "stdout",
          "output_type": "stream",
          "text": [
            "0: ['hide', 'new', 'secretions', 'from', 'the', 'parental', 'units']\n",
            "1: ['contains', 'no', 'wit', ',', 'only', 'labored', 'gags']\n",
            "2: ['that', 'loves', 'its', 'characters', 'and', 'communicates', 'something', 'rather', 'beautiful', 'about', 'human', 'nature']\n",
            "3: ['remains', 'utterly', 'satisfied', 'to', 'remain', 'the', 'same', 'throughout']\n",
            "4: ['on', 'the', 'worst', 'revenge-of-the-nerds', 'clichés', 'the', 'filmmakers', 'could', 'dredge', 'up']\n",
            "5: ['that', \"'s\", 'far', 'too', 'tragic', 'to', 'merit', 'such', 'superficial', 'treatment']\n",
            "6: ['demonstrates', 'that', 'the', 'director', 'of', 'such', 'hollywood', 'blockbusters', 'as', 'patriot', 'games', 'can', 'still', 'turn', 'out', 'a', 'small', ',', 'personal', 'film', 'with', 'an', 'emotional', 'wallop', '.']\n",
            "7: ['of', 'saucy']\n",
            "8: ['a', 'depressed', 'fifteen-year-old', \"'s\", 'suicidal', 'poetry']\n",
            "9: ['are', 'more', 'deeply', 'thought', 'through', 'than', 'in', 'most', '`', 'right-thinking', \"'\", 'films']\n"
          ]
        }
      ],
      "source": [
        "tokenizer = lambda x: x.split()\n",
        "tokenized = list(map(tokenizer, sentence_list))\n",
        "\n",
        "for i, token_list in enumerate(tokenized[:10]):\n",
        "    print(f\"{i}: {token_list}\")"
      ]
    },
    {
      "cell_type": "markdown",
      "metadata": {
        "id": "zrIuhQYJgQ-b"
      },
      "source": [
        "- Use simple whitespace splitting for tokenization.\n",
        "\n",
        "- Simple whitespace splitting tokenizes text quickly and efficiently without extra dependencies, making it ideal for clean, well-formatted data. It is a straightforward method that works well for many basic NLP tasks."
      ]
    },
    {
      "cell_type": "markdown",
      "metadata": {
        "id": "JnfbjwfNjXay"
      },
      "source": [
        "#### Build vocabulary"
      ]
    },
    {
      "cell_type": "code",
      "execution_count": null,
      "metadata": {
        "colab": {
          "base_uri": "https://localhost:8080/"
        },
        "id": "i5rIrKyDjacD",
        "outputId": "314bf07b-e5ec-4261-e82b-03d6606f5777"
      },
      "outputs": [
        {
          "name": "stdout",
          "output_type": "stream",
          "text": [
            "0: <UNK>\n",
            "1: the\n",
            "2: ,\n",
            "3: a\n",
            "4: and\n",
            "5: of\n",
            "6: .\n",
            "7: to\n",
            "8: 's\n",
            "9: is\n"
          ]
        }
      ],
      "source": [
        "vocab = build_vocab_from_iterator(tokenized, specials=[\"<UNK>\"], min_freq=5)\n",
        "vocab.set_default_index(vocab[\"<UNK>\"])\n",
        "\n",
        "for i, token in enumerate(vocab.get_itos()[:10]):\n",
        "    print(f\"{i}: {token}\")"
      ]
    },
    {
      "cell_type": "markdown",
      "metadata": {
        "id": "oePPRcOgfgxQ"
      },
      "source": [
        "- Setting the minimum frequency to 5 (`min_freq=5`) means that only tokens appearing at least 5 times in the dataset will be included in the vocabulary. This helps reduce vocabulary size by filtering out rare words, which can improve model efficiency and generalization.\n",
        "\n",
        "- The `specials=[\"<UNK>\"]` argument adds a special token `<UNK>` to the vocabulary, which is used to represent any word that is not found in the vocabulary (i.e., rare or unseen words). This ensures the model can handle unknown tokens gracefully during inference."
      ]
    },
    {
      "cell_type": "markdown",
      "metadata": {
        "id": "GbSW8R_hjcpm"
      },
      "source": [
        "#### Map tokenized sentences to integers"
      ]
    },
    {
      "cell_type": "code",
      "execution_count": null,
      "metadata": {
        "colab": {
          "base_uri": "https://localhost:8080/"
        },
        "id": "FjXRGoJ4jemv",
        "outputId": "c12b3a5a-e9f4-4291-a359-20416f24d3e2"
      },
      "outputs": [
        {
          "name": "stdout",
          "output_type": "stream",
          "text": [
            "0: tensor([ 4575,    93,     0,    36,     1,  7746, 10013]) --> 0 (Negative)\n",
            "1: tensor([2924,   61,  330,    2,   89, 1993,  549]) --> 0 (Negative)\n",
            "2: tensor([  10, 1792,   17,   54,    4, 6088,   96,  186,  265,   34,  178,  627]) --> 1 (Positive)\n",
            "3: tensor([ 594,  682, 6402,    7, 2008,    1,  290,  704]) --> 0 (Negative)\n",
            "4: tensor([  24,    1,  255, 5415,  552,    1,  358,  117, 4856,   53]) --> 0 (Negative)\n",
            "5: tensor([  10,    8,  173,   50,  783,    7, 1841,  121,  954, 1038]) --> 0 (Negative)\n",
            "6: tensor([2719,   10,    1,  108,    5,  121,  163, 3470,   13, 7012, 1446,   65,\n",
            "         151,  417,   49,    3,  397,    2,  531,   16,   14,   15,  207, 3148,\n",
            "           6]) --> 1 (Positive)\n",
            "7: tensor([   5, 7101]) --> 1 (Positive)\n",
            "8: tensor([   3, 3844, 7500,    8, 7924,  857]) --> 0 (Negative)\n",
            "9: tensor([  37,   27,  334,  782,  100,   31,   11,   43,   67, 7082,   45,  118]) --> 1 (Positive)\n"
          ]
        }
      ],
      "source": [
        "stoi = lambda x: torch.tensor(vocab(x), dtype=torch.long)\n",
        "integer_tokens = list(map(stoi, tokenized))\n",
        "labels = list(map(torch.tensor, int_labels_list))\n",
        "\n",
        "for i, (tokenized_sentence, int_label) in enumerate(zip(integer_tokens[:10], labels[:10])):\n",
        "    print(f\"{i}: {tokenized_sentence} --> {int_label} ({'Positive' if int_label else 'Negative'})\")"
      ]
    },
    {
      "cell_type": "markdown",
      "metadata": {
        "id": "-dn3lFMogqWG"
      },
      "source": [
        "- This way we convert tokens into integer IDs using the vocabulary and then into PyTorch tensors, making the data ready for model input. It is an efficient way to transform text and labels into numeric format for training."
      ]
    },
    {
      "cell_type": "markdown",
      "metadata": {
        "id": "DFLCUvH027EE"
      },
      "source": [
        "#### Section summary"
      ]
    },
    {
      "cell_type": "markdown",
      "metadata": {
        "id": "_z2W1SxNjeOL"
      },
      "source": [
        "After this step, we have a list of tokenized sentences represented as integer tensors, and corresponding label tensors. These will serve as inputs to our RNN model."
      ]
    },
    {
      "cell_type": "markdown",
      "metadata": {
        "id": "e7Jj5oIqkYhQ"
      },
      "source": [
        "### Define an RNN Model with Truncated BPTT for SST-2 Classification"
      ]
    },
    {
      "cell_type": "markdown",
      "metadata": {
        "id": "2VZQFbHAkhoX"
      },
      "source": [
        "Next, we define a simple RNN-based model for sentiment classification task on the SST-2 dataset.\n",
        "\n",
        "The task is to classify whether a given sentence expresses a positive or negative sentiment. Since SST-2 is a binary classification dataset, we design a model that processes a variable-length sequence of word embeddings using an RNN, and then classifies the sentence based on the final hidden state.\n",
        "\n",
        "We implement the model using PyTorch's RNN module (`nn.RNN`), combined with an embedding layer (`nn.Embedding`) and a fully connected (`nn.Linear`) output layer.\n",
        "\n",
        "To address the exploding gradient problem common in training RNNs on long sequences, we implement truncated backpropagation through time (BPTT) within the model's forward method. This is done by detaching the hidden state every $t$ tokens, which limits the gradient flow to the last $t$ steps and stabilizes training.\n",
        "\n",
        "Additionally, to enable gradient monitoring (for section **1.d**), the model supports an optional `retain_grad` flag in the forward method. When enabled, it allows intermediate hidden states to retain gradients, which can be used for visualizing and analyzing the gradient flow through time. This is particularly useful for understanding how well the model is able to propagate information across time steps and for debugging vanishing/exploding gradient issues."
      ]
    },
    {
      "cell_type": "code",
      "execution_count": null,
      "metadata": {
        "id": "p9EJMiQtlU0P"
      },
      "outputs": [],
      "source": [
        "class RNNClassifier(nn.Module):\n",
        "    \"\"\"\n",
        "    An RNN-based model with truncated backpropagation through time (BPTT) for binary sentiment classification.\n",
        "\n",
        "    The model includes an embedding layer, an RNN layer, and a final linear classifier. During the forward pass,\n",
        "    truncated BPTT is implemented by detaching the hidden state every `t` time steps, which limits how far gradients\n",
        "    can flow backward in time.\n",
        "    \"\"\"\n",
        "\n",
        "    def __init__(self, vocab_size: int, embedding_dim: int, hidden_dim: int, output_dim: int = 2) -> None:\n",
        "        \"\"\"\n",
        "        Initialize the RNNClassifier.\n",
        "\n",
        "        Args:\n",
        "            vocab_size (int): Size of the vocabulary.\n",
        "            embedding_dim (int): Dimensionality of word embeddings.\n",
        "            hidden_dim (int): Number of hidden units in the RNN.\n",
        "            output_dim (int): Number of output classes (default is 2 for binary classification).\n",
        "        \"\"\"\n",
        "        super(RNNClassifier, self).__init__()\n",
        "        self.embedding = nn.Embedding(vocab_size, embedding_dim)\n",
        "        self.rnn = nn.RNN(input_size=embedding_dim, hidden_size=hidden_dim, batch_first=True)\n",
        "        self.fc = nn.Linear(hidden_dim, output_dim)\n",
        "\n",
        "    def forward(self, x: Tensor, t: int, h_0: Tensor = None, monitor_grad: bool = False) -> tuple[Tensor, list[Tensor] | None]:\n",
        "        \"\"\"\n",
        "        Forward pass that support truncated BPTT, and returns intermediate hidden states for gradient monitoring.\n",
        "\n",
        "        Args:\n",
        "            x (Tensor): Input tensor of shape (batch_size, seq_len) containing token indices.\n",
        "            t (int): Truncation length - the number of time steps after which the hidden state is detached.\n",
        "            h_0 (Tensor, optional): Initial hidden state. Defaults to None, which initialize zeros.\n",
        "            monitor_grad (bool, optional): If True, retains gradients of hidden states and returns them. Defaults to False.\n",
        "\n",
        "        Returns:\n",
        "            Tensor: Output logits from final hidden state.\n",
        "            list[Tensor] | None: List of hidden states with retained gradients if monitor_grad is True, else None.\n",
        "        \"\"\"\n",
        "        batch_size, seq_len = x.size()\n",
        "        assert batch_size == 1, \"Only batch size 1 supported for truncated BPTT\"\n",
        "\n",
        "        # Initialize a list to store hidden states if monitor_grad is True\n",
        "        if monitor_grad:\n",
        "            hidden_states = []\n",
        "\n",
        "        # Initialize the hidden state for the RNN\n",
        "        h_t = h_0 or torch.zeros(1, batch_size, self.rnn.hidden_size, device=x.device)\n",
        "\n",
        "        # Process the input sequence token-by-token\n",
        "        for i in range(seq_len):\n",
        "            token = x[:, i].unsqueeze(1)            # Extract the current token and add a time dimension\n",
        "            embedded = self.embedding(token)        # Convert token index to embedding vector\n",
        "            output, h_t = self.rnn(embedded, h_t)   # Pass the embedded token and previous hidden state through the RNN\n",
        "\n",
        "            # Save hidden state with retained gradient for gradient monitoring and visualization\n",
        "            if monitor_grad:\n",
        "                h_t.retain_grad()\n",
        "                hidden_states.append(h_t)\n",
        "\n",
        "            # Detach hidden state every t steps to truncate gradient\n",
        "            if (i + 1) % t == 0:\n",
        "                h_t = h_t.detach()\n",
        "\n",
        "        # Remove the first dimension from the hidden state\n",
        "        final_hidden = h_t.squeeze(0)\n",
        "\n",
        "        # Pass the final hidden state through the fully connected layer to get logits\n",
        "        logits = self.fc(final_hidden)\n",
        "\n",
        "        # Return the logits, i.e., the forward pass output, and a list if monitored hidded states or None\n",
        "        return (logits, hidden_states) if monitor_grad else (logits, None)"
      ]
    },
    {
      "cell_type": "markdown",
      "metadata": {
        "id": "ZyxcHGKnoZE_"
      },
      "source": [
        "**Design Notes:**\n",
        "\n",
        "- The model is designed for binary sentiment classification using a simple RNN-based architecture.\n",
        "\n",
        "- Sentences are represented by the final hidden state of the RNN, a common technique in sequence classification tasks.\n",
        "\n",
        "- The input passes through an embedding layer, followed by an RNN layer and a final linear classifier.\n",
        "\n",
        "- The RNN uses `batch_first=True`, so inputs are shaped as `(batch_size, seq_len)`, which is more intuitive to handle.\n",
        "\n",
        "- To address exploding gradients, the model supports truncated backpropagation through time (BPTT) by detaching the hidden state every $t$ time steps during the forward pass.\n",
        "\n",
        "- The forward method operates token-by-token and currently supports only `batch_size=1` for simplicity.\n",
        "\n",
        "- The initial hidden state (`h_0`) defaults to `None`, letting PyTorch automatically use zero-initialized tensors.\n",
        "\n",
        "- The model optionally supports gradient monitoring by retaining gradients on intermediate hidden states during the forward pass, which enables visualization and analysis of gradient flow across time steps."
      ]
    },
    {
      "cell_type": "markdown",
      "metadata": {
        "id": "5LvXdGvxHAVA"
      },
      "source": [
        "### Monitor and Visualize Gradient Flow in Truncated BPTT"
      ]
    },
    {
      "cell_type": "markdown",
      "metadata": {
        "id": "adh0xggf2NSf"
      },
      "source": [
        "In this section, we aim to observe and demonstrate that the gradient of the loss with respect to the hidden states does not propagate beyond $t$ time steps, as expected when using truncated backpropagation through time (BPTT).\n",
        "\n",
        "We'll do this by:\n",
        "\n",
        "- Saving the hidden states during the forward pass (implemented already in the previous sections).\n",
        "\n",
        "- Training the model on a few sample sentences.\n",
        "\n",
        "- Monitoring the gradient norms of those hidden states.\n",
        "\n",
        "- Plotting the gradient norms as a function of time steps.\n",
        "\n",
        "This will confirm that the gradients \"stop\" at intervals of length $t$."
      ]
    },
    {
      "cell_type": "markdown",
      "metadata": {
        "id": "DgXanMkc2iTy"
      },
      "source": [
        "#### Prepare a small subset of data for visualization"
      ]
    },
    {
      "cell_type": "markdown",
      "metadata": {
        "id": "Ot52-Iis2lhf"
      },
      "source": [
        "To keep things manageable and interpretable, we'll use only a few short sentences for this analysis."
      ]
    },
    {
      "cell_type": "code",
      "execution_count": null,
      "metadata": {
        "id": "u_VWfp3q2kI5"
      },
      "outputs": [],
      "source": [
        "n_samples = 10\n",
        "sample_sentences = integer_tokens[:n_samples]\n",
        "sample_labels = labels[:n_samples]"
      ]
    },
    {
      "cell_type": "markdown",
      "metadata": {
        "id": "_0yUpQPH2sxb"
      },
      "source": [
        "#### Define training components"
      ]
    },
    {
      "cell_type": "markdown",
      "metadata": {
        "id": "EhsmzCEX3Y5H"
      },
      "source": [
        "Set hyperparameters"
      ]
    },
    {
      "cell_type": "code",
      "execution_count": null,
      "metadata": {
        "id": "ZsqN9pZ03auw"
      },
      "outputs": [],
      "source": [
        "embedding_dim = 32\n",
        "hidden_dim = 64\n",
        "learning_rate = 0.01\n",
        "t_truncate = 7  # Truncation step"
      ]
    },
    {
      "cell_type": "markdown",
      "metadata": {
        "id": "963hYwLL3-fW"
      },
      "source": [
        "- We choose a small model for speed and interpretability.\n",
        "\n",
        "- While we could experiment with different values for `embedding_dim`, `hidden_dim`, and `learning_rate`, the specific choices don't matter here since we're not optimizing for performance in this question. Our goal is to visualize how gradient sizes change as a function of the number of iterations.\n",
        "\n",
        "- The setting of `t_truncate = 7` will control the maximum gradient flow length."
      ]
    },
    {
      "cell_type": "markdown",
      "metadata": {
        "id": "O5qIAwht2u7t"
      },
      "source": [
        "Print sentence lengths to verify $T > t$ for at least some samples"
      ]
    },
    {
      "cell_type": "code",
      "execution_count": null,
      "metadata": {
        "colab": {
          "base_uri": "https://localhost:8080/"
        },
        "id": "j8FsxoGR22ij",
        "outputId": "138abf77-27e6-40a4-8e91-b318c87e51f3"
      },
      "outputs": [
        {
          "data": {
            "text/plain": [
              "[7, 7, 12, 8, 10, 10, 25, 2, 6, 12]"
            ]
          },
          "execution_count": 12,
          "metadata": {},
          "output_type": "execute_result"
        }
      ],
      "source": [
        "[s.size(0) for s in sample_sentences]"
      ]
    },
    {
      "cell_type": "markdown",
      "metadata": {
        "id": "Y2l3D6dm2-Gz"
      },
      "source": [
        "It is evident that some of the input sequences are longer than the truncation length `t_truncate` which set to `7`, so the effects of truncation will be observable."
      ]
    },
    {
      "cell_type": "markdown",
      "metadata": {
        "id": "BfVdObZe3dZL"
      },
      "source": [
        "Instantiate a model"
      ]
    },
    {
      "cell_type": "code",
      "execution_count": null,
      "metadata": {
        "id": "R5uoJXf23ghw"
      },
      "outputs": [],
      "source": [
        "model = RNNClassifier(len(vocab), embedding_dim, hidden_dim)\n",
        "loss_func = nn.CrossEntropyLoss()\n",
        "optimizer = torch.optim.Adam(model.parameters(), lr=learning_rate)"
      ]
    },
    {
      "cell_type": "markdown",
      "metadata": {
        "id": "hbUVCkK64fv5"
      },
      "source": [
        "#### Run a training step to collect gradient norms"
      ]
    },
    {
      "cell_type": "markdown",
      "metadata": {
        "id": "tNaQU4Qf4mjh"
      },
      "source": [
        "Perform a single training step on each sentence and record the gradient norm of each hidden state."
      ]
    },
    {
      "cell_type": "code",
      "execution_count": null,
      "metadata": {
        "id": "argZn2O74c3O"
      },
      "outputs": [],
      "source": [
        "gradient_norms_per_sentence = []\n",
        "\n",
        "model.train()\n",
        "for sentence, int_label in zip(sample_sentences, sample_labels):\n",
        "    x = sentence.unsqueeze(0)\n",
        "    y = int_label.unsqueeze(0)\n",
        "\n",
        "    optimizer.zero_grad()\n",
        "\n",
        "    # Forward pass with gradient monitoring enabled\n",
        "    logits, hidden_states = model(x, t=t_truncate, monitor_grad=True)\n",
        "\n",
        "    # Loss calculation and backward pass\n",
        "    loss = loss_func(logits, y)\n",
        "    loss.backward()\n",
        "\n",
        "    # Record gradient norm at each time step\n",
        "    grad_norms = [h.grad.norm().item() if h.grad is not None else 0.0 for h in hidden_states]\n",
        "    gradient_norms_per_sentence.append(grad_norms)\n",
        "\n",
        "    # Optimize\n",
        "    optimizer.step()"
      ]
    },
    {
      "cell_type": "markdown",
      "metadata": {
        "id": "JI6B_xJd5GO7"
      },
      "source": [
        "Each `hidden_state.grad` is recorded only if it exists (i.e., not `None`). If `h.grad` is `None`, it means no gradient reached that state, likely due to truncation, so we store `0.0`."
      ]
    },
    {
      "cell_type": "markdown",
      "metadata": {
        "id": "c6kpsrKr5RPc"
      },
      "source": [
        "#### Visualize gradient norms"
      ]
    },
    {
      "cell_type": "markdown",
      "metadata": {
        "id": "WJ0ra2ea5Uop"
      },
      "source": [
        "Now, we plot the gradient norms for each token position across all 5 sample sentences."
      ]
    },
    {
      "cell_type": "code",
      "execution_count": null,
      "metadata": {
        "colab": {
          "base_uri": "https://localhost:8080/",
          "height": 507
        },
        "id": "kSgqcmib4dUQ",
        "outputId": "53f50e1c-889b-49f7-d6b5-437f4867fa72"
      },
      "outputs": [
        {
          "data": {
            "image/png": "[encoded data removed]",
            "text/plain": [
              "<Figure size 1000x500 with 1 Axes>"
            ]
          },
          "metadata": {},
          "output_type": "display_data"
        }
      ],
      "source": [
        "plt.figure(figsize=(10, 5))\n",
        "\n",
        "for i, grad_norms in enumerate(gradient_norms_per_sentence):\n",
        "    plt.plot(grad_norms, label=f\"Sentence {i+1}\")\n",
        "\n",
        "plt.xlabel(\"Time Step (Token Index)\")\n",
        "plt.ylabel(\"Gradient Norm\")\n",
        "plt.title(f\"Gradient Norms per Time Step (Truncated BPTT with $t={t_truncate}$)\")\n",
        "plt.legend()\n",
        "plt.grid(True)\n",
        "plt.tight_layout()\n",
        "plt.show()"
      ]
    },
    {
      "cell_type": "markdown",
      "metadata": {
        "id": "BIlvylQ65ilr"
      },
      "source": [
        "This plot shows the magnitude of gradients for each hidden state as a function of its position in the sentence. One can observe a repeating pattern, where the gradient \"resets\" every $t$ steps (e.g., spikes followed by zeros), confirming that gradients are not propagated beyond $t$ time steps."
      ]
    },
    {
      "cell_type": "markdown",
      "metadata": {
        "id": "YErAvhaf5uMB"
      },
      "source": [
        "#### Conclusion"
      ]
    },
    {
      "cell_type": "markdown",
      "metadata": {
        "id": "6jCW1Z7l5vpp"
      },
      "source": [
        "By visualizing the gradient norms, we've demonstrated that truncated BPTT prevents gradient propagation beyond $t$ steps. This method mitigates the exploding (or vanishing) gradient problem by limiting how much temporal context the model considers during each backward pass."
      ]
    },
    {
      "cell_type": "markdown",
      "metadata": {
        "id": "Fj_QIvEQWG34"
      },
      "source": [
        "## RNN Cell with Reset Gate"
      ]
    },
    {
      "cell_type": "markdown",
      "metadata": {
        "id": "XLYxy2EEanjg"
      },
      "source": [
        "In this part, we implement a custom RNN cell that includes a reset gate dependent only on the current input token $x_t$.\n",
        "\n",
        "The reset gate allows the network to selectively forget parts of the hidden state based only on the input at the current timestep, without considering the previous hidden state.\n",
        "\n",
        "The reset gate is computed by passing the input through a linear transformation followed by a sigmoid activation. This gate is then applied element-wise to the candidate hidden state, which is calculated in the typical Elman RNN manner using both the input and the previous hidden state.\n",
        "\n",
        "The resulting hidden state is the gated candidate state, allowing the model to \"reset\" or preserve information dynamically depending on the input."
      ]
    },
    {
      "cell_type": "markdown",
      "metadata": {
        "id": "ne6rIMPybMDH"
      },
      "source": [
        "This design can help the model learn to ignore or reset hidden information when certain inputs appear, which might be useful for detecting boundaries or specific tokens in sequences."
      ]
    },
    {
      "cell_type": "markdown",
      "metadata": {
        "id": "GAs3NIUfba8Q"
      },
      "source": [
        "### Reset RNN Cell Class Definition"
      ]
    },
    {
      "cell_type": "code",
      "execution_count": null,
      "metadata": {
        "id": "jBPhsoEObaS5"
      },
      "outputs": [],
      "source": [
        "class ResetRNNCell(nn.Module):\n",
        "    \"\"\"\n",
        "    A custom RNN cell with a reset gate that depends only on the current input token.\n",
        "\n",
        "    Unlike traditional gated RNN cells that use previous hidden states in gating, this cell computes the reset gate R_t\n",
        "    using only the current input x_t. This allows the model to selectively reset or suppress parts of the candidate\n",
        "    hidden state based on the current input alone, potentially improving handling of token-specific resets.\n",
        "    \"\"\"\n",
        "    def __init__(self, input_dim: int, hidden_dim: int) -> None:\n",
        "        \"\"\"\n",
        "        Initialize the ResetRNNCell.\n",
        "\n",
        "        Args:\n",
        "            input_dim (int): Dimension of the input vector x_t.\n",
        "            hidden_dim (int): Dimension of the hidden state h_t.\n",
        "        \"\"\"\n",
        "        super().__init__()\n",
        "        self.input_dim = input_dim\n",
        "        self.hidden_dim = hidden_dim\n",
        "\n",
        "        self.W_ih = nn.Linear(input_dim, hidden_dim, bias=True)\n",
        "        self.W_hh = nn.Linear(hidden_dim, hidden_dim, bias=True)\n",
        "        self.W_r = nn.Linear(input_dim, hidden_dim, bias=True)  # Reset gate linear layer (input only)\n",
        "\n",
        "    def forward(self, x_t: Tensor, h_prev: Tensor) -> Tensor:\n",
        "        \"\"\"\n",
        "        Perform a single time step update using tanh and sigmoid functions, followed by h_hat_t * R_t multiplication.\n",
        "\n",
        "        Args:\n",
        "            x_t (Tensor): Input at time t.\n",
        "            h_prev (Tensor): Previous hidden state.\n",
        "\n",
        "        Returns:\n",
        "            Tensor: A new hidden state.\n",
        "        \"\"\"\n",
        "        # Candidate hidden state combining current input and previous hidden state\n",
        "        h_hat_t = torch.tanh(self.W_ih(x_t) + self.W_hh(h_prev))\n",
        "\n",
        "        # Reset gate calculated only by current input to control how much of h_hat_t to keep\n",
        "        R_t = torch.sigmoid(self.W_r(x_t))\n",
        "\n",
        "        # Return an element-wise gate application\n",
        "        h_t = h_hat_t * R_t\n",
        "        return h_t"
      ]
    },
    {
      "cell_type": "markdown",
      "metadata": {
        "id": "vgiA5JOFegkj"
      },
      "source": [
        "This implements a reset gate $R_t$ that depends only on the input $x_t$, i.e., not on $h_{t-1}$. This design allows the RNN to dynamically reset hidden units based on the current token alone, which may help in learning input-specific resets like phrase boundaries or important tokens.\n"
      ]
    },
    {
      "cell_type": "markdown",
      "metadata": {
        "id": "jrnzHFdJcfw5"
      },
      "source": [
        "### Reset RNN Classifier Class Definition"
      ]
    },
    {
      "cell_type": "markdown",
      "metadata": {
        "id": "0q8OzFFZcm15"
      },
      "source": [
        "Now, we implement a class that represents an RNN classifier model using our custom reset cell."
      ]
    },
    {
      "cell_type": "code",
      "execution_count": null,
      "metadata": {
        "id": "kBPy5gyzWI6I"
      },
      "outputs": [],
      "source": [
        "class ResetRNNClassifier(nn.Module):\n",
        "    \"\"\"\n",
        "    An RNN classifier that utilizes a reset gate using the custom ResetRNNCell.\n",
        "\n",
        "    This model embeds input token indices, applies the ResetRNNCell sequentially over time, and projects the final\n",
        "    hidden state to output logits for classification.\n",
        "    \"\"\"\n",
        "    def __init__(self, vocab_size: int, embedding_dim: int, hidden_dim: int, output_dim: int = 2) -> None:\n",
        "        \"\"\"\n",
        "        Initialize the ResetRNNClassifier.\n",
        "\n",
        "        Args:\n",
        "            vocab_size (int): Number of tokens in vocabulary.\n",
        "            embedding_dim (int): Dimension of input embeddings.\n",
        "            hidden_dim (int): Dimension of hidden state.\n",
        "            output_dim (int, optional): Number of output classes. Default is 2 for binary sentence sentiment classification.\n",
        "        \"\"\"\n",
        "        super().__init__()\n",
        "        self.embedding = nn.Embedding(vocab_size, embedding_dim)\n",
        "        self.reset = ResetRNNCell(embedding_dim, hidden_dim)\n",
        "        self.fc = nn.Linear(hidden_dim, output_dim)\n",
        "\n",
        "    def forward(self, x: Tensor) -> Tensor:\n",
        "        \"\"\"\n",
        "        Forward pass for a batch of sequences, which embeds each token, updates the hidden state sequentially through\n",
        "        ResetRNNCell, and outputs logits from the last hidden state for classification.\n",
        "\n",
        "        Args:\n",
        "            x (Tensor): Input batch of token indices.\n",
        "\n",
        "        Returns:\n",
        "            Tensor: Unnormalized class score for each class (logits).\n",
        "        \"\"\"\n",
        "        batch_size, seq_len = x.size()\n",
        "        device = x.device\n",
        "\n",
        "        # Initialize hidden state with zeros\n",
        "        h_t = torch.zeros(batch_size, self.reset.hidden_dim, device=device)\n",
        "\n",
        "        # Process sequence timestep by timestep\n",
        "        for t in range(seq_len):\n",
        "            x_t = self.embedding(x[:, t])\n",
        "            h_t = self.reset(x_t, h_t)\n",
        "\n",
        "        # Classify last hidden state using linear layer\n",
        "        logits = self.fc(h_t)\n",
        "        return logits"
      ]
    },
    {
      "cell_type": "markdown",
      "metadata": {
        "id": "TVhVekFOfcpG"
      },
      "source": [
        "**Explanation:**\n",
        "This classifier uses the `ResetRNNCell` to encode sequential input data, relying on the reset gate mechanism defined above. The model embeds tokens,iteratively updates hidden states with the custom reset gate behavior, and produces classification logits out of the the final hidden state. This design uses a reset gate dependent only on $x_t$, as requested."
      ]
    },
    {
      "cell_type": "markdown",
      "metadata": {
        "id": "G64Fb90DnCax"
      },
      "source": [
        "### Training the RNN"
      ]
    },
    {
      "cell_type": "markdown",
      "metadata": {
        "id": "e3Y7wOJKsg5v"
      },
      "source": [
        "Finally, we implement a training loop using the `ResetRNNClassifier` on a few sentences from the SST-2 dataset until we the model reach overfitting."
      ]
    },
    {
      "cell_type": "markdown",
      "metadata": {
        "id": "mO6lImuOs22Y"
      },
      "source": [
        "Prepare a small dataset subset (first 100 sentences)\n",
        "\n"
      ]
    },
    {
      "cell_type": "code",
      "execution_count": null,
      "metadata": {
        "id": "Up7t49W5fu7E"
      },
      "outputs": [],
      "source": [
        "subset_data_tokens = integer_tokens[:100]\n",
        "subset_labels = labels[:100]"
      ]
    },
    {
      "cell_type": "markdown",
      "metadata": {
        "id": "W98QvYyDtzUP"
      },
      "source": [
        "Instantiate model with cross-entropy loss and Adam optimizer"
      ]
    },
    {
      "cell_type": "code",
      "execution_count": null,
      "metadata": {
        "id": "PQmIhiP2tyDQ"
      },
      "outputs": [],
      "source": [
        "device = torch.device(\"cuda\" if torch.cuda.is_available() else \"cpu\")\n",
        "model = ResetRNNClassifier(vocab_size=len(vocab), embedding_dim=16, hidden_dim=32, output_dim=2).to(device)\n",
        "loss_func = nn.CrossEntropyLoss()\n",
        "optimizer = torch.optim.Adam(model.parameters(), lr=0.01)"
      ]
    },
    {
      "cell_type": "markdown",
      "metadata": {
        "id": "Ri7TRSfBFQD0"
      },
      "source": [
        "To select the optimal hyperparameters, all combinations of the following values were tested:\n",
        "\n",
        "- `embedding_dim`: 8, **16**, 32, 64, 128\n",
        "\n",
        "- `hidden_dim`: 8, 16, **32**, 64, 128, 256\n",
        "\n",
        "- learning rate (`lr`): 0.001, **0.01**, 0.05, 0.1\n",
        "\n",
        "The combination that achieved the highest accuracy (above 0.9) and lowest loss (below 0.1) on a subset of 100 examples was selected."
      ]
    },
    {
      "cell_type": "markdown",
      "metadata": {
        "id": "0ZmRDfI6tK5Y"
      },
      "source": [
        "Pad sequences to the max length in the subset for batch processing"
      ]
    },
    {
      "cell_type": "code",
      "execution_count": null,
      "metadata": {
        "id": "55vR5QjztZgb"
      },
      "outputs": [],
      "source": [
        "padded_tokens = pad_sequence(subset_data_tokens, batch_first=True).to(device)\n",
        "labels_tensor = torch.stack(subset_labels).to(device)"
      ]
    },
    {
      "cell_type": "markdown",
      "metadata": {
        "id": "tZCuC2jFtlbe"
      },
      "source": [
        "Training loop"
      ]
    },
    {
      "cell_type": "code",
      "execution_count": null,
      "metadata": {
        "colab": {
          "base_uri": "https://localhost:8080/",
          "height": 1000,
          "referenced_widgets": [
            "98f63cc362fb4da595fa0157e3f3b963",
            "c2d381f09ba54490a8da4ae3dfc014f3",
            "80b5383e930647cebd9b941c399e3109",
            "6a5db256f0174393bd21af180a09c9ae",
            "ce9bb12844ff46868290771678937bf9",
            "0f0e54a99b054c2e9826cea7a5388cae",
            "68859b38d35e488e9c8f196f77003a0d",
            "15a89a67b04a49c780329d25670d29db",
            "e4be7bd1e2bc4411b7faa2399390f2b4",
            "88627677d816426faf3a1a0174f7d57f",
            "0243b41a62a84043b6a5c1966b546382"
          ]
        },
        "id": "ATIQJPJnuXER",
        "outputId": "a2070c79-b35e-4297-bb33-2edc59546ca6"
      },
      "outputs": [
        {
          "data": {
            "application/vnd.jupyter.widget-view+json": {
              "model_id": "98f63cc362fb4da595fa0157e3f3b963",
              "version_major": 2,
              "version_minor": 0
            },
            "text/plain": [
              "Training:   0%|          | 0/100 [00:00<?, ?epoch/s]"
            ]
          },
          "metadata": {},
          "output_type": "display_data"
        },
        {
          "name": "stdout",
          "output_type": "stream",
          "text": [
            "Epoch 1: Loss=0.6930, Accuracy=50.00%\n",
            "Epoch 2: Loss=0.7048, Accuracy=51.00%\n",
            "Epoch 3: Loss=0.6911, Accuracy=51.00%\n",
            "Epoch 4: Loss=0.6948, Accuracy=50.00%\n",
            "Epoch 5: Loss=0.6962, Accuracy=50.00%\n",
            "Epoch 6: Loss=0.6925, Accuracy=50.00%\n",
            "Epoch 7: Loss=0.6896, Accuracy=50.00%\n",
            "Epoch 8: Loss=0.6893, Accuracy=51.00%\n",
            "Epoch 9: Loss=0.6904, Accuracy=51.00%\n",
            "Epoch 10: Loss=0.6908, Accuracy=51.00%\n",
            "Epoch 11: Loss=0.6901, Accuracy=51.00%\n",
            "Epoch 12: Loss=0.6889, Accuracy=51.00%\n",
            "Epoch 13: Loss=0.6880, Accuracy=51.00%\n",
            "Epoch 14: Loss=0.6877, Accuracy=51.00%\n",
            "Epoch 15: Loss=0.6881, Accuracy=51.00%\n",
            "Epoch 16: Loss=0.6883, Accuracy=50.00%\n",
            "Epoch 17: Loss=0.6881, Accuracy=51.00%\n",
            "Epoch 18: Loss=0.6876, Accuracy=51.00%\n",
            "Epoch 19: Loss=0.6870, Accuracy=51.00%\n",
            "Epoch 20: Loss=0.6866, Accuracy=51.00%\n",
            "Epoch 21: Loss=0.6865, Accuracy=51.00%\n",
            "Epoch 22: Loss=0.6865, Accuracy=51.00%\n",
            "Epoch 23: Loss=0.6865, Accuracy=51.00%\n",
            "Epoch 24: Loss=0.6862, Accuracy=51.00%\n",
            "Epoch 25: Loss=0.6858, Accuracy=51.00%\n",
            "Epoch 26: Loss=0.6853, Accuracy=51.00%\n",
            "Epoch 27: Loss=0.6848, Accuracy=52.00%\n",
            "Epoch 28: Loss=0.6845, Accuracy=51.00%\n",
            "Epoch 29: Loss=0.6841, Accuracy=51.00%\n",
            "Epoch 30: Loss=0.6834, Accuracy=51.00%\n",
            "Epoch 31: Loss=0.6822, Accuracy=51.00%\n",
            "Epoch 32: Loss=0.6799, Accuracy=53.00%\n",
            "Epoch 33: Loss=0.6752, Accuracy=56.00%\n",
            "Epoch 34: Loss=0.6719, Accuracy=52.00%\n",
            "Epoch 35: Loss=0.6703, Accuracy=59.00%\n",
            "Epoch 36: Loss=0.6607, Accuracy=61.00%\n",
            "Epoch 37: Loss=0.6562, Accuracy=61.00%\n",
            "Epoch 38: Loss=0.6184, Accuracy=69.00%\n",
            "Epoch 39: Loss=0.5974, Accuracy=70.00%\n",
            "Epoch 40: Loss=0.6579, Accuracy=65.00%\n",
            "Epoch 41: Loss=0.5217, Accuracy=78.00%\n",
            "Epoch 42: Loss=0.6025, Accuracy=68.00%\n",
            "Epoch 43: Loss=0.4785, Accuracy=81.00%\n",
            "Epoch 44: Loss=0.5192, Accuracy=75.00%\n",
            "Epoch 45: Loss=0.4782, Accuracy=79.00%\n",
            "Epoch 46: Loss=0.4324, Accuracy=84.00%\n",
            "Epoch 47: Loss=0.4506, Accuracy=80.00%\n",
            "Epoch 48: Loss=0.4055, Accuracy=85.00%\n",
            "Epoch 49: Loss=0.3740, Accuracy=87.00%\n",
            "Epoch 50: Loss=0.3814, Accuracy=88.00%\n",
            "Epoch 51: Loss=0.3258, Accuracy=88.00%\n",
            "Epoch 52: Loss=0.3131, Accuracy=87.00%\n",
            "Epoch 53: Loss=0.2782, Accuracy=88.00%\n",
            "Epoch 54: Loss=0.2394, Accuracy=92.00%\n",
            "Epoch 55: Loss=0.2555, Accuracy=91.00%\n",
            "Epoch 56: Loss=0.2115, Accuracy=93.00%\n",
            "Epoch 57: Loss=0.2969, Accuracy=90.00%\n",
            "Epoch 58: Loss=0.1937, Accuracy=93.00%\n",
            "Epoch 59: Loss=0.1619, Accuracy=95.00%\n",
            "Epoch 60: Loss=0.1607, Accuracy=95.00%\n",
            "Epoch 61: Loss=0.1606, Accuracy=95.00%\n",
            "Epoch 62: Loss=0.1605, Accuracy=95.00%\n",
            "Epoch 63: Loss=0.1605, Accuracy=95.00%\n",
            "Epoch 64: Loss=0.1576, Accuracy=95.00%\n",
            "Epoch 65: Loss=0.1536, Accuracy=95.00%\n",
            "Epoch 66: Loss=0.1465, Accuracy=96.00%\n",
            "Epoch 67: Loss=0.1373, Accuracy=96.00%\n",
            "Epoch 68: Loss=0.1319, Accuracy=96.00%\n",
            "Epoch 69: Loss=0.1282, Accuracy=96.00%\n",
            "Epoch 70: Loss=0.1070, Accuracy=97.00%\n",
            "Epoch 71: Loss=0.0804, Accuracy=98.00%\n",
            "Epoch 72: Loss=0.0794, Accuracy=98.00%\n",
            "Epoch 73: Loss=0.0778, Accuracy=98.00%\n",
            "Epoch 74: Loss=0.0763, Accuracy=98.00%\n",
            "Epoch 75: Loss=0.0750, Accuracy=98.00%\n",
            "Epoch 76: Loss=0.0740, Accuracy=98.00%\n",
            "Epoch 77: Loss=0.0731, Accuracy=98.00%\n",
            "Epoch 78: Loss=0.0720, Accuracy=98.00%\n",
            "Epoch 79: Loss=0.0709, Accuracy=98.00%\n",
            "Epoch 80: Loss=0.0697, Accuracy=98.00%\n",
            "Epoch 81: Loss=0.0687, Accuracy=98.00%\n",
            "Epoch 82: Loss=0.0676, Accuracy=98.00%\n",
            "Epoch 83: Loss=0.0661, Accuracy=98.00%\n",
            "Epoch 84: Loss=0.0639, Accuracy=98.00%\n",
            "Epoch 85: Loss=0.0605, Accuracy=98.00%\n",
            "Epoch 86: Loss=0.0561, Accuracy=98.00%\n",
            "Epoch 87: Loss=0.0490, Accuracy=98.00%\n",
            "Epoch 88: Loss=0.0410, Accuracy=99.00%\n",
            "Epoch 89: Loss=0.0314, Accuracy=99.00%\n",
            "Epoch 90: Loss=0.0251, Accuracy=99.00%\n",
            "Epoch 91: Loss=0.0212, Accuracy=100.00%\n",
            "Epoch 92: Loss=0.0194, Accuracy=100.00%\n",
            "Epoch 93: Loss=0.0181, Accuracy=99.00%\n",
            "Epoch 94: Loss=0.0164, Accuracy=99.00%\n",
            "Epoch 95: Loss=0.0134, Accuracy=100.00%\n",
            "Epoch 96: Loss=0.0103, Accuracy=100.00%\n",
            "Epoch 97: Loss=0.0084, Accuracy=100.00%\n",
            "Epoch 98: Loss=0.0059, Accuracy=100.00%\n",
            "Epoch 99: Loss=0.0045, Accuracy=100.00%\n",
            "Epoch 100: Loss=0.0041, Accuracy=100.00%\n"
          ]
        }
      ],
      "source": [
        "n_epochs = 100  # Enough epochs to ensure overfitting\n",
        "\n",
        "loss_history = []\n",
        "acc_history = []\n",
        "\n",
        "for epoch in tqdm(range(1, n_epochs + 1), desc=\"Training\", unit=\"epoch\"):\n",
        "    model.train()\n",
        "    optimizer.zero_grad()\n",
        "\n",
        "    logits = model(padded_tokens)\n",
        "    loss = loss_func(logits, labels_tensor)\n",
        "    loss.backward()\n",
        "    optimizer.step()\n",
        "\n",
        "    # Track loss and accuracy\n",
        "    preds = torch.argmax(logits, dim=1)\n",
        "    acc = (preds == labels_tensor).float().mean().item()\n",
        "    loss_history.append(loss.item())\n",
        "    acc_history.append(acc)\n",
        "    print(f\"Epoch {epoch}: Loss={loss.item():.4f}, Accuracy={acc * 100:.2f}%\")"
      ]
    },
    {
      "cell_type": "markdown",
      "metadata": {
        "id": "4GdfjWvds5eb"
      },
      "source": [
        "Plot training loss and accuracy curves"
      ]
    },
    {
      "cell_type": "code",
      "execution_count": null,
      "metadata": {
        "colab": {
          "base_uri": "https://localhost:8080/",
          "height": 350
        },
        "id": "Xhoa5dS-u5xi",
        "outputId": "ea0f0a0c-fb03-4340-f043-a04af87205ee"
      },
      "outputs": [
        {
          "data": {
            "image/png": "[encoded data removed]",
            "text/plain": [
              "<Figure size 1200x400 with 2 Axes>"
            ]
          },
          "metadata": {},
          "output_type": "display_data"
        }
      ],
      "source": [
        "# Create side-by-side subplots\n",
        "fig, axes = plt.subplots(1, 2, figsize=(12, 4))\n",
        "\n",
        "# Plot Loss\n",
        "axes[0].plot(loss_history, color='tab:red')\n",
        "axes[0].set_title(\"Training Loss\")\n",
        "axes[0].set_xlabel(\"Epoch\")\n",
        "axes[0].set_ylabel(\"Loss\")\n",
        "axes[0].grid(True)\n",
        "\n",
        "# Plot Accuracy\n",
        "axes[1].plot(acc_history, color='tab:blue')\n",
        "axes[1].set_title(\"Training Accuracy\")\n",
        "axes[1].set_xlabel(\"Epoch\")\n",
        "axes[1].set_ylabel(\"Accuracy\")\n",
        "axes[1].grid(True)\n",
        "\n",
        "plt.suptitle(\"Training on Small SST-2 Subset\", fontsize=14)\n",
        "plt.tight_layout()\n",
        "plt.show()"
      ]
    },
    {
      "cell_type": "markdown",
      "metadata": {
        "id": "Wh18R5hRC1KC"
      },
      "source": [
        "The plots show that the model initially struggles to learn, with loss and accuracy remaining flat for the first 30 epochs. Around epoch 30, both metrics improve significantly. The loss drops and accuracy rises sharply, indicating that the model begins learning effectively. By epoch 100, the model achieves a training accuracy of 1.0 and a low loss of 0.004, showing it successfully fits the training data. While overfitting is very likely due to the small dataset and naively good metrics, **the model clearly demonstrates the ability to learn**, although not to generalize."
      ]
    }
  ],
  "metadata": {
    "colab": {
      "gpuType": "T4",
      "include_colab_link": true,
      "provenance": []
    },
    "kernelspec": {
      "display_name": "Python 3",
      "name": "python3"
    },
    "language_info": {
      "name": "python"
    }
  },
  "nbformat": 4,
  "nbformat_minor": 0
}
